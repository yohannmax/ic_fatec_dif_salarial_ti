{
 "cells": [
  {
   "cell_type": "code",
   "execution_count": 3,
   "metadata": {},
   "outputs": [],
   "source": [
    "# Imports necessários:\n",
    "\n",
    "import pandas as pd\n",
    "import matplotlib.pyplot as plt\n",
    "import seaborn as sns\n",
    "\n",
    "# Opções gerais necessárias:\n",
    "\n",
    "pd.options.display.float_format = \"{:,.2f}\".format"
   ]
  },
  {
   "cell_type": "code",
   "execution_count": 4,
   "metadata": {},
   "outputs": [
    {
     "data": {
      "text/html": [
       "<div>\n",
       "<style scoped>\n",
       "    .dataframe tbody tr th:only-of-type {\n",
       "        vertical-align: middle;\n",
       "    }\n",
       "\n",
       "    .dataframe tbody tr th {\n",
       "        vertical-align: top;\n",
       "    }\n",
       "\n",
       "    .dataframe thead th {\n",
       "        text-align: right;\n",
       "    }\n",
       "</style>\n",
       "<table border=\"1\" class=\"dataframe\">\n",
       "  <thead>\n",
       "    <tr style=\"text-align: right;\">\n",
       "      <th></th>\n",
       "      <th>UF</th>\n",
       "      <th>CBO</th>\n",
       "      <th>CNAE</th>\n",
       "      <th>Escolaridade</th>\n",
       "      <th>Idade</th>\n",
       "      <th>Raça</th>\n",
       "      <th>Remuneração</th>\n",
       "      <th>Sexo</th>\n",
       "    </tr>\n",
       "  </thead>\n",
       "  <tbody>\n",
       "    <tr>\n",
       "      <th>0</th>\n",
       "      <td>AC</td>\n",
       "      <td>212405</td>\n",
       "      <td>63119</td>\n",
       "      <td>6</td>\n",
       "      <td>53</td>\n",
       "      <td>09</td>\n",
       "      <td>6,361.98</td>\n",
       "      <td>1</td>\n",
       "    </tr>\n",
       "    <tr>\n",
       "      <th>1</th>\n",
       "      <td>AC</td>\n",
       "      <td>317205</td>\n",
       "      <td>63119</td>\n",
       "      <td>6</td>\n",
       "      <td>50</td>\n",
       "      <td>09</td>\n",
       "      <td>4,535.76</td>\n",
       "      <td>1</td>\n",
       "    </tr>\n",
       "    <tr>\n",
       "      <th>2</th>\n",
       "      <td>AC</td>\n",
       "      <td>317205</td>\n",
       "      <td>63119</td>\n",
       "      <td>6</td>\n",
       "      <td>50</td>\n",
       "      <td>09</td>\n",
       "      <td>3,332.64</td>\n",
       "      <td>1</td>\n",
       "    </tr>\n",
       "    <tr>\n",
       "      <th>3</th>\n",
       "      <td>AC</td>\n",
       "      <td>212420</td>\n",
       "      <td>63119</td>\n",
       "      <td>6</td>\n",
       "      <td>19</td>\n",
       "      <td>09</td>\n",
       "      <td>544.00</td>\n",
       "      <td>1</td>\n",
       "    </tr>\n",
       "    <tr>\n",
       "      <th>4</th>\n",
       "      <td>AC</td>\n",
       "      <td>212405</td>\n",
       "      <td>63119</td>\n",
       "      <td>7</td>\n",
       "      <td>54</td>\n",
       "      <td>09</td>\n",
       "      <td>6,391.52</td>\n",
       "      <td>1</td>\n",
       "    </tr>\n",
       "  </tbody>\n",
       "</table>\n",
       "</div>"
      ],
      "text/plain": [
       "   UF     CBO   CNAE  Escolaridade  Idade Raça  Remuneração  Sexo\n",
       "0  AC  212405  63119             6     53   09     6,361.98     1\n",
       "1  AC  317205  63119             6     50   09     4,535.76     1\n",
       "2  AC  317205  63119             6     50   09     3,332.64     1\n",
       "3  AC  212420  63119             6     19   09       544.00     1\n",
       "4  AC  212405  63119             7     54   09     6,391.52     1"
      ]
     },
     "execution_count": 4,
     "metadata": {},
     "output_type": "execute_result"
    }
   ],
   "source": [
    "RAIS_2019 = pd.read_csv(\"../data/raw/DATA_RAIS_2009.csv\", sep = \";\", encoding = 'utf-8', skipinitialspace = True)\n",
    "RAIS_2019.rename(columns = {'CBO Ocupação 2002':'CBO', 'CNAE 2.0 Classe':'CNAE',\n",
    "                            'Escolaridade após 2005':'Escolaridade',\n",
    "                            'Raça Cor':'Raça', 'Vl Remun Dezembro Nom':'Remuneração',\n",
    "                            'Sexo Trabalhador':'Sexo'}, inplace = True)\n",
    "RAIS_2019.head()"
   ]
  },
  {
   "cell_type": "code",
   "execution_count": 51,
   "metadata": {},
   "outputs": [
    {
     "data": {
      "text/html": [
       "<div>\n",
       "<style scoped>\n",
       "    .dataframe tbody tr th:only-of-type {\n",
       "        vertical-align: middle;\n",
       "    }\n",
       "\n",
       "    .dataframe tbody tr th {\n",
       "        vertical-align: top;\n",
       "    }\n",
       "\n",
       "    .dataframe thead th {\n",
       "        text-align: right;\n",
       "    }\n",
       "</style>\n",
       "<table border=\"1\" class=\"dataframe\">\n",
       "  <thead>\n",
       "    <tr style=\"text-align: right;\">\n",
       "      <th></th>\n",
       "      <th>UF</th>\n",
       "      <th>CBO</th>\n",
       "      <th>CNAE</th>\n",
       "      <th>Escolaridade</th>\n",
       "      <th>Idade</th>\n",
       "      <th>Raça</th>\n",
       "      <th>Remuneração</th>\n",
       "      <th>Sexo</th>\n",
       "    </tr>\n",
       "  </thead>\n",
       "  <tbody>\n",
       "    <tr>\n",
       "      <th>0</th>\n",
       "      <td>AC</td>\n",
       "      <td>212405</td>\n",
       "      <td>63119</td>\n",
       "      <td>6</td>\n",
       "      <td>53</td>\n",
       "      <td>09</td>\n",
       "      <td>6,361.98</td>\n",
       "      <td>1</td>\n",
       "    </tr>\n",
       "    <tr>\n",
       "      <th>1</th>\n",
       "      <td>AC</td>\n",
       "      <td>317205</td>\n",
       "      <td>63119</td>\n",
       "      <td>6</td>\n",
       "      <td>50</td>\n",
       "      <td>09</td>\n",
       "      <td>4,535.76</td>\n",
       "      <td>1</td>\n",
       "    </tr>\n",
       "    <tr>\n",
       "      <th>2</th>\n",
       "      <td>AC</td>\n",
       "      <td>317205</td>\n",
       "      <td>63119</td>\n",
       "      <td>6</td>\n",
       "      <td>50</td>\n",
       "      <td>09</td>\n",
       "      <td>3,332.64</td>\n",
       "      <td>1</td>\n",
       "    </tr>\n",
       "    <tr>\n",
       "      <th>3</th>\n",
       "      <td>AC</td>\n",
       "      <td>212420</td>\n",
       "      <td>63119</td>\n",
       "      <td>6</td>\n",
       "      <td>19</td>\n",
       "      <td>09</td>\n",
       "      <td>544.00</td>\n",
       "      <td>1</td>\n",
       "    </tr>\n",
       "    <tr>\n",
       "      <th>4</th>\n",
       "      <td>AC</td>\n",
       "      <td>212405</td>\n",
       "      <td>63119</td>\n",
       "      <td>7</td>\n",
       "      <td>54</td>\n",
       "      <td>09</td>\n",
       "      <td>6,391.52</td>\n",
       "      <td>1</td>\n",
       "    </tr>\n",
       "    <tr>\n",
       "      <th>...</th>\n",
       "      <td>...</td>\n",
       "      <td>...</td>\n",
       "      <td>...</td>\n",
       "      <td>...</td>\n",
       "      <td>...</td>\n",
       "      <td>...</td>\n",
       "      <td>...</td>\n",
       "      <td>...</td>\n",
       "    </tr>\n",
       "    <tr>\n",
       "      <th>116421</th>\n",
       "      <td>TO</td>\n",
       "      <td>317210</td>\n",
       "      <td>62091</td>\n",
       "      <td>9</td>\n",
       "      <td>50</td>\n",
       "      <td>08</td>\n",
       "      <td>9,718.68</td>\n",
       "      <td>1</td>\n",
       "    </tr>\n",
       "    <tr>\n",
       "      <th>116422</th>\n",
       "      <td>TO</td>\n",
       "      <td>317110</td>\n",
       "      <td>62091</td>\n",
       "      <td>9</td>\n",
       "      <td>51</td>\n",
       "      <td>08</td>\n",
       "      <td>6,678.22</td>\n",
       "      <td>1</td>\n",
       "    </tr>\n",
       "    <tr>\n",
       "      <th>116423</th>\n",
       "      <td>TO</td>\n",
       "      <td>317210</td>\n",
       "      <td>63119</td>\n",
       "      <td>9</td>\n",
       "      <td>37</td>\n",
       "      <td>02</td>\n",
       "      <td>9,737.84</td>\n",
       "      <td>1</td>\n",
       "    </tr>\n",
       "    <tr>\n",
       "      <th>116424</th>\n",
       "      <td>TO</td>\n",
       "      <td>212315</td>\n",
       "      <td>63119</td>\n",
       "      <td>9</td>\n",
       "      <td>38</td>\n",
       "      <td>02</td>\n",
       "      <td>12,430.84</td>\n",
       "      <td>1</td>\n",
       "    </tr>\n",
       "    <tr>\n",
       "      <th>116425</th>\n",
       "      <td>TO</td>\n",
       "      <td>212405</td>\n",
       "      <td>63119</td>\n",
       "      <td>9</td>\n",
       "      <td>38</td>\n",
       "      <td>02</td>\n",
       "      <td>12,053.51</td>\n",
       "      <td>1</td>\n",
       "    </tr>\n",
       "  </tbody>\n",
       "</table>\n",
       "<p>89439 rows × 8 columns</p>\n",
       "</div>"
      ],
      "text/plain": [
       "        UF     CBO   CNAE  Escolaridade  Idade Raça  Remuneração  Sexo\n",
       "0       AC  212405  63119             6     53   09     6,361.98     1\n",
       "1       AC  317205  63119             6     50   09     4,535.76     1\n",
       "2       AC  317205  63119             6     50   09     3,332.64     1\n",
       "3       AC  212420  63119             6     19   09       544.00     1\n",
       "4       AC  212405  63119             7     54   09     6,391.52     1\n",
       "...     ..     ...    ...           ...    ...  ...          ...   ...\n",
       "116421  TO  317210  62091             9     50   08     9,718.68     1\n",
       "116422  TO  317110  62091             9     51   08     6,678.22     1\n",
       "116423  TO  317210  63119             9     37   02     9,737.84     1\n",
       "116424  TO  212315  63119             9     38   02    12,430.84     1\n",
       "116425  TO  212405  63119             9     38   02    12,053.51     1\n",
       "\n",
       "[89439 rows x 8 columns]"
      ]
     },
     "execution_count": 51,
     "metadata": {},
     "output_type": "execute_result"
    }
   ],
   "source": [
    "RAIS_2019.query(\"Sexo == 1\")"
   ]
  },
  {
   "cell_type": "code",
   "execution_count": 5,
   "metadata": {},
   "outputs": [],
   "source": [
    "sexo = {1: 'M', 2: 'F'}"
   ]
  },
  {
   "cell_type": "code",
   "execution_count": 6,
   "metadata": {},
   "outputs": [
    {
     "name": "stdout",
     "output_type": "stream",
     "text": [
      "Média: 3610.138032401965\n",
      "Mediana: 2449.25\n"
     ]
    }
   ],
   "source": [
    "media_masculino = RAIS_2019.query(\"Sexo == 1\").Remuneração.mean()\n",
    "mediana_masculino = RAIS_2019.query(\"Sexo == 1\").Remuneração.median()\n",
    "\n",
    "print(\"Média: {}\\nMediana: {}\".format(media_masculino, mediana_masculino))"
   ]
  },
  {
   "cell_type": "code",
   "execution_count": 7,
   "metadata": {},
   "outputs": [
    {
     "name": "stdout",
     "output_type": "stream",
     "text": [
      "Média: 3453.393914042252\n",
      "Mediana: 2357.21\n"
     ]
    }
   ],
   "source": [
    "media_feminino = RAIS_2019.query(\"Sexo == 2\").Remuneração.mean()\n",
    "mediana_feminino = RAIS_2019.query(\"Sexo == 2\").Remuneração.median()\n",
    "\n",
    "print(\"Média: {}\\nMediana: {}\".format(media_feminino, mediana_feminino))"
   ]
  },
  {
   "cell_type": "code",
   "execution_count": 8,
   "metadata": {},
   "outputs": [
    {
     "data": {
      "text/plain": [
       "<AxesSubplot:xlabel='Remuneração', ylabel='Sexo'>"
      ]
     },
     "execution_count": 8,
     "metadata": {},
     "output_type": "execute_result"
    },
    {
     "data": {
      "image/png": "[encoded data removed]",
      "text/plain": [
       "<Figure size 1296x720 with 1 Axes>"
      ]
     },
     "metadata": {
      "needs_background": "light"
     },
     "output_type": "display_data"
    }
   ],
   "source": [
    "box = sns.boxplot(x = 'Remuneração', y = 'Sexo', data = RAIS_2019, orient = 'h', showmeans=True, meanprops={\"marker\":\"o\",\n",
    "                       \"markerfacecolor\":\"white\", \n",
    "                       \"markeredgecolor\":\"black\",\n",
    "                      \"markersize\":\"1\"})\n",
    "box.figure.set_size_inches(18, 10)\n",
    "box"
   ]
  },
  {
   "cell_type": "code",
   "execution_count": 33,
   "metadata": {},
   "outputs": [
    {
     "name": "stdout",
     "output_type": "stream",
     "text": [
      "1170131704.0\n",
      "p_valor: 0.000000000000013\n"
     ]
    }
   ],
   "source": [
    "from scipy.stats import mannwhitneyu\n",
    "\n",
    "\n",
    "u, p_valor = mannwhitneyu(RAIS_2019.query(\"Sexo == 2\").Remuneração, RAIS_2019.query(\"Sexo == 1\").Remuneração, alternative = 'less')\n",
    "print(u)\n",
    "print('p_valor: {:.15f}'.format(p_valor))"
   ]
  },
  {
   "cell_type": "code",
   "execution_count": 30,
   "metadata": {},
   "outputs": [
    {
     "data": {
      "text/plain": [
       "True"
      ]
     },
     "execution_count": 30,
     "metadata": {},
     "output_type": "execute_result"
    }
   ],
   "source": [
    "p_valor <= 0.01"
   ]
  },
  {
   "cell_type": "code",
   "execution_count": 75,
   "metadata": {},
   "outputs": [
    {
     "name": "stdout",
     "output_type": "stream",
     "text": [
      "p_valor_teste_A: 0.000000000024402\n",
      "True\n",
      "p_valor_teste_B: 0.000000000024402\n",
      "True\n"
     ]
    }
   ],
   "source": [
    "homens = RAIS_2019.query('Sexo == 1').Remuneração\n",
    "mulheres = RAIS_2019.query('Sexo == 2').Remuneração\n",
    "\n",
    "from statsmodels.stats.weightstats import DescrStatsW, CompareMeans\n",
    "\n",
    "test_H = DescrStatsW(homens)\n",
    "test_M = DescrStatsW(mulheres)\n",
    "test_A = test_H.get_compare(test_M)\n",
    "\n",
    "z, p_valor = test_A.ztest_ind(alternative='larger', value=0)\n",
    "print('p_valor_teste_A: {:.15f}'.format(p_valor))\n",
    "\n",
    "print(p_valor <= 0.01)\n",
    "\n",
    "test_B = CompareMeans(test_H, test_M)\n",
    "z, p_valor = test_B.ztest_ind(alternative='larger', value=0)\n",
    "print('p_valor_teste_B: {:.15f}'.format(p_valor))\n",
    "\n",
    "print(p_valor <= 0.01)"
   ]
  },
  {
   "cell_type": "code",
   "execution_count": 86,
   "metadata": {},
   "outputs": [
    {
     "data": {
      "image/png": "[encoded data removed]",
      "text/plain": [
       "<Figure size 432x288 with 1 Axes>"
      ]
     },
     "metadata": {
      "needs_background": "light"
     },
     "output_type": "display_data"
    }
   ],
   "source": [
    "from statsmodels.graphics.gofplots import qqplot\n",
    "from matplotlib import pyplot\n",
    "# q-q plot\n",
    "qqplot(RAIS_2019.query('Sexo == 1').Remuneração, line='s')\n",
    "pyplot.show()"
   ]
  },
  {
   "cell_type": "code",
   "execution_count": 91,
   "metadata": {},
   "outputs": [
    {
     "name": "stdout",
     "output_type": "stream",
     "text": [
      "Statistics=0.735, p=0.000\n",
      "Sample does not look Gaussian (reject H0)\n"
     ]
    },
    {
     "name": "stderr",
     "output_type": "stream",
     "text": [
      "C:\\Users\\YOHANNGABRIELOLIANIF\\anaconda3\\envs\\ic_fatec39\\lib\\site-packages\\scipy\\stats\\morestats.py:1681: UserWarning: p-value may not be accurate for N > 5000.\n",
      "  warnings.warn(\"p-value may not be accurate for N > 5000.\")\n"
     ]
    }
   ],
   "source": [
    "from scipy.stats import shapiro\n",
    "\n",
    "stat, p = shapiro(RAIS_2019.query('Sexo == 1').Remuneração)\n",
    "print('Statistics=%.3f, p=%.3f' % (stat, p))\n",
    "# interpret\n",
    "alpha = 0.05\n",
    "if p > alpha:\n",
    "    print('Sample looks Gaussian (fail to reject H0)')\n",
    "else:\n",
    "    print('Sample does not look Gaussian (reject H0)')"
   ]
  },
  {
   "cell_type": "code",
   "execution_count": 93,
   "metadata": {},
   "outputs": [
    {
     "name": "stdout",
     "output_type": "stream",
     "text": [
      "Statistics=64653.884, p=0.000\n",
      "Sample does not look Gaussian (reject H0)\n"
     ]
    }
   ],
   "source": [
    "from scipy.stats import normaltest\n",
    "\n",
    "# normality test\n",
    "stat, p = normaltest(RAIS_2019.query('Sexo == 1').Remuneração)\n",
    "print('Statistics=%.3f, p=%.3f' % (stat, p))\n",
    "# interpret\n",
    "alpha = 0.05\n",
    "if p > alpha:\n",
    "    print('Sample looks Gaussian (fail to reject H0)')\n",
    "else:\n",
    "    print('Sample does not look Gaussian (reject H0)')"
   ]
  },
  {
   "cell_type": "code",
   "execution_count": 96,
   "metadata": {},
   "outputs": [
    {
     "name": "stdout",
     "output_type": "stream",
     "text": [
      "Statistic: 5571.598\n",
      "1.000: 1.092, data does not look normal (reject H0)\n"
     ]
    }
   ],
   "source": [
    "from scipy.stats import anderson\n",
    "\n",
    "# normality test\n",
    "result = anderson(RAIS_2019.query('Sexo == 1').Remuneração)\n",
    "print('Statistic: %.3f' % result.statistic)\n",
    "p = 0\n",
    "for i in range(len(result.critical_values)):\n",
    "    sl, cv = result.significance_level[i], result.critical_values[i]\n",
    "if result.statistic < result.critical_values[i]:\n",
    "    print('%.3f: %.3f, data looks normal (fail to reject H0)' % (sl, cv))\n",
    "else:\n",
    "    print('%.3f: %.3f, data does not look normal (reject H0)' % (sl, cv))"
   ]
  },
  {
   "cell_type": "code",
   "execution_count": null,
   "metadata": {},
   "outputs": [],
   "source": []
  }
 ],
 "metadata": {
  "interpreter": {
   "hash": "4e754b94cf1e0815e70a639bcf2da61c2e733f1dcd0b7f2452ff33912e6e564f"
  },
  "kernelspec": {
   "display_name": "Python 3.9.4 64-bit ('ic_fatec39': conda)",
   "name": "python3"
  },
  "language_info": {
   "codemirror_mode": {
    "name": "ipython",
    "version": 3
   },
   "file_extension": ".py",
   "mimetype": "text/x-python",
   "name": "python",
   "nbconvert_exporter": "python",
   "pygments_lexer": "ipython3",
   "version": "3.9.4"
  },
  "orig_nbformat": 4
 },
 "nbformat": 4,
 "nbformat_minor": 2
}
