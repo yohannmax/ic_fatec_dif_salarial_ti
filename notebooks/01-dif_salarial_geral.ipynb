{
 "cells": [
  {
   "cell_type": "code",
   "execution_count": 2,
   "metadata": {},
   "outputs": [],
   "source": [
    "import pandas as pd\n",
    "import matplotlib.pyplot as plt\n",
    "\n",
    "pd.options.display.float_format = \"{:,.2f}\".format"
   ]
  },
  {
   "cell_type": "code",
   "execution_count": 11,
   "metadata": {},
   "outputs": [
    {
     "data": {
      "text/html": [
       "<div>\n",
       "<style scoped>\n",
       "    .dataframe tbody tr th:only-of-type {\n",
       "        vertical-align: middle;\n",
       "    }\n",
       "\n",
       "    .dataframe tbody tr th {\n",
       "        vertical-align: top;\n",
       "    }\n",
       "\n",
       "    .dataframe thead th {\n",
       "        text-align: right;\n",
       "    }\n",
       "</style>\n",
       "<table border=\"1\" class=\"dataframe\">\n",
       "  <thead>\n",
       "    <tr style=\"text-align: right;\">\n",
       "      <th></th>\n",
       "      <th>620_M</th>\n",
       "      <th>620_F</th>\n",
       "      <th>631_M</th>\n",
       "      <th>631_F</th>\n",
       "    </tr>\n",
       "    <tr>\n",
       "      <th>CBO</th>\n",
       "      <th></th>\n",
       "      <th></th>\n",
       "      <th></th>\n",
       "      <th></th>\n",
       "    </tr>\n",
       "  </thead>\n",
       "  <tbody>\n",
       "    <tr>\n",
       "      <th>1236</th>\n",
       "      <td>14,119,591.78</td>\n",
       "      <td>1,925,808.44</td>\n",
       "      <td>1,341,897.36</td>\n",
       "      <td>400,845.89</td>\n",
       "    </tr>\n",
       "    <tr>\n",
       "      <th>1425</th>\n",
       "      <td>126,749,394.34</td>\n",
       "      <td>34,250,385.31</td>\n",
       "      <td>12,074,624.70</td>\n",
       "      <td>2,696,317.74</td>\n",
       "    </tr>\n",
       "    <tr>\n",
       "      <th>2122</th>\n",
       "      <td>38,126,913.27</td>\n",
       "      <td>4,588,985.32</td>\n",
       "      <td>7,541,340.31</td>\n",
       "      <td>953,891.81</td>\n",
       "    </tr>\n",
       "    <tr>\n",
       "      <th>2123</th>\n",
       "      <td>48,500,293.06</td>\n",
       "      <td>8,395,918.66</td>\n",
       "      <td>6,582,728.33</td>\n",
       "      <td>630,752.99</td>\n",
       "    </tr>\n",
       "    <tr>\n",
       "      <th>2124</th>\n",
       "      <td>613,732,276.11</td>\n",
       "      <td>146,834,836.98</td>\n",
       "      <td>66,131,278.43</td>\n",
       "      <td>15,641,804.89</td>\n",
       "    </tr>\n",
       "    <tr>\n",
       "      <th>3171</th>\n",
       "      <td>150,984,907.25</td>\n",
       "      <td>22,270,888.89</td>\n",
       "      <td>9,268,820.17</td>\n",
       "      <td>1,150,304.96</td>\n",
       "    </tr>\n",
       "    <tr>\n",
       "      <th>3172</th>\n",
       "      <td>49,179,218.30</td>\n",
       "      <td>14,888,919.20</td>\n",
       "      <td>9,696,404.44</td>\n",
       "      <td>2,810,834.92</td>\n",
       "    </tr>\n",
       "  </tbody>\n",
       "</table>\n",
       "</div>"
      ],
      "text/plain": [
       "              620_M          620_F         631_M         631_F\n",
       "CBO                                                           \n",
       "1236  14,119,591.78   1,925,808.44  1,341,897.36    400,845.89\n",
       "1425 126,749,394.34  34,250,385.31 12,074,624.70  2,696,317.74\n",
       "2122  38,126,913.27   4,588,985.32  7,541,340.31    953,891.81\n",
       "2123  48,500,293.06   8,395,918.66  6,582,728.33    630,752.99\n",
       "2124 613,732,276.11 146,834,836.98 66,131,278.43 15,641,804.89\n",
       "3171 150,984,907.25  22,270,888.89  9,268,820.17  1,150,304.96\n",
       "3172  49,179,218.30  14,888,919.20  9,696,404.44  2,810,834.92"
      ]
     },
     "execution_count": 11,
     "metadata": {},
     "output_type": "execute_result"
    }
   ],
   "source": [
    "CNAE_CBO_SEXO_2019_FREQ = pd.read_csv(\"../data/cleaned/CNAE_CBO_SEXO_2019_freq.csv\", sep = \";\", index_col = 0, encoding = 'latin-1', skipinitialspace = True)\n",
    "CNAE_CBO_SEXO_2019_SUM = pd.read_csv(\"../data/cleaned/CNAE_CBO_SEXO_2019_sum.csv\", sep = \";\", index_col = 0, encoding = 'latin-1', skipinitialspace = True)\n",
    "\n",
    "CNAE_CBO_SEXO_2019_SUM"
   ]
  },
  {
   "cell_type": "code",
   "execution_count": 14,
   "metadata": {},
   "outputs": [],
   "source": [
    "frequencia_masc = (CNAE_CBO_SEXO_2019_FREQ['620_M'] + CNAE_CBO_SEXO_2019_FREQ['631_M']).sum()\n",
    "frequencia_fem = (CNAE_CBO_SEXO_2019_FREQ['620_F'] + CNAE_CBO_SEXO_2019_FREQ['631_F']).sum()\n",
    "frequencia_total = frequencia_masc + frequencia_fem\n",
    "\n",
    "porcentagem_freq_masc = (frequencia_masc / frequencia_total) * 100\n",
    "porcentagem_freq_fem = (frequencia_fem / frequencia_total) * 100\n",
    "\n",
    "massa_salarial_masc = (CNAE_CBO_SEXO_2019_SUM['620_M'] + CNAE_CBO_SEXO_2019_SUM['631_M']).sum()\n",
    "massa_salarial_fem = (CNAE_CBO_SEXO_2019_SUM['620_F'] + CNAE_CBO_SEXO_2019_SUM['631_F']).sum()\n",
    "massa_salarial_total = massa_salarial_masc + massa_salarial_fem\n",
    "\n",
    "porcentagem_massa_masc = (massa_salarial_masc / massa_salarial_total) * 100\n",
    "porcentagem_massa_fem = (massa_salarial_fem / massa_salarial_total) * 100\n",
    "\n",
    "media_masc = massa_salarial_masc / frequencia_masc\n",
    "media_fem = massa_salarial_fem / frequencia_fem"
   ]
  },
  {
   "cell_type": "code",
   "execution_count": 15,
   "metadata": {},
   "outputs": [
    {
     "data": {
      "text/html": [
       "<div>\n",
       "<style scoped>\n",
       "    .dataframe tbody tr th:only-of-type {\n",
       "        vertical-align: middle;\n",
       "    }\n",
       "\n",
       "    .dataframe tbody tr th {\n",
       "        vertical-align: top;\n",
       "    }\n",
       "\n",
       "    .dataframe thead th {\n",
       "        text-align: right;\n",
       "    }\n",
       "</style>\n",
       "<table border=\"1\" class=\"dataframe\">\n",
       "  <thead>\n",
       "    <tr style=\"text-align: right;\">\n",
       "      <th>Sexo</th>\n",
       "      <th>Pessoas</th>\n",
       "      <th>Pessoas (%)</th>\n",
       "      <th>Massa Salarial</th>\n",
       "      <th>Massa Salarial (%)</th>\n",
       "      <th>Média Salarial</th>\n",
       "    </tr>\n",
       "  </thead>\n",
       "  <tbody>\n",
       "    <tr>\n",
       "      <th>Masculino</th>\n",
       "      <td>193036</td>\n",
       "      <td>79.89</td>\n",
       "      <td>1,154,029,687.85</td>\n",
       "      <td>81.76</td>\n",
       "      <td>5,978.31</td>\n",
       "    </tr>\n",
       "    <tr>\n",
       "      <th>Feminino</th>\n",
       "      <td>48592</td>\n",
       "      <td>20.11</td>\n",
       "      <td>257,440,496.00</td>\n",
       "      <td>18.24</td>\n",
       "      <td>5,298.00</td>\n",
       "    </tr>\n",
       "  </tbody>\n",
       "</table>\n",
       "</div>"
      ],
      "text/plain": [
       "Sexo       Pessoas  Pessoas (%)   Massa Salarial  Massa Salarial (%)  \\\n",
       "Masculino   193036        79.89 1,154,029,687.85               81.76   \n",
       "Feminino     48592        20.11   257,440,496.00               18.24   \n",
       "\n",
       "Sexo       Média Salarial  \n",
       "Masculino        5,978.31  \n",
       "Feminino         5,298.00  "
      ]
     },
     "execution_count": 15,
     "metadata": {},
     "output_type": "execute_result"
    }
   ],
   "source": [
    "dist_freq_geral = pd.DataFrame(\n",
    "    {'Pessoas': [frequencia_masc, frequencia_fem], \n",
    "     'Pessoas (%)': [porcentagem_freq_masc, porcentagem_freq_fem],\n",
    "     'Massa Salarial': [massa_salarial_masc, massa_salarial_fem], \n",
    "     'Massa Salarial (%)': [porcentagem_massa_masc, porcentagem_massa_fem],\n",
    "     'Média Salarial': [media_masc, media_fem]}\n",
    ")\n",
    "dist_freq_geral.rename(index = {0: 'Masculino', 1: 'Feminino'}, inplace = True)\n",
    "dist_freq_geral.rename_axis('Sexo', axis = 'columns', inplace = True)\n",
    "\n",
    "dist_freq_geral"
   ]
  },
  {
   "cell_type": "code",
   "execution_count": 6,
   "metadata": {},
   "outputs": [
    {
     "data": {
      "image/png": "[encoded data removed]",
      "text/plain": [
       "<Figure size 432x288 with 2 Axes>"
      ]
     },
     "metadata": {},
     "output_type": "display_data"
    }
   ],
   "source": [
    "freq_fig, (freq_ax, massa_ax) = plt.subplots(1, 2)\n",
    "freq_ax.pie(dist_freq_geral.Pessoas, labels = dist_freq_geral.index, autopct = '%1.2f%%', startangle = 90)\n",
    "freq_ax.axis('equal')\n",
    "massa_ax.pie(dist_freq_geral['Massa Salarial'], labels = dist_freq_geral.index, autopct = '%1.2f%%', startangle = 90)\n",
    "massa_ax.axis('equal')\n",
    "freq_fig.savefig(\"./figures/freq_massa_sexo_pie.svg\")"
   ]
  },
  {
   "cell_type": "code",
   "execution_count": 81,
   "metadata": {},
   "outputs": [
    {
     "name": "stdout",
     "output_type": "stream",
     "text": [
      "As mulheres recebem 11.38 % a menos que os homens\n"
     ]
    }
   ],
   "source": [
    "variacao_media = ((dist_freq_geral['Média Salarial'][0] - dist_freq_geral['Média Salarial'][1])/dist_freq_geral['Média Salarial'][0]) * 100\n",
    "print(\"As mulheres recebem {0:.4g} % a menos que os homens\".format(variacao_media))"
   ]
  },
  {
   "cell_type": "code",
   "execution_count": 87,
   "metadata": {},
   "outputs": [
    {
     "data": {
      "text/html": [
       "<div>\n",
       "<style scoped>\n",
       "    .dataframe tbody tr th:only-of-type {\n",
       "        vertical-align: middle;\n",
       "    }\n",
       "\n",
       "    .dataframe tbody tr th {\n",
       "        vertical-align: top;\n",
       "    }\n",
       "\n",
       "    .dataframe thead th {\n",
       "        text-align: right;\n",
       "    }\n",
       "</style>\n",
       "<table border=\"1\" class=\"dataframe\">\n",
       "  <thead>\n",
       "    <tr style=\"text-align: right;\">\n",
       "      <th></th>\n",
       "      <th>Média Salarial (M)</th>\n",
       "      <th>Média Salarial (F)</th>\n",
       "      <th>Diferença</th>\n",
       "    </tr>\n",
       "    <tr>\n",
       "      <th>CBO</th>\n",
       "      <th></th>\n",
       "      <th></th>\n",
       "      <th></th>\n",
       "    </tr>\n",
       "  </thead>\n",
       "  <tbody>\n",
       "    <tr>\n",
       "      <th>1236</th>\n",
       "      <td>23,569.34</td>\n",
       "      <td>21,345.45</td>\n",
       "      <td>9.44</td>\n",
       "    </tr>\n",
       "    <tr>\n",
       "      <th>1425</th>\n",
       "      <td>11,448.46</td>\n",
       "      <td>9,945.28</td>\n",
       "      <td>13.13</td>\n",
       "    </tr>\n",
       "    <tr>\n",
       "      <th>2122</th>\n",
       "      <td>11,414.21</td>\n",
       "      <td>9,758.59</td>\n",
       "      <td>14.50</td>\n",
       "    </tr>\n",
       "    <tr>\n",
       "      <th>2123</th>\n",
       "      <td>7,862.26</td>\n",
       "      <td>6,943.59</td>\n",
       "      <td>11.68</td>\n",
       "    </tr>\n",
       "    <tr>\n",
       "      <th>2124</th>\n",
       "      <td>6,085.53</td>\n",
       "      <td>5,344.10</td>\n",
       "      <td>12.18</td>\n",
       "    </tr>\n",
       "    <tr>\n",
       "      <th>3171</th>\n",
       "      <td>4,510.25</td>\n",
       "      <td>4,365.55</td>\n",
       "      <td>3.21</td>\n",
       "    </tr>\n",
       "    <tr>\n",
       "      <th>3172</th>\n",
       "      <td>2,676.41</td>\n",
       "      <td>2,481.74</td>\n",
       "      <td>7.27</td>\n",
       "    </tr>\n",
       "  </tbody>\n",
       "</table>\n",
       "</div>"
      ],
      "text/plain": [
       "      Média Salarial (M)  Média Salarial (F)  Diferença\n",
       "CBO                                                    \n",
       "1236           23,569.34           21,345.45       9.44\n",
       "1425           11,448.46            9,945.28      13.13\n",
       "2122           11,414.21            9,758.59      14.50\n",
       "2123            7,862.26            6,943.59      11.68\n",
       "2124            6,085.53            5,344.10      12.18\n",
       "3171            4,510.25            4,365.55       3.21\n",
       "3172            2,676.41            2,481.74       7.27"
      ]
     },
     "execution_count": 87,
     "metadata": {},
     "output_type": "execute_result"
    }
   ],
   "source": [
    "#Tabela de médias\n",
    "\n",
    "frequencia_masc_df = CNAE_CBO_SEXO_2019_FREQ['620_M'] + CNAE_CBO_SEXO_2019_FREQ['631_M']\n",
    "frequencia_fem_df = CNAE_CBO_SEXO_2019_FREQ['620_F'] + CNAE_CBO_SEXO_2019_FREQ['631_F']\n",
    "\n",
    "massa_salarial_masc_df = CNAE_CBO_SEXO_2019_SUM['620_M'] + CNAE_CBO_SEXO_2019_SUM['631_M']\n",
    "massa_salarial_fem_df = CNAE_CBO_SEXO_2019_SUM['620_F'] + CNAE_CBO_SEXO_2019_SUM['631_F']\n",
    "\n",
    "media_salarial_masc_df = massa_salarial_masc_df / frequencia_masc_df\n",
    "media_salarial_fem_df = massa_salarial_fem_df / frequencia_fem_df\n",
    "\n",
    "CBO_SEXO_2019_FREQ = pd.DataFrame(\n",
    "    {'Quant. Pessoas (M)': frequencia_masc_df,\n",
    "     'Quant. Pessoas (M) %': (frequencia_masc_df / frequencia_masc) * 100,\n",
    "     'Quant. Pessoas (F)': frequencia_fem_df,\n",
    "     'Quant. Pessoas (F) %': (frequencia_fem_df / frequencia_fem) * 100}\n",
    ")\n",
    "\n",
    "CBO_SEXO_2019_SUM = pd.DataFrame(\n",
    "    {'Massa Salarial (M)': massa_salarial_masc_df,\n",
    "     'Massa Salarial (M) %': (massa_salarial_masc_df / massa_salarial_masc) * 100,\n",
    "     'Massa Salarial (F)': massa_salarial_fem_df,\n",
    "     'Massa Salarial (F) %': (massa_salarial_fem_df / massa_salarial_fem) * 100}\n",
    ")\n",
    "CBO_SEXO_2019_MEAN = pd.DataFrame(\n",
    "     {'Média Salarial (M)': media_salarial_masc_df,\n",
    "      'Média Salarial (F)': media_salarial_fem_df,\n",
    "      'Diferença': ((media_salarial_masc_df - media_salarial_fem_df) / media_salarial_masc_df) * 100},\n",
    "      index = CNAE_CBO_SEXO_2019_SUM.index\n",
    ")\n",
    "CBO_SEXO_2019_MEAN"
   ]
  },
  {
   "cell_type": "code",
   "execution_count": null,
   "metadata": {},
   "outputs": [],
   "source": []
  }
 ],
 "metadata": {
  "interpreter": {
   "hash": "4e754b94cf1e0815e70a639bcf2da61c2e733f1dcd0b7f2452ff33912e6e564f"
  },
  "kernelspec": {
   "display_name": "Python 3.9.4 64-bit ('ic_fatec39': conda)",
   "name": "python3"
  },
  "language_info": {
   "codemirror_mode": {
    "name": "ipython",
    "version": 3
   },
   "file_extension": ".py",
   "mimetype": "text/x-python",
   "name": "python",
   "nbconvert_exporter": "python",
   "pygments_lexer": "ipython3",
   "version": "3.9.4"
  },
  "orig_nbformat": 4
 },
 "nbformat": 4,
 "nbformat_minor": 2
}
