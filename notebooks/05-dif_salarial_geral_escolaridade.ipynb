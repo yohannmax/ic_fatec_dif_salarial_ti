{
 "cells": [
  {
   "cell_type": "markdown",
   "metadata": {},
   "source": [
    "# Análise da diferença salarial para trabalhadores de TI conforme a escolaridade de cada indivíduo.\n",
    "\n",
    "Aqui é realizado as análises de quantidade de pessoas e diferença salarial entre homens e mulheres\n",
    "com funções trabalhistas de TI distribuídos em qualquer setor produtivo no Brasil, \n",
    "conforme a escolaridade de cada indivíduo em um recorte de 2009 e 2019."
   ]
  },
  {
   "cell_type": "markdown",
   "metadata": {},
   "source": [
    "## Etapas iniciais para realização das análises:"
   ]
  },
  {
   "cell_type": "markdown",
   "metadata": {},
   "source": [
    "### Imports necessários para realização dos processamentos e análises:"
   ]
  },
  {
   "cell_type": "code",
   "execution_count": 1,
   "metadata": {},
   "outputs": [],
   "source": [
    "import pandas as pd\n",
    "import matplotlib.pyplot as plt\n",
    "import matplotlib.patches as mpatches\n",
    "import seaborn as sns\n",
    "import numpy as np\n",
    "\n",
    "# Opções gerais necessárias:\n",
    "pd.options.display.float_format = \"{:,.2f}\".format"
   ]
  },
  {
   "cell_type": "markdown",
   "metadata": {},
   "source": [
    "### Variáveis inicias importantes utilizadas durante a realização dos processamentos e análises:"
   ]
  },
  {
   "cell_type": "code",
   "execution_count": 2,
   "metadata": {},
   "outputs": [],
   "source": [
    "# Criando indices dos sexos:\n",
    "sexo = {1: 'Masc.', 2: 'Fem.'}\n",
    "\n",
    "# Criando indices das raças:\n",
    "escol = {5: 'Fundamental Completo', 7: 'Médio Completo', 9: 'Superior Completo', 10: 'Mestrado', 11: 'Doutorado'}\n",
    "\n",
    "# Variável com o nível de confiança a ser considerado e utilizado:\n",
    "nivel_confianca = 0.01\n",
    "\n",
    "# Montagem da paleta de cores utilizadas:\n",
    "pal = sns.color_palette(\"pastel\")\n",
    "\n",
    "# Definição das cores para cada sexo (masc: verde pastel, fem: laranja pastel)\n",
    "color_masc = pal[2]\n",
    "color_fem = pal[1]"
   ]
  },
  {
   "cell_type": "markdown",
   "metadata": {},
   "source": [
    "### Etapa de leitura dos dados das tabelas em CSV para 2009 e 2019:"
   ]
  },
  {
   "cell_type": "code",
   "execution_count": 3,
   "metadata": {},
   "outputs": [],
   "source": [
    "# Leitura da tabela de dados gerais para 2009:\n",
    "RAIS_GERAL_2009 = pd.read_csv(\"../data/DATA_RAIS_GERAL_2009.csv\", sep = \";\", encoding = 'utf-8', skipinitialspace = True)\n",
    "\n",
    "# Renomeando as colunas:\n",
    "RAIS_GERAL_2009.rename(columns = {'CBO Ocupação 2002':'CBO', 'CNAE 2.0 Classe':'CNAE',\n",
    "                            'Escolaridade após 2005':'Escolaridade', 'Raça Cor':'Raça', \n",
    "                            'Vl Remun Dezembro Nom':'Remuneração', 'Sexo Trabalhador':'Sexo'}, inplace = True)"
   ]
  },
  {
   "cell_type": "code",
   "execution_count": 4,
   "metadata": {},
   "outputs": [],
   "source": [
    "# Leitura da tabela de dados gerais para 2019:\n",
    "RAIS_GERAL_2019 = pd.read_csv(\"../data/DATA_RAIS_GERAL_2019.csv\", sep = \";\", encoding = 'utf-8', skipinitialspace = True)\n",
    "\n",
    "# Renomeando as colunas:\n",
    "RAIS_GERAL_2019.rename(columns = {'CBO Ocupação 2002':'CBO', 'CNAE 2.0 Classe':'CNAE',\n",
    "                            'Escolaridade após 2005':'Escolaridade', 'Raça Cor':'Raça', \n",
    "                            'Vl Remun Dezembro Nom':'Remuneração', 'Sexo Trabalhador':'Sexo'}, inplace = True)"
   ]
  },
  {
   "cell_type": "markdown",
   "metadata": {},
   "source": [
    "### Correção da coluna de escolaridade para utilização correta:"
   ]
  },
  {
   "cell_type": "code",
   "execution_count": 5,
   "metadata": {},
   "outputs": [],
   "source": [
    "# Retirando dados referentes a indivíduos com escolaridade 1 (Analfabeto):\n",
    "RAIS_GERAL_2009 = RAIS_GERAL_2009[RAIS_GERAL_2009['Escolaridade'] != 1]\n",
    "RAIS_GERAL_2019 = RAIS_GERAL_2019[RAIS_GERAL_2019['Escolaridade'] != 1]\n",
    "\n",
    "# Retirando dados referentes a indivíduos com escolaridade 2 (Fundamental Incompleto):\n",
    "RAIS_GERAL_2009 = RAIS_GERAL_2009[RAIS_GERAL_2009['Escolaridade'] != 2]\n",
    "RAIS_GERAL_2019 = RAIS_GERAL_2019[RAIS_GERAL_2019['Escolaridade'] != 2]\n",
    "\n",
    "# Retirando dados referentes a indivíduos com escolaridade 3 (Fundamental Incompleto):\n",
    "RAIS_GERAL_2009 = RAIS_GERAL_2009[RAIS_GERAL_2009['Escolaridade'] != 3]\n",
    "RAIS_GERAL_2019 = RAIS_GERAL_2019[RAIS_GERAL_2019['Escolaridade'] != 3]\n",
    "\n",
    "# Retirando dados referentes a indivíduos com escolaridade 4 (Fundamental Incompleto):\n",
    "RAIS_GERAL_2009 = RAIS_GERAL_2009[RAIS_GERAL_2009['Escolaridade'] != 4]\n",
    "RAIS_GERAL_2019 = RAIS_GERAL_2019[RAIS_GERAL_2019['Escolaridade'] != 4]\n",
    "\n",
    "# Substituindo o status de médio incompleto (6) para fundamental completo:\n",
    "RAIS_GERAL_2009['Escolaridade'] = RAIS_GERAL_2009['Escolaridade'].replace(6, 5).replace(6, 5)\n",
    "RAIS_GERAL_2019['Escolaridade'] = RAIS_GERAL_2019['Escolaridade'].replace(6, 5).replace(6, 5)\n",
    "\n",
    "# Substituindo o status de superior incompleto (6) para médio completo:\n",
    "RAIS_GERAL_2009['Escolaridade'] = RAIS_GERAL_2009['Escolaridade'].replace(8, 7).replace(8, 7)\n",
    "RAIS_GERAL_2019['Escolaridade'] = RAIS_GERAL_2019['Escolaridade'].replace(8, 7).replace(8, 7)"
   ]
  },
  {
   "cell_type": "markdown",
   "metadata": {},
   "source": [
    "### Correção da inflação do período analisado até o atual das remunerações pelo fator de correção INPC (IBGE):"
   ]
  },
  {
   "cell_type": "code",
   "execution_count": 6,
   "metadata": {},
   "outputs": [],
   "source": [
    "# Foi utilizado o Índice Nacional de Preços ao Consumidor (INPC - IBGE).\n",
    "\n",
    "# Índice de correção de inflação para o período de 12/2009 (data dos dados para 2009) \n",
    "# até 04/2022 (fator de correção mais recente no último processamento dos dados).\n",
    "fator_correcao_inflacao_2009 = 2.14068130\n",
    "\n",
    "RAIS_GERAL_2009[\"Remuneração\"] = RAIS_GERAL_2009[\"Remuneração\"] * fator_correcao_inflacao_2009\n",
    "\n",
    "# Índice de correção de inflação para o período de 12/2019 (data dos dados para 2019) \n",
    "# até 04/2022 (fator de correção mais recente no último processamento dos dados).\n",
    "fator_correcao_inflacao_2019 = 1.22858430\n",
    "\n",
    "RAIS_GERAL_2019[\"Remuneração\"] = RAIS_GERAL_2019[\"Remuneração\"] * fator_correcao_inflacao_2019"
   ]
  },
  {
   "cell_type": "markdown",
   "metadata": {},
   "source": [
    "### Exibição das tabelas gerais para cada ano:"
   ]
  },
  {
   "cell_type": "code",
   "execution_count": 7,
   "metadata": {},
   "outputs": [
    {
     "data": {
      "text/html": [
       "<div>\n",
       "<style scoped>\n",
       "    .dataframe tbody tr th:only-of-type {\n",
       "        vertical-align: middle;\n",
       "    }\n",
       "\n",
       "    .dataframe tbody tr th {\n",
       "        vertical-align: top;\n",
       "    }\n",
       "\n",
       "    .dataframe thead th {\n",
       "        text-align: right;\n",
       "    }\n",
       "</style>\n",
       "<table border=\"1\" class=\"dataframe\">\n",
       "  <thead>\n",
       "    <tr style=\"text-align: right;\">\n",
       "      <th></th>\n",
       "      <th>UF</th>\n",
       "      <th>CBO</th>\n",
       "      <th>CNAE</th>\n",
       "      <th>Escolaridade</th>\n",
       "      <th>Idade</th>\n",
       "      <th>Raça</th>\n",
       "      <th>Remuneração</th>\n",
       "      <th>Sexo</th>\n",
       "    </tr>\n",
       "  </thead>\n",
       "  <tbody>\n",
       "    <tr>\n",
       "      <th>4</th>\n",
       "      <td>AC</td>\n",
       "      <td>142530</td>\n",
       "      <td>47814</td>\n",
       "      <td>5</td>\n",
       "      <td>32</td>\n",
       "      <td>08</td>\n",
       "      <td>1,806.35</td>\n",
       "      <td>1</td>\n",
       "    </tr>\n",
       "    <tr>\n",
       "      <th>5</th>\n",
       "      <td>AC</td>\n",
       "      <td>212420</td>\n",
       "      <td>27317</td>\n",
       "      <td>5</td>\n",
       "      <td>22</td>\n",
       "      <td>08</td>\n",
       "      <td>1,712.55</td>\n",
       "      <td>1</td>\n",
       "    </tr>\n",
       "    <tr>\n",
       "      <th>6</th>\n",
       "      <td>AC</td>\n",
       "      <td>212405</td>\n",
       "      <td>63119</td>\n",
       "      <td>5</td>\n",
       "      <td>53</td>\n",
       "      <td>09</td>\n",
       "      <td>13,618.97</td>\n",
       "      <td>1</td>\n",
       "    </tr>\n",
       "    <tr>\n",
       "      <th>7</th>\n",
       "      <td>AC</td>\n",
       "      <td>317205</td>\n",
       "      <td>63119</td>\n",
       "      <td>5</td>\n",
       "      <td>50</td>\n",
       "      <td>09</td>\n",
       "      <td>9,709.62</td>\n",
       "      <td>1</td>\n",
       "    </tr>\n",
       "    <tr>\n",
       "      <th>8</th>\n",
       "      <td>AC</td>\n",
       "      <td>317205</td>\n",
       "      <td>63119</td>\n",
       "      <td>5</td>\n",
       "      <td>50</td>\n",
       "      <td>09</td>\n",
       "      <td>7,134.12</td>\n",
       "      <td>1</td>\n",
       "    </tr>\n",
       "  </tbody>\n",
       "</table>\n",
       "</div>"
      ],
      "text/plain": [
       "   UF     CBO   CNAE  Escolaridade  Idade Raça  Remuneração  Sexo\n",
       "4  AC  142530  47814             5     32   08     1,806.35     1\n",
       "5  AC  212420  27317             5     22   08     1,712.55     1\n",
       "6  AC  212405  63119             5     53   09    13,618.97     1\n",
       "7  AC  317205  63119             5     50   09     9,709.62     1\n",
       "8  AC  317205  63119             5     50   09     7,134.12     1"
      ]
     },
     "execution_count": 7,
     "metadata": {},
     "output_type": "execute_result"
    }
   ],
   "source": [
    "# Exibindo os cinco primeiros dados da tabela de 2009:\n",
    "RAIS_GERAL_2009.head()"
   ]
  },
  {
   "cell_type": "code",
   "execution_count": 8,
   "metadata": {},
   "outputs": [
    {
     "data": {
      "text/html": [
       "<div>\n",
       "<style scoped>\n",
       "    .dataframe tbody tr th:only-of-type {\n",
       "        vertical-align: middle;\n",
       "    }\n",
       "\n",
       "    .dataframe tbody tr th {\n",
       "        vertical-align: top;\n",
       "    }\n",
       "\n",
       "    .dataframe thead th {\n",
       "        text-align: right;\n",
       "    }\n",
       "</style>\n",
       "<table border=\"1\" class=\"dataframe\">\n",
       "  <thead>\n",
       "    <tr style=\"text-align: right;\">\n",
       "      <th></th>\n",
       "      <th>UF</th>\n",
       "      <th>CBO</th>\n",
       "      <th>CNAE</th>\n",
       "      <th>Escolaridade</th>\n",
       "      <th>Idade</th>\n",
       "      <th>Raça</th>\n",
       "      <th>Remuneração</th>\n",
       "      <th>Sexo</th>\n",
       "    </tr>\n",
       "  </thead>\n",
       "  <tbody>\n",
       "    <tr>\n",
       "      <th>14</th>\n",
       "      <td>MS</td>\n",
       "      <td>142530</td>\n",
       "      <td>77331</td>\n",
       "      <td>5</td>\n",
       "      <td>42</td>\n",
       "      <td>2</td>\n",
       "      <td>3,997.87</td>\n",
       "      <td>1</td>\n",
       "    </tr>\n",
       "    <tr>\n",
       "      <th>15</th>\n",
       "      <td>MS</td>\n",
       "      <td>317210</td>\n",
       "      <td>47521</td>\n",
       "      <td>5</td>\n",
       "      <td>23</td>\n",
       "      <td>2</td>\n",
       "      <td>2,168.70</td>\n",
       "      <td>1</td>\n",
       "    </tr>\n",
       "    <tr>\n",
       "      <th>16</th>\n",
       "      <td>MS</td>\n",
       "      <td>317210</td>\n",
       "      <td>49302</td>\n",
       "      <td>5</td>\n",
       "      <td>24</td>\n",
       "      <td>8</td>\n",
       "      <td>2,896.19</td>\n",
       "      <td>1</td>\n",
       "    </tr>\n",
       "    <tr>\n",
       "      <th>17</th>\n",
       "      <td>MS</td>\n",
       "      <td>212405</td>\n",
       "      <td>62031</td>\n",
       "      <td>5</td>\n",
       "      <td>29</td>\n",
       "      <td>2</td>\n",
       "      <td>4,123.44</td>\n",
       "      <td>1</td>\n",
       "    </tr>\n",
       "    <tr>\n",
       "      <th>18</th>\n",
       "      <td>MS</td>\n",
       "      <td>212405</td>\n",
       "      <td>47890</td>\n",
       "      <td>5</td>\n",
       "      <td>36</td>\n",
       "      <td>8</td>\n",
       "      <td>2,211.45</td>\n",
       "      <td>1</td>\n",
       "    </tr>\n",
       "  </tbody>\n",
       "</table>\n",
       "</div>"
      ],
      "text/plain": [
       "    UF     CBO   CNAE  Escolaridade  Idade  Raça  Remuneração  Sexo\n",
       "14  MS  142530  77331             5     42     2     3,997.87     1\n",
       "15  MS  317210  47521             5     23     2     2,168.70     1\n",
       "16  MS  317210  49302             5     24     8     2,896.19     1\n",
       "17  MS  212405  62031             5     29     2     4,123.44     1\n",
       "18  MS  212405  47890             5     36     8     2,211.45     1"
      ]
     },
     "execution_count": 8,
     "metadata": {},
     "output_type": "execute_result"
    }
   ],
   "source": [
    "# Exibindo os cinco primeiros dados da tabela de 2009:\n",
    "RAIS_GERAL_2019.head()"
   ]
  },
  {
   "cell_type": "markdown",
   "metadata": {},
   "source": [
    "## Análise da frequência (quantidade de pessoas) dos dados entre homens e mulheres distribuídos conforme a escolaridade de cada indivíduo:"
   ]
  },
  {
   "cell_type": "markdown",
   "metadata": {},
   "source": [
    "### Criação das tabelas para relatório e tabela para formação do gráfico:"
   ]
  },
  {
   "cell_type": "code",
   "execution_count": 9,
   "metadata": {},
   "outputs": [],
   "source": [
    "# Tabela principal para quantidade em 2009:\n",
    "RAIS_GERAL_2009_QNT = pd.crosstab(RAIS_GERAL_2009[\"Escolaridade\"], RAIS_GERAL_2009[\"Sexo\"].replace(sexo))\n",
    "RAIS_GERAL_2009_QNT.insert(1, \"% Fem.\", RAIS_GERAL_2009_QNT[\"Fem.\"] / (RAIS_GERAL_2009_QNT[\"Fem.\"] + RAIS_GERAL_2009_QNT[\"Masc.\"]) * 100)\n",
    "RAIS_GERAL_2009_QNT.insert(3, \"% Masc.\", RAIS_GERAL_2009_QNT[\"Masc.\"] / (RAIS_GERAL_2009_QNT[\"Fem.\"] + RAIS_GERAL_2009_QNT[\"Masc.\"]) * 100)\n",
    "\n",
    "RAIS_GERAL_2009_QNT.rename(index = escol, inplace = True)"
   ]
  },
  {
   "cell_type": "code",
   "execution_count": 10,
   "metadata": {},
   "outputs": [
    {
     "data": {
      "text/html": [
       "<div>\n",
       "<style scoped>\n",
       "    .dataframe tbody tr th:only-of-type {\n",
       "        vertical-align: middle;\n",
       "    }\n",
       "\n",
       "    .dataframe tbody tr th {\n",
       "        vertical-align: top;\n",
       "    }\n",
       "\n",
       "    .dataframe thead th {\n",
       "        text-align: right;\n",
       "    }\n",
       "</style>\n",
       "<table border=\"1\" class=\"dataframe\">\n",
       "  <thead>\n",
       "    <tr style=\"text-align: right;\">\n",
       "      <th>Sexo</th>\n",
       "      <th>Fem.</th>\n",
       "      <th>% Fem.</th>\n",
       "      <th>Masc.</th>\n",
       "      <th>% Masc.</th>\n",
       "    </tr>\n",
       "    <tr>\n",
       "      <th>Escolaridade</th>\n",
       "      <th></th>\n",
       "      <th></th>\n",
       "      <th></th>\n",
       "      <th></th>\n",
       "    </tr>\n",
       "  </thead>\n",
       "  <tbody>\n",
       "    <tr>\n",
       "      <th>Fundamental Completo</th>\n",
       "      <td>3067</td>\n",
       "      <td>22.50</td>\n",
       "      <td>10565</td>\n",
       "      <td>77.50</td>\n",
       "    </tr>\n",
       "    <tr>\n",
       "      <th>Médio Completo</th>\n",
       "      <td>48242</td>\n",
       "      <td>25.33</td>\n",
       "      <td>142199</td>\n",
       "      <td>74.67</td>\n",
       "    </tr>\n",
       "    <tr>\n",
       "      <th>Superior Completo</th>\n",
       "      <td>49510</td>\n",
       "      <td>26.86</td>\n",
       "      <td>134800</td>\n",
       "      <td>73.14</td>\n",
       "    </tr>\n",
       "    <tr>\n",
       "      <th>Mestrado</th>\n",
       "      <td>484</td>\n",
       "      <td>25.88</td>\n",
       "      <td>1386</td>\n",
       "      <td>74.12</td>\n",
       "    </tr>\n",
       "    <tr>\n",
       "      <th>Doutorado</th>\n",
       "      <td>305</td>\n",
       "      <td>29.16</td>\n",
       "      <td>741</td>\n",
       "      <td>70.84</td>\n",
       "    </tr>\n",
       "  </tbody>\n",
       "</table>\n",
       "</div>"
      ],
      "text/plain": [
       "Sexo                   Fem.  % Fem.   Masc.  % Masc.\n",
       "Escolaridade                                        \n",
       "Fundamental Completo   3067   22.50   10565    77.50\n",
       "Médio Completo        48242   25.33  142199    74.67\n",
       "Superior Completo     49510   26.86  134800    73.14\n",
       "Mestrado                484   25.88    1386    74.12\n",
       "Doutorado               305   29.16     741    70.84"
      ]
     },
     "execution_count": 10,
     "metadata": {},
     "output_type": "execute_result"
    }
   ],
   "source": [
    "RAIS_GERAL_2009_QNT"
   ]
  },
  {
   "cell_type": "code",
   "execution_count": 11,
   "metadata": {},
   "outputs": [],
   "source": [
    "# Tabela principal para quantidade em 2019:\n",
    "RAIS_GERAL_2019_QNT = pd.crosstab(RAIS_GERAL_2019[\"Escolaridade\"], RAIS_GERAL_2019[\"Sexo\"].replace(sexo))\n",
    "RAIS_GERAL_2019_QNT.insert(1, \"% Fem.\", RAIS_GERAL_2019_QNT[\"Fem.\"] / (RAIS_GERAL_2019_QNT[\"Fem.\"] + RAIS_GERAL_2019_QNT[\"Masc.\"]) * 100)\n",
    "RAIS_GERAL_2019_QNT.insert(3, \"% Masc.\", RAIS_GERAL_2019_QNT[\"Masc.\"] / (RAIS_GERAL_2019_QNT[\"Fem.\"] + RAIS_GERAL_2019_QNT[\"Masc.\"]) * 100)\n",
    "\n",
    "RAIS_GERAL_2019_QNT.rename(index = escol, inplace = True)"
   ]
  },
  {
   "cell_type": "code",
   "execution_count": 12,
   "metadata": {},
   "outputs": [
    {
     "data": {
      "text/html": [
       "<div>\n",
       "<style scoped>\n",
       "    .dataframe tbody tr th:only-of-type {\n",
       "        vertical-align: middle;\n",
       "    }\n",
       "\n",
       "    .dataframe tbody tr th {\n",
       "        vertical-align: top;\n",
       "    }\n",
       "\n",
       "    .dataframe thead th {\n",
       "        text-align: right;\n",
       "    }\n",
       "</style>\n",
       "<table border=\"1\" class=\"dataframe\">\n",
       "  <thead>\n",
       "    <tr style=\"text-align: right;\">\n",
       "      <th>Sexo</th>\n",
       "      <th>Fem.</th>\n",
       "      <th>% Fem.</th>\n",
       "      <th>Masc.</th>\n",
       "      <th>% Masc.</th>\n",
       "    </tr>\n",
       "    <tr>\n",
       "      <th>Escolaridade</th>\n",
       "      <th></th>\n",
       "      <th></th>\n",
       "      <th></th>\n",
       "      <th></th>\n",
       "    </tr>\n",
       "  </thead>\n",
       "  <tbody>\n",
       "    <tr>\n",
       "      <th>Fundamental Completo</th>\n",
       "      <td>2417</td>\n",
       "      <td>25.73</td>\n",
       "      <td>6978</td>\n",
       "      <td>74.27</td>\n",
       "    </tr>\n",
       "    <tr>\n",
       "      <th>Médio Completo</th>\n",
       "      <td>45085</td>\n",
       "      <td>21.78</td>\n",
       "      <td>161922</td>\n",
       "      <td>78.22</td>\n",
       "    </tr>\n",
       "    <tr>\n",
       "      <th>Superior Completo</th>\n",
       "      <td>79410</td>\n",
       "      <td>22.21</td>\n",
       "      <td>278099</td>\n",
       "      <td>77.79</td>\n",
       "    </tr>\n",
       "    <tr>\n",
       "      <th>Mestrado</th>\n",
       "      <td>1719</td>\n",
       "      <td>22.82</td>\n",
       "      <td>5813</td>\n",
       "      <td>77.18</td>\n",
       "    </tr>\n",
       "    <tr>\n",
       "      <th>Doutorado</th>\n",
       "      <td>398</td>\n",
       "      <td>24.57</td>\n",
       "      <td>1222</td>\n",
       "      <td>75.43</td>\n",
       "    </tr>\n",
       "  </tbody>\n",
       "</table>\n",
       "</div>"
      ],
      "text/plain": [
       "Sexo                   Fem.  % Fem.   Masc.  % Masc.\n",
       "Escolaridade                                        \n",
       "Fundamental Completo   2417   25.73    6978    74.27\n",
       "Médio Completo        45085   21.78  161922    78.22\n",
       "Superior Completo     79410   22.21  278099    77.79\n",
       "Mestrado               1719   22.82    5813    77.18\n",
       "Doutorado               398   24.57    1222    75.43"
      ]
     },
     "execution_count": 12,
     "metadata": {},
     "output_type": "execute_result"
    }
   ],
   "source": [
    "RAIS_GERAL_2019_QNT"
   ]
  },
  {
   "cell_type": "code",
   "execution_count": 13,
   "metadata": {},
   "outputs": [],
   "source": [
    "# Tabela para gráfico da quantidade em 2009:\n",
    "RAIS_GERAL_2009_QNT.insert(4, \"Total\", RAIS_GERAL_2009_QNT[\"% Masc.\"] + RAIS_GERAL_2009_QNT[\"% Fem.\"])\n",
    "RAIS_GERAL_2009_QNT.insert(5, \"Ano\", \"2009\")\n",
    "\n",
    "# Tabela para gráfico da quantidade em 2019:\n",
    "RAIS_GERAL_2019_QNT.insert(4, \"Total\", RAIS_GERAL_2019_QNT[\"% Masc.\"] + RAIS_GERAL_2019_QNT[\"% Fem.\"])\n",
    "RAIS_GERAL_2019_QNT.insert(5, \"Ano\", \"2019\")\n",
    "\n",
    "# Junção das tabelas anteriores em uma para geração do gráfico:\n",
    "RAIS_GERAL_QNT_GRAF = pd.concat([RAIS_GERAL_2009_QNT, RAIS_GERAL_2019_QNT]).reset_index()"
   ]
  },
  {
   "cell_type": "markdown",
   "metadata": {},
   "source": [
    "### Criação do gráfico com os dados referentes a quantidade:"
   ]
  },
  {
   "cell_type": "code",
   "execution_count": 14,
   "metadata": {},
   "outputs": [
    {
     "data": {
      "image/png": "[encoded data removed]",
      "text/plain": [
       "<Figure size 864x576 with 1 Axes>"
      ]
     },
     "metadata": {
      "needs_background": "light"
     },
     "output_type": "display_data"
    }
   ],
   "source": [
    "# Montagem inicial da imagem do gráfico:\n",
    "plt.figure(figsize = (12, 8))\n",
    "\n",
    "# Configuração da grid da imagem:\n",
    "sns.set(style = \"whitegrid\")\n",
    "\n",
    "# Criação da primeira barra, referente ao total de 100% que fica atrás pela próxima barra:\n",
    "bar1 = sns.barplot(x = \"Escolaridade\", y = \"Total\", hue = \"Ano\", data = RAIS_GERAL_QNT_GRAF, palette = {\"2009\": color_masc,\"2019\": color_masc})\n",
    "\n",
    "# Captura da quantidade de barras existentes até o momento:\n",
    "patches = bar1.patches\n",
    "\n",
    "# Escrita da porcentagem para cada barra existente até o momento (porcentagem dos homens):\n",
    "for i in range(len(patches)):\n",
    "    x = patches[i].get_x() + patches[i].get_width()/2\n",
    "    y = patches[i].get_height()/2\n",
    "    bar1.annotate('{:.1f}%'.format(RAIS_GERAL_QNT_GRAF[\"% Masc.\"][i]), (x, y), ha='center')\n",
    "\n",
    "# Escrita do valor do ano para cada barra em dupla:\n",
    "for i in range(len(patches)):\n",
    "    x = patches[i].get_x() + patches[i].get_width()/2\n",
    "    y = patches[i].get_height()+1\n",
    "    bar1.annotate('{}'.format(RAIS_GERAL_QNT_GRAF[\"Ano\"][i]), (x, y), ha='center')\n",
    "\n",
    "# Criação da segunda barra, referente a porcentagem das mulheres:\n",
    "bar2 = sns.barplot(x = \"Escolaridade\", y = \"% Fem.\", hue = \"Ano\", data = RAIS_GERAL_QNT_GRAF, palette = {\"2009\": color_fem,\"2019\": color_fem})\n",
    "\n",
    "# Captura das barras recém criadas:\n",
    "patches = bar2.patches[10:]\n",
    "\n",
    "# Escrita da porcentagem para cada barra capturada das mulheres:\n",
    "for i in range(len(patches)):\n",
    "    x = patches[i].get_x() + patches[i].get_width()/2\n",
    "    y = patches[i].get_height()/2\n",
    "    bar2.annotate('{:.1f}%'.format(RAIS_GERAL_QNT_GRAF[\"% Fem.\"][i]), (x, y), ha='center')\n",
    "\n",
    "# Finalização de configurações de exibição do gráfico:\n",
    "top_bar = mpatches.Patch(label='% Mulheres', color = color_fem)\n",
    "bottom_bar = mpatches.Patch(label='% Homens', color = color_masc)\n",
    "plt.legend(handles=[top_bar, bottom_bar], loc = 'center', bbox_to_anchor = (.45, .8, .1, .1))\n",
    "\n",
    "plt.savefig(\"./figures/svg/qnt_sexo_escolaridade.svg\")"
   ]
  },
  {
   "cell_type": "markdown",
   "metadata": {},
   "source": [
    "## Análise das médias salariais e diferenças:"
   ]
  },
  {
   "cell_type": "markdown",
   "metadata": {},
   "source": [
    "### Distribuição da remuneração para cada sexo cruzado pela escolaridade:"
   ]
  },
  {
   "cell_type": "code",
   "execution_count": 15,
   "metadata": {},
   "outputs": [
    {
     "data": {
      "image/png": "[encoded data removed]",
      "text/plain": [
       "<Figure size 1008x576 with 1 Axes>"
      ]
     },
     "metadata": {},
     "output_type": "display_data"
    }
   ],
   "source": [
    "RAIS_GERAL_2009_BOX = RAIS_GERAL_2009.copy()\n",
    "RAIS_GERAL_2009_BOX[\"Sexo\"].replace(sexo, inplace = True)\n",
    "RAIS_GERAL_2009_BOX[\"Escolaridade\"].replace(escol, inplace = True)\n",
    "\n",
    "box = sns.boxplot(x = 'Remuneração', y = 'Escolaridade', hue = 'Sexo', data = RAIS_GERAL_2009_BOX, orient = 'h', showmeans=True, meanprops={\"marker\":\"o\",\n",
    "                       \"markerfacecolor\":\"white\", \"markeredgecolor\":\"black\", \"markersize\":\"5\"}, order = escol.values(),\n",
    "                       palette = {\"Masc.\": color_masc, \"Fem.\": color_fem})\n",
    "box.figure.set_size_inches(14, 8)\n",
    "box.figure.savefig(\"./figures/png/boxplot_sexo_escolaridade_2009.png\", dpi = 300)"
   ]
  },
  {
   "cell_type": "code",
   "execution_count": 16,
   "metadata": {},
   "outputs": [
    {
     "data": {
      "image/png": "[encoded data removed]",
      "text/plain": [
       "<Figure size 1008x576 with 1 Axes>"
      ]
     },
     "metadata": {},
     "output_type": "display_data"
    }
   ],
   "source": [
    "RAIS_GERAL_2019_BOX = RAIS_GERAL_2019.copy()\n",
    "RAIS_GERAL_2019_BOX[\"Sexo\"].replace(sexo, inplace = True)\n",
    "RAIS_GERAL_2019_BOX[\"Escolaridade\"].replace(escol, inplace = True)\n",
    "\n",
    "box = sns.boxplot(x = 'Remuneração', y = 'Escolaridade', hue = 'Sexo', data = RAIS_GERAL_2019_BOX, orient = 'h', showmeans=True, meanprops={\"marker\":\"o\",\n",
    "                       \"markerfacecolor\":\"white\", \"markeredgecolor\":\"black\", \"markersize\":\"5\"}, order = escol.values(),\n",
    "                        palette = {\"Masc.\": color_masc, \"Fem.\": color_fem})\n",
    "box.figure.set_size_inches(14, 8)\n",
    "box.figure.savefig(\"./figures/png/boxplot_sexo_escolaridade_2019.png\", dpi = 300)"
   ]
  },
  {
   "cell_type": "markdown",
   "metadata": {},
   "source": [
    "### Criação das tabelas com as diferenças salarias e da tabela para geração do gráfico:"
   ]
  },
  {
   "cell_type": "code",
   "execution_count": 17,
   "metadata": {},
   "outputs": [
    {
     "data": {
      "text/html": [
       "<div>\n",
       "<style scoped>\n",
       "    .dataframe tbody tr th:only-of-type {\n",
       "        vertical-align: middle;\n",
       "    }\n",
       "\n",
       "    .dataframe tbody tr th {\n",
       "        vertical-align: top;\n",
       "    }\n",
       "\n",
       "    .dataframe thead th {\n",
       "        text-align: right;\n",
       "    }\n",
       "</style>\n",
       "<table border=\"1\" class=\"dataframe\">\n",
       "  <thead>\n",
       "    <tr style=\"text-align: right;\">\n",
       "      <th>Sexo</th>\n",
       "      <th>Fem.</th>\n",
       "      <th>Masc.</th>\n",
       "      <th>Diferença Salarial</th>\n",
       "    </tr>\n",
       "    <tr>\n",
       "      <th>Escolaridade</th>\n",
       "      <th></th>\n",
       "      <th></th>\n",
       "      <th></th>\n",
       "    </tr>\n",
       "  </thead>\n",
       "  <tbody>\n",
       "    <tr>\n",
       "      <th>Fundamental Completo</th>\n",
       "      <td>3,063.13</td>\n",
       "      <td>3,654.84</td>\n",
       "      <td>-16.19</td>\n",
       "    </tr>\n",
       "    <tr>\n",
       "      <th>Médio Completo</th>\n",
       "      <td>3,415.53</td>\n",
       "      <td>4,663.50</td>\n",
       "      <td>-26.76</td>\n",
       "    </tr>\n",
       "    <tr>\n",
       "      <th>Superior Completo</th>\n",
       "      <td>10,709.20</td>\n",
       "      <td>11,627.56</td>\n",
       "      <td>-7.90</td>\n",
       "    </tr>\n",
       "    <tr>\n",
       "      <th>Mestrado</th>\n",
       "      <td>14,837.63</td>\n",
       "      <td>16,366.94</td>\n",
       "      <td>-9.34</td>\n",
       "    </tr>\n",
       "    <tr>\n",
       "      <th>Doutorado</th>\n",
       "      <td>17,980.49</td>\n",
       "      <td>19,366.05</td>\n",
       "      <td>-7.15</td>\n",
       "    </tr>\n",
       "  </tbody>\n",
       "</table>\n",
       "</div>"
      ],
      "text/plain": [
       "Sexo                      Fem.     Masc.  Diferença Salarial\n",
       "Escolaridade                                                \n",
       "Fundamental Completo  3,063.13  3,654.84              -16.19\n",
       "Médio Completo        3,415.53  4,663.50              -26.76\n",
       "Superior Completo    10,709.20 11,627.56               -7.90\n",
       "Mestrado             14,837.63 16,366.94               -9.34\n",
       "Doutorado            17,980.49 19,366.05               -7.15"
      ]
     },
     "execution_count": 17,
     "metadata": {},
     "output_type": "execute_result"
    }
   ],
   "source": [
    "# Tabela principal para média e diferença salarial em 2009:\n",
    "RAIS_GERAL_2009_MEDIA = pd.crosstab(RAIS_GERAL_2009[\"Escolaridade\"], RAIS_GERAL_2009[\"Sexo\"].replace(sexo), values = RAIS_GERAL_2009.Remuneração, aggfunc = 'mean')\n",
    "RAIS_GERAL_2009_MEDIA.insert(2, \"Diferença Salarial\", ((RAIS_GERAL_2009_MEDIA[\"Fem.\"] - RAIS_GERAL_2009_MEDIA[\"Masc.\"]) / RAIS_GERAL_2009_MEDIA[\"Masc.\"]) * 100)\n",
    "\n",
    "RAIS_GERAL_2009_MEDIA.rename(index = escol, inplace = True)\n",
    "RAIS_GERAL_2009_MEDIA.head()"
   ]
  },
  {
   "cell_type": "code",
   "execution_count": 18,
   "metadata": {},
   "outputs": [
    {
     "data": {
      "text/html": [
       "<div>\n",
       "<style scoped>\n",
       "    .dataframe tbody tr th:only-of-type {\n",
       "        vertical-align: middle;\n",
       "    }\n",
       "\n",
       "    .dataframe tbody tr th {\n",
       "        vertical-align: top;\n",
       "    }\n",
       "\n",
       "    .dataframe thead th {\n",
       "        text-align: right;\n",
       "    }\n",
       "</style>\n",
       "<table border=\"1\" class=\"dataframe\">\n",
       "  <thead>\n",
       "    <tr style=\"text-align: right;\">\n",
       "      <th>Sexo</th>\n",
       "      <th>Fem.</th>\n",
       "      <th>Masc.</th>\n",
       "      <th>Diferença Salarial</th>\n",
       "    </tr>\n",
       "    <tr>\n",
       "      <th>Escolaridade</th>\n",
       "      <th></th>\n",
       "      <th></th>\n",
       "      <th></th>\n",
       "    </tr>\n",
       "  </thead>\n",
       "  <tbody>\n",
       "    <tr>\n",
       "      <th>Fundamental Completo</th>\n",
       "      <td>2,581.96</td>\n",
       "      <td>3,533.80</td>\n",
       "      <td>-26.94</td>\n",
       "    </tr>\n",
       "    <tr>\n",
       "      <th>Médio Completo</th>\n",
       "      <td>3,210.00</td>\n",
       "      <td>4,345.89</td>\n",
       "      <td>-26.14</td>\n",
       "    </tr>\n",
       "    <tr>\n",
       "      <th>Superior Completo</th>\n",
       "      <td>8,916.86</td>\n",
       "      <td>10,069.48</td>\n",
       "      <td>-11.45</td>\n",
       "    </tr>\n",
       "    <tr>\n",
       "      <th>Mestrado</th>\n",
       "      <td>14,944.19</td>\n",
       "      <td>16,629.56</td>\n",
       "      <td>-10.13</td>\n",
       "    </tr>\n",
       "    <tr>\n",
       "      <th>Doutorado</th>\n",
       "      <td>12,213.15</td>\n",
       "      <td>13,865.67</td>\n",
       "      <td>-11.92</td>\n",
       "    </tr>\n",
       "  </tbody>\n",
       "</table>\n",
       "</div>"
      ],
      "text/plain": [
       "Sexo                      Fem.     Masc.  Diferença Salarial\n",
       "Escolaridade                                                \n",
       "Fundamental Completo  2,581.96  3,533.80              -26.94\n",
       "Médio Completo        3,210.00  4,345.89              -26.14\n",
       "Superior Completo     8,916.86 10,069.48              -11.45\n",
       "Mestrado             14,944.19 16,629.56              -10.13\n",
       "Doutorado            12,213.15 13,865.67              -11.92"
      ]
     },
     "execution_count": 18,
     "metadata": {},
     "output_type": "execute_result"
    }
   ],
   "source": [
    "# Tabela principal para média e diferença salarial em 2019:\n",
    "RAIS_GERAL_2019_MEDIA = pd.crosstab(RAIS_GERAL_2019[\"Escolaridade\"], RAIS_GERAL_2019[\"Sexo\"].replace(sexo), values = RAIS_GERAL_2019.Remuneração, aggfunc = 'mean')\n",
    "RAIS_GERAL_2019_MEDIA.insert(2, \"Diferença Salarial\", ((RAIS_GERAL_2019_MEDIA[\"Fem.\"] - RAIS_GERAL_2019_MEDIA[\"Masc.\"]) / RAIS_GERAL_2019_MEDIA[\"Masc.\"]) * 100)\n",
    "\n",
    "RAIS_GERAL_2019_MEDIA.rename(index = escol, inplace = True)\n",
    "RAIS_GERAL_2019_MEDIA.head()"
   ]
  },
  {
   "cell_type": "code",
   "execution_count": 19,
   "metadata": {},
   "outputs": [],
   "source": [
    "RAIS_GERAL_2009_MEDIA.insert(3, \"Ano\", \"2009\")\n",
    "RAIS_GERAL_2019_MEDIA.insert(3, \"Ano\", \"2019\")\n",
    "RAIS_GERAL_MEDIA_GRAF = pd.concat([RAIS_GERAL_2009_MEDIA, RAIS_GERAL_2019_MEDIA]).reset_index()"
   ]
  },
  {
   "cell_type": "code",
   "execution_count": 20,
   "metadata": {},
   "outputs": [
    {
     "data": {
      "image/png": "[encoded data removed]",
      "text/plain": [
       "<Figure size 936x720 with 1 Axes>"
      ]
     },
     "metadata": {},
     "output_type": "display_data"
    }
   ],
   "source": [
    "# Criação do gráfico inicial:\n",
    "plt.figure(figsize = (13, 10))\n",
    "\n",
    "# Configuração do grid do gráfico:\n",
    "sns.set(style = \"whitegrid\")\n",
    "\n",
    "# Criação da barra referente as diferenças salarias:\n",
    "bar = sns.barplot(x = \"Escolaridade\", y = \"Diferença Salarial\", hue = \"Ano\", data = RAIS_GERAL_MEDIA_GRAF, palette = {\"2009\": color_fem,\"2019\": color_masc})\n",
    "\n",
    "# Captura da quantidade de barras existentes:\n",
    "patches = bar.patches\n",
    "\n",
    "# Prenchimento das porcentagens das diferenças salariais em cada barra:\n",
    "for i in range(len(patches)):\n",
    "    x = patches[i].get_x() + patches[i].get_width()/2\n",
    "    y = patches[i].get_height()/2\n",
    "    bar.annotate('{:.1f}%'.format(RAIS_GERAL_MEDIA_GRAF[\"Diferença Salarial\"][i]), (x, y), ha='center')\n",
    "\n",
    "plt.savefig(\"./figures/svg/dif_salarial_sexo_escolaridade_media.svg\")"
   ]
  },
  {
   "cell_type": "code",
   "execution_count": 21,
   "metadata": {},
   "outputs": [
    {
     "data": {
      "text/html": [
       "<div>\n",
       "<style scoped>\n",
       "    .dataframe tbody tr th:only-of-type {\n",
       "        vertical-align: middle;\n",
       "    }\n",
       "\n",
       "    .dataframe tbody tr th {\n",
       "        vertical-align: top;\n",
       "    }\n",
       "\n",
       "    .dataframe thead th {\n",
       "        text-align: right;\n",
       "    }\n",
       "</style>\n",
       "<table border=\"1\" class=\"dataframe\">\n",
       "  <thead>\n",
       "    <tr style=\"text-align: right;\">\n",
       "      <th>Sexo</th>\n",
       "      <th>Fem.</th>\n",
       "      <th>Masc.</th>\n",
       "      <th>Diferença Salarial</th>\n",
       "    </tr>\n",
       "    <tr>\n",
       "      <th>Escolaridade</th>\n",
       "      <th></th>\n",
       "      <th></th>\n",
       "      <th></th>\n",
       "    </tr>\n",
       "  </thead>\n",
       "  <tbody>\n",
       "    <tr>\n",
       "      <th>Fundamental Completo</th>\n",
       "      <td>1,839.53</td>\n",
       "      <td>2,411.26</td>\n",
       "      <td>-23.71</td>\n",
       "    </tr>\n",
       "    <tr>\n",
       "      <th>Médio Completo</th>\n",
       "      <td>2,439.93</td>\n",
       "      <td>3,258.50</td>\n",
       "      <td>-25.12</td>\n",
       "    </tr>\n",
       "    <tr>\n",
       "      <th>Superior Completo</th>\n",
       "      <td>8,515.50</td>\n",
       "      <td>9,003.61</td>\n",
       "      <td>-5.42</td>\n",
       "    </tr>\n",
       "    <tr>\n",
       "      <th>Mestrado</th>\n",
       "      <td>11,773.75</td>\n",
       "      <td>13,350.64</td>\n",
       "      <td>-11.81</td>\n",
       "    </tr>\n",
       "    <tr>\n",
       "      <th>Doutorado</th>\n",
       "      <td>16,646.99</td>\n",
       "      <td>17,448.48</td>\n",
       "      <td>-4.59</td>\n",
       "    </tr>\n",
       "  </tbody>\n",
       "</table>\n",
       "</div>"
      ],
      "text/plain": [
       "Sexo                      Fem.     Masc.  Diferença Salarial\n",
       "Escolaridade                                                \n",
       "Fundamental Completo  1,839.53  2,411.26              -23.71\n",
       "Médio Completo        2,439.93  3,258.50              -25.12\n",
       "Superior Completo     8,515.50  9,003.61               -5.42\n",
       "Mestrado             11,773.75 13,350.64              -11.81\n",
       "Doutorado            16,646.99 17,448.48               -4.59"
      ]
     },
     "execution_count": 21,
     "metadata": {},
     "output_type": "execute_result"
    }
   ],
   "source": [
    "# Tabela principal para mediana e diferença salarial em 2009:\n",
    "RAIS_GERAL_2009_MEDIANA = pd.crosstab(RAIS_GERAL_2009[\"Escolaridade\"], RAIS_GERAL_2009[\"Sexo\"].replace(sexo), values = RAIS_GERAL_2009.Remuneração, aggfunc = 'median')\n",
    "RAIS_GERAL_2009_MEDIANA.insert(2, \"Diferença Salarial\", ((RAIS_GERAL_2009_MEDIANA[\"Fem.\"] - RAIS_GERAL_2009_MEDIANA[\"Masc.\"]) / RAIS_GERAL_2009_MEDIANA[\"Masc.\"]) * 100)\n",
    "\n",
    "RAIS_GERAL_2009_MEDIANA.rename(index = escol, inplace = True)\n",
    "RAIS_GERAL_2009_MEDIANA.head()"
   ]
  },
  {
   "cell_type": "code",
   "execution_count": 22,
   "metadata": {},
   "outputs": [
    {
     "data": {
      "text/html": [
       "<div>\n",
       "<style scoped>\n",
       "    .dataframe tbody tr th:only-of-type {\n",
       "        vertical-align: middle;\n",
       "    }\n",
       "\n",
       "    .dataframe tbody tr th {\n",
       "        vertical-align: top;\n",
       "    }\n",
       "\n",
       "    .dataframe thead th {\n",
       "        text-align: right;\n",
       "    }\n",
       "</style>\n",
       "<table border=\"1\" class=\"dataframe\">\n",
       "  <thead>\n",
       "    <tr style=\"text-align: right;\">\n",
       "      <th>Sexo</th>\n",
       "      <th>Fem.</th>\n",
       "      <th>Masc.</th>\n",
       "      <th>Diferença Salarial</th>\n",
       "    </tr>\n",
       "    <tr>\n",
       "      <th>Escolaridade</th>\n",
       "      <th></th>\n",
       "      <th></th>\n",
       "      <th></th>\n",
       "    </tr>\n",
       "  </thead>\n",
       "  <tbody>\n",
       "    <tr>\n",
       "      <th>Fundamental Completo</th>\n",
       "      <td>1,891.17</td>\n",
       "      <td>2,499.41</td>\n",
       "      <td>-24.34</td>\n",
       "    </tr>\n",
       "    <tr>\n",
       "      <th>Médio Completo</th>\n",
       "      <td>2,431.37</td>\n",
       "      <td>3,169.75</td>\n",
       "      <td>-23.29</td>\n",
       "    </tr>\n",
       "    <tr>\n",
       "      <th>Superior Completo</th>\n",
       "      <td>6,666.97</td>\n",
       "      <td>7,914.23</td>\n",
       "      <td>-15.76</td>\n",
       "    </tr>\n",
       "    <tr>\n",
       "      <th>Mestrado</th>\n",
       "      <td>12,278.96</td>\n",
       "      <td>13,594.78</td>\n",
       "      <td>-9.68</td>\n",
       "    </tr>\n",
       "    <tr>\n",
       "      <th>Doutorado</th>\n",
       "      <td>10,132.55</td>\n",
       "      <td>10,960.86</td>\n",
       "      <td>-7.56</td>\n",
       "    </tr>\n",
       "  </tbody>\n",
       "</table>\n",
       "</div>"
      ],
      "text/plain": [
       "Sexo                      Fem.     Masc.  Diferença Salarial\n",
       "Escolaridade                                                \n",
       "Fundamental Completo  1,891.17  2,499.41              -24.34\n",
       "Médio Completo        2,431.37  3,169.75              -23.29\n",
       "Superior Completo     6,666.97  7,914.23              -15.76\n",
       "Mestrado             12,278.96 13,594.78               -9.68\n",
       "Doutorado            10,132.55 10,960.86               -7.56"
      ]
     },
     "execution_count": 22,
     "metadata": {},
     "output_type": "execute_result"
    }
   ],
   "source": [
    "# Tabela principal para média e diferença salarial em 2019:\n",
    "RAIS_GERAL_2019_MEDIANA = pd.crosstab(RAIS_GERAL_2019[\"Escolaridade\"], RAIS_GERAL_2019[\"Sexo\"].replace(sexo), values = RAIS_GERAL_2019.Remuneração, aggfunc = 'median')\n",
    "RAIS_GERAL_2019_MEDIANA.insert(2, \"Diferença Salarial\", ((RAIS_GERAL_2019_MEDIANA[\"Fem.\"] - RAIS_GERAL_2019_MEDIANA[\"Masc.\"]) / RAIS_GERAL_2019_MEDIANA[\"Masc.\"]) * 100)\n",
    "\n",
    "RAIS_GERAL_2019_MEDIANA.rename(index = escol, inplace = True)\n",
    "RAIS_GERAL_2019_MEDIANA.head()"
   ]
  },
  {
   "cell_type": "code",
   "execution_count": 23,
   "metadata": {},
   "outputs": [],
   "source": [
    "RAIS_GERAL_2009_MEDIANA.insert(3, \"Ano\", \"2009\")\n",
    "\n",
    "RAIS_GERAL_2019_MEDIANA.insert(3, \"Ano\", \"2019\")\n",
    "\n",
    "RAIS_GERAL_MEDIANA_GRAF = pd.concat([RAIS_GERAL_2009_MEDIANA, RAIS_GERAL_2019_MEDIANA]).reset_index()"
   ]
  },
  {
   "cell_type": "code",
   "execution_count": 24,
   "metadata": {},
   "outputs": [
    {
     "data": {
      "image/png": "[encoded data removed]",
      "text/plain": [
       "<Figure size 936x720 with 1 Axes>"
      ]
     },
     "metadata": {},
     "output_type": "display_data"
    }
   ],
   "source": [
    "# Criação do gráfico inicial:\n",
    "plt.figure(figsize = (13, 10))\n",
    "\n",
    "# Configuração do grid do gráfico:\n",
    "sns.set(style = \"whitegrid\")\n",
    "\n",
    "# Criação da barra referente as diferenças salarias:\n",
    "bar = sns.barplot(x = \"Escolaridade\", y = \"Diferença Salarial\", hue = \"Ano\", data = RAIS_GERAL_MEDIANA_GRAF, palette = {\"2009\": color_fem,\"2019\": color_masc})\n",
    "\n",
    "# Captura da quantidade de barras existentes:\n",
    "patches = bar.patches\n",
    "\n",
    "# Prenchimento das porcentagens das diferenças salariais em cada barra:\n",
    "for i in range(len(patches)):\n",
    "    x = patches[i].get_x() + patches[i].get_width()/2\n",
    "    y = patches[i].get_height()/2\n",
    "    bar.annotate('{:.1f}%'.format(RAIS_GERAL_MEDIANA_GRAF[\"Diferença Salarial\"][i]), (x, y), ha='center')\n",
    "\n",
    "plt.savefig(\"./figures/svg/dif_salarial_sexo_escolaridade_mediana.svg\")"
   ]
  },
  {
   "cell_type": "markdown",
   "metadata": {},
   "source": [
    "### Teste de hipótese para cada grupo de médias por CBOs:"
   ]
  },
  {
   "cell_type": "code",
   "execution_count": 25,
   "metadata": {},
   "outputs": [],
   "source": [
    "def teste_hipotese(first_data, second_data, confidence_interval):\n",
    "    from scipy.stats import mannwhitneyu \n",
    "    \n",
    "    stat, p_valor = mannwhitneyu(first_data, second_data, alternative = 'less')\n",
    "    \n",
    "    if p_valor <= confidence_interval:\n",
    "        return stat, p_valor, 'Medianas estatisticamente diferentes'\n",
    "    else:\n",
    "        return stat, p_valor, 'Medianas estatisticamente iguais'"
   ]
  },
  {
   "cell_type": "code",
   "execution_count": 26,
   "metadata": {},
   "outputs": [
    {
     "data": {
      "text/html": [
       "<div>\n",
       "<style scoped>\n",
       "    .dataframe tbody tr th:only-of-type {\n",
       "        vertical-align: middle;\n",
       "    }\n",
       "\n",
       "    .dataframe tbody tr th {\n",
       "        vertical-align: top;\n",
       "    }\n",
       "\n",
       "    .dataframe thead th {\n",
       "        text-align: right;\n",
       "    }\n",
       "</style>\n",
       "<table border=\"1\" class=\"dataframe\">\n",
       "  <thead>\n",
       "    <tr style=\"text-align: right;\">\n",
       "      <th></th>\n",
       "      <th>Fem.</th>\n",
       "      <th>Masc.</th>\n",
       "      <th>Estat. Mann-Whitney</th>\n",
       "      <th>pValor</th>\n",
       "      <th>Resultado Estat.</th>\n",
       "    </tr>\n",
       "  </thead>\n",
       "  <tbody>\n",
       "    <tr>\n",
       "      <th>Fundamental Completo</th>\n",
       "      <td>1,839.53</td>\n",
       "      <td>2,411.26</td>\n",
       "      <td>12710243.0</td>\n",
       "      <td>0.01 &gt; 0.00000...</td>\n",
       "      <td>Medianas estatisticamente diferentes</td>\n",
       "    </tr>\n",
       "    <tr>\n",
       "      <th>Médio Completo</th>\n",
       "      <td>2,439.93</td>\n",
       "      <td>3,258.50</td>\n",
       "      <td>2640099585.0</td>\n",
       "      <td>0.01 &gt; 0.00000...</td>\n",
       "      <td>Medianas estatisticamente diferentes</td>\n",
       "    </tr>\n",
       "    <tr>\n",
       "      <th>Superior Completo</th>\n",
       "      <td>8,515.50</td>\n",
       "      <td>9,003.61</td>\n",
       "      <td>3171397995.0</td>\n",
       "      <td>0.01 &gt; 0.00000...</td>\n",
       "      <td>Medianas estatisticamente diferentes</td>\n",
       "    </tr>\n",
       "    <tr>\n",
       "      <th>Mestrado</th>\n",
       "      <td>11,773.75</td>\n",
       "      <td>13,350.64</td>\n",
       "      <td>305575.0</td>\n",
       "      <td>0.01 &gt; 0.00176...</td>\n",
       "      <td>Medianas estatisticamente diferentes</td>\n",
       "    </tr>\n",
       "    <tr>\n",
       "      <th>Doutorado</th>\n",
       "      <td>16,646.99</td>\n",
       "      <td>17,448.48</td>\n",
       "      <td>109465.0</td>\n",
       "      <td>0.01 &gt; 0.21287...</td>\n",
       "      <td>Medianas estatisticamente iguais</td>\n",
       "    </tr>\n",
       "  </tbody>\n",
       "</table>\n",
       "</div>"
      ],
      "text/plain": [
       "                          Fem.     Masc. Estat. Mann-Whitney  \\\n",
       "Fundamental Completo  1,839.53  2,411.26          12710243.0   \n",
       "Médio Completo        2,439.93  3,258.50        2640099585.0   \n",
       "Superior Completo     8,515.50  9,003.61        3171397995.0   \n",
       "Mestrado             11,773.75 13,350.64            305575.0   \n",
       "Doutorado            16,646.99 17,448.48            109465.0   \n",
       "\n",
       "                                 pValor                      Resultado Estat.  \n",
       "Fundamental Completo  0.01 > 0.00000...  Medianas estatisticamente diferentes  \n",
       "Médio Completo        0.01 > 0.00000...  Medianas estatisticamente diferentes  \n",
       "Superior Completo     0.01 > 0.00000...  Medianas estatisticamente diferentes  \n",
       "Mestrado              0.01 > 0.00176...  Medianas estatisticamente diferentes  \n",
       "Doutorado             0.01 > 0.21287...      Medianas estatisticamente iguais  "
      ]
     },
     "execution_count": 26,
     "metadata": {},
     "output_type": "execute_result"
    }
   ],
   "source": [
    "TESTE_HIP_2009 = pd.DataFrame(columns = ['Estat. Mann-Whitney', 'pValor', 'Resultado Estat.'])\n",
    "\n",
    "for e in escol:\n",
    "    df1 = RAIS_GERAL_2009.query(\"Sexo == 1\").replace(escol).query(\"Escolaridade == '{}'\".format(escol[e])).Remuneração\n",
    "    df2 = RAIS_GERAL_2009.query(\"Sexo == 2\").replace(escol).query(\"Escolaridade == '{}'\".format(escol[e])).Remuneração\n",
    "\n",
    "    mean1 = df1.median()\n",
    "    mean2 = df2.median()\n",
    "\n",
    "    if mean1 < mean2:\n",
    "        stat, p, result= teste_hipotese(df1, df2, nivel_confianca)\n",
    "    else:\n",
    "        stat, p, result = teste_hipotese(df2, df1, nivel_confianca)\n",
    "    \n",
    "    TESTE_HIP_2009.loc[escol[e]] = [str(stat), '0.01 > {:.5f}...'.format(p), result]\n",
    "\n",
    "RAIS_GERAL_2009_HIP = pd.merge(RAIS_GERAL_2009_MEDIANA, TESTE_HIP_2009, left_index=True, right_index=True)\n",
    "RAIS_GERAL_2009_HIP.drop('Diferença Salarial', inplace=True, axis=1)\n",
    "RAIS_GERAL_2009_HIP.drop('Ano', inplace=True, axis=1)\n",
    "\n",
    "RAIS_GERAL_2009_HIP.head()"
   ]
  },
  {
   "cell_type": "code",
   "execution_count": 27,
   "metadata": {},
   "outputs": [
    {
     "data": {
      "text/html": [
       "<div>\n",
       "<style scoped>\n",
       "    .dataframe tbody tr th:only-of-type {\n",
       "        vertical-align: middle;\n",
       "    }\n",
       "\n",
       "    .dataframe tbody tr th {\n",
       "        vertical-align: top;\n",
       "    }\n",
       "\n",
       "    .dataframe thead th {\n",
       "        text-align: right;\n",
       "    }\n",
       "</style>\n",
       "<table border=\"1\" class=\"dataframe\">\n",
       "  <thead>\n",
       "    <tr style=\"text-align: right;\">\n",
       "      <th></th>\n",
       "      <th>Fem.</th>\n",
       "      <th>Masc.</th>\n",
       "      <th>Estat. Mann-Whitney</th>\n",
       "      <th>pValor</th>\n",
       "      <th>Resultado Estat.</th>\n",
       "    </tr>\n",
       "  </thead>\n",
       "  <tbody>\n",
       "    <tr>\n",
       "      <th>Fundamental Completo</th>\n",
       "      <td>1,891.17</td>\n",
       "      <td>2,499.41</td>\n",
       "      <td>6529452.5</td>\n",
       "      <td>0.01 &gt; 0.00000...</td>\n",
       "      <td>Medianas estatisticamente diferentes</td>\n",
       "    </tr>\n",
       "    <tr>\n",
       "      <th>Médio Completo</th>\n",
       "      <td>2,431.37</td>\n",
       "      <td>3,169.75</td>\n",
       "      <td>2747435797.0</td>\n",
       "      <td>0.01 &gt; 0.00000...</td>\n",
       "      <td>Medianas estatisticamente diferentes</td>\n",
       "    </tr>\n",
       "    <tr>\n",
       "      <th>Superior Completo</th>\n",
       "      <td>6,666.97</td>\n",
       "      <td>7,914.23</td>\n",
       "      <td>9902646227.0</td>\n",
       "      <td>0.01 &gt; 0.00000...</td>\n",
       "      <td>Medianas estatisticamente diferentes</td>\n",
       "    </tr>\n",
       "    <tr>\n",
       "      <th>Mestrado</th>\n",
       "      <td>12,278.96</td>\n",
       "      <td>13,594.78</td>\n",
       "      <td>4566314.5</td>\n",
       "      <td>0.01 &gt; 0.00000...</td>\n",
       "      <td>Medianas estatisticamente diferentes</td>\n",
       "    </tr>\n",
       "    <tr>\n",
       "      <th>Doutorado</th>\n",
       "      <td>10,132.55</td>\n",
       "      <td>10,960.86</td>\n",
       "      <td>222752.5</td>\n",
       "      <td>0.01 &gt; 0.00587...</td>\n",
       "      <td>Medianas estatisticamente diferentes</td>\n",
       "    </tr>\n",
       "  </tbody>\n",
       "</table>\n",
       "</div>"
      ],
      "text/plain": [
       "                          Fem.     Masc. Estat. Mann-Whitney  \\\n",
       "Fundamental Completo  1,891.17  2,499.41           6529452.5   \n",
       "Médio Completo        2,431.37  3,169.75        2747435797.0   \n",
       "Superior Completo     6,666.97  7,914.23        9902646227.0   \n",
       "Mestrado             12,278.96 13,594.78           4566314.5   \n",
       "Doutorado            10,132.55 10,960.86            222752.5   \n",
       "\n",
       "                                 pValor                      Resultado Estat.  \n",
       "Fundamental Completo  0.01 > 0.00000...  Medianas estatisticamente diferentes  \n",
       "Médio Completo        0.01 > 0.00000...  Medianas estatisticamente diferentes  \n",
       "Superior Completo     0.01 > 0.00000...  Medianas estatisticamente diferentes  \n",
       "Mestrado              0.01 > 0.00000...  Medianas estatisticamente diferentes  \n",
       "Doutorado             0.01 > 0.00587...  Medianas estatisticamente diferentes  "
      ]
     },
     "execution_count": 27,
     "metadata": {},
     "output_type": "execute_result"
    }
   ],
   "source": [
    "TESTE_HIP_2019 = pd.DataFrame(columns = ['Estat. Mann-Whitney', 'pValor', 'Resultado Estat.'])\n",
    "\n",
    "for e in escol:\n",
    "    df1 = RAIS_GERAL_2019.query(\"Sexo == 1\").replace(escol).query(\"Escolaridade == '{}'\".format(escol[e])).Remuneração\n",
    "    df2 = RAIS_GERAL_2019.query(\"Sexo == 2\").replace(escol).query(\"Escolaridade == '{}'\".format(escol[e])).Remuneração\n",
    "    \n",
    "    mean1 = df1.median()\n",
    "    mean2 = df2.median()\n",
    "\n",
    "    if mean1 < mean2:\n",
    "        stat, p, result= teste_hipotese(df1, df2, nivel_confianca)\n",
    "    else:\n",
    "        stat, p, result = teste_hipotese(df2, df1, nivel_confianca)\n",
    "    \n",
    "    TESTE_HIP_2019.loc[escol[e]] = [str(stat), '0.01 > {:.5f}...'.format(p), result]\n",
    "\n",
    "RAIS_GERAL_2019_HIP = pd.merge(RAIS_GERAL_2019_MEDIANA, TESTE_HIP_2019, left_index=True, right_index=True)\n",
    "RAIS_GERAL_2019_HIP.drop('Diferença Salarial', inplace=True, axis=1)\n",
    "RAIS_GERAL_2019_HIP.drop('Ano', inplace=True, axis=1)\n",
    "\n",
    "RAIS_GERAL_2019_HIP.head()"
   ]
  }
 ],
 "metadata": {
  "interpreter": {
   "hash": "5f7f9430385e545a917b30fd4673f9541090325dbbe6b39e92327e6f839690e9"
  },
  "kernelspec": {
   "display_name": "Python 3.9.4 ('ic_fatec39')",
   "language": "python",
   "name": "python3"
  },
  "language_info": {
   "codemirror_mode": {
    "name": "ipython",
    "version": 3
   },
   "file_extension": ".py",
   "mimetype": "text/x-python",
   "name": "python",
   "nbconvert_exporter": "python",
   "pygments_lexer": "ipython3",
   "version": "3.9.4"
  },
  "orig_nbformat": 4
 },
 "nbformat": 4,
 "nbformat_minor": 2
}
