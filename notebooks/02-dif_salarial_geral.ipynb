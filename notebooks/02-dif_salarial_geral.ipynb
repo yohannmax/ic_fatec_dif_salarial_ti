{
 "cells": [
  {
   "cell_type": "markdown",
   "metadata": {},
   "source": [
    "# Análise da diferença salarial para trabalhadores de TI distribuídos em todos os setores produtivos.\n",
    "\n",
    "Aqui é realizado as análises de quantidade de pessoas, da massa salarial e diferença salarial entre homens e mulheres\n",
    "com funções trabalhistas de TI distribuídos em qualquer setor produtivo no Brasil, em um recorte de 2009 e 2019."
   ]
  },
  {
   "cell_type": "markdown",
   "metadata": {},
   "source": [
    "## Etapas iniciais comuns para os dois anos da análise:"
   ]
  },
  {
   "cell_type": "markdown",
   "metadata": {},
   "source": [
    "### Imports necessários para realização dos processamentos e análises:"
   ]
  },
  {
   "cell_type": "code",
   "execution_count": 1,
   "metadata": {},
   "outputs": [],
   "source": [
    "import pandas as pd\n",
    "import matplotlib.pyplot as plt\n",
    "import seaborn as sns\n",
    "import numpy as np\n",
    "from statsmodels.graphics.gofplots import qqplot\n",
    "from scipy.stats import shapiro\n",
    "from scipy.stats import normaltest\n",
    "from scipy.stats import mannwhitneyu\n",
    "\n",
    "# Opções gerais necessárias:\n",
    "\n",
    "pd.options.display.float_format = \"{:,.2f}\".format"
   ]
  },
  {
   "cell_type": "markdown",
   "metadata": {},
   "source": [
    "### Variáveis inicias importantes utilizadas durante a realização dos processamentos e análises:"
   ]
  },
  {
   "cell_type": "code",
   "execution_count": 2,
   "metadata": {},
   "outputs": [],
   "source": [
    "# Variável com o nível de confiança a ser considerado e utilizado:\n",
    "nivel_confianca = 0.01\n",
    "\n",
    "# Criando indices dos sexos para utilização posterior:\n",
    "sexo = {1: 'M', 2: 'F'}\n",
    "\n",
    "# Montagem da paleta de cores utilizadas:\n",
    "pal = sns.color_palette(\"pastel\")\n",
    "\n",
    "# Definição das cores para cada sexo (masc: verde pastel, fem: laranja pastel)\n",
    "color_masc = pal[2]\n",
    "color_fem = pal[1]"
   ]
  },
  {
   "cell_type": "markdown",
   "metadata": {},
   "source": [
    "### Etapa de leitura dos dados das tabelas em CSV para 2009 e 2019:"
   ]
  },
  {
   "cell_type": "code",
   "execution_count": 3,
   "metadata": {},
   "outputs": [],
   "source": [
    "# Leitura da tabela de dados gerais para 2009:\n",
    "RAIS_2009 = pd.read_csv(\"../data/DATA_RAIS_GERAL_2009.csv\", sep = \";\", encoding = 'utf-8', skipinitialspace = True)\n",
    "\n",
    "# Renomeando as colunas:\n",
    "RAIS_2009.rename(columns = {'CBO Ocupação 2002':'CBO', 'CNAE 2.0 Classe':'CNAE', 'Escolaridade após 2005':'Escolaridade',\n",
    "                            'Raça Cor':'Raça', 'Vl Remun Dezembro Nom':'Remuneração', 'Sexo Trabalhador':'Sexo'}, inplace = True)"
   ]
  },
  {
   "cell_type": "code",
   "execution_count": 4,
   "metadata": {},
   "outputs": [],
   "source": [
    "# Leitura da tabela de dados gerais para 2019:\n",
    "RAIS_2019 = pd.read_csv(\"../data/DATA_RAIS_GERAL_2019.csv\", sep = \";\", encoding = 'utf-8', skipinitialspace = True)\n",
    "\n",
    "# Renomeando as colunas:\n",
    "RAIS_2019.rename(columns = {'CBO Ocupação 2002':'CBO', 'CNAE 2.0 Classe':'CNAE', 'Escolaridade após 2005':'Escolaridade',\n",
    "                            'Raça Cor':'Raça', 'Vl Remun Dezembro Nom':'Remuneração', 'Sexo Trabalhador':'Sexo'}, inplace = True)"
   ]
  },
  {
   "cell_type": "markdown",
   "metadata": {},
   "source": [
    "### Correção da inflação do período analisado até o atual das remunerações pelo fator de correção INPC (IBGE):"
   ]
  },
  {
   "cell_type": "code",
   "execution_count": 5,
   "metadata": {},
   "outputs": [],
   "source": [
    "# Foi utilizado o Índice Nacional de Preços ao Consumidor (INPC - IBGE).\n",
    "\n",
    "# Índice de correção de inflação para o período de 12/2009 (data dos dados para 2009) \n",
    "# até 04/2022 (fator de correção mais recente no último processamento dos dados).\n",
    "fator_correcao_inflacao_2009 = 2.14068130\n",
    "\n",
    "RAIS_2009[\"Remuneração\"] = RAIS_2009[\"Remuneração\"] * fator_correcao_inflacao_2009\n",
    "\n",
    "# Índice de correção de inflação para o período de 12/2019 (data dos dados para 2019) \n",
    "# até 04/2022 (fator de correção mais recente no último processamento dos dados).\n",
    "fator_correcao_inflacao_2019 = 1.22858430\n",
    "\n",
    "RAIS_2019[\"Remuneração\"] = RAIS_2019[\"Remuneração\"] * fator_correcao_inflacao_2019"
   ]
  },
  {
   "cell_type": "markdown",
   "metadata": {},
   "source": [
    "### Exibição das tabelas gerais para cada ano:"
   ]
  },
  {
   "cell_type": "code",
   "execution_count": 6,
   "metadata": {},
   "outputs": [
    {
     "data": {
      "text/html": [
       "<div>\n",
       "<style scoped>\n",
       "    .dataframe tbody tr th:only-of-type {\n",
       "        vertical-align: middle;\n",
       "    }\n",
       "\n",
       "    .dataframe tbody tr th {\n",
       "        vertical-align: top;\n",
       "    }\n",
       "\n",
       "    .dataframe thead th {\n",
       "        text-align: right;\n",
       "    }\n",
       "</style>\n",
       "<table border=\"1\" class=\"dataframe\">\n",
       "  <thead>\n",
       "    <tr style=\"text-align: right;\">\n",
       "      <th></th>\n",
       "      <th>UF</th>\n",
       "      <th>CBO</th>\n",
       "      <th>CNAE</th>\n",
       "      <th>Escolaridade</th>\n",
       "      <th>Idade</th>\n",
       "      <th>Raça</th>\n",
       "      <th>Remuneração</th>\n",
       "      <th>Sexo</th>\n",
       "    </tr>\n",
       "  </thead>\n",
       "  <tbody>\n",
       "    <tr>\n",
       "      <th>0</th>\n",
       "      <td>AC</td>\n",
       "      <td>317205</td>\n",
       "      <td>73114</td>\n",
       "      <td>2</td>\n",
       "      <td>21</td>\n",
       "      <td>02</td>\n",
       "      <td>1,498.48</td>\n",
       "      <td>1</td>\n",
       "    </tr>\n",
       "    <tr>\n",
       "      <th>1</th>\n",
       "      <td>AC</td>\n",
       "      <td>317205</td>\n",
       "      <td>73114</td>\n",
       "      <td>2</td>\n",
       "      <td>29</td>\n",
       "      <td>02</td>\n",
       "      <td>2,140.68</td>\n",
       "      <td>1</td>\n",
       "    </tr>\n",
       "    <tr>\n",
       "      <th>2</th>\n",
       "      <td>AC</td>\n",
       "      <td>317205</td>\n",
       "      <td>47717</td>\n",
       "      <td>2</td>\n",
       "      <td>33</td>\n",
       "      <td>02</td>\n",
       "      <td>2,140.68</td>\n",
       "      <td>1</td>\n",
       "    </tr>\n",
       "    <tr>\n",
       "      <th>3</th>\n",
       "      <td>AC</td>\n",
       "      <td>212420</td>\n",
       "      <td>47512</td>\n",
       "      <td>4</td>\n",
       "      <td>29</td>\n",
       "      <td>08</td>\n",
       "      <td>2,354.75</td>\n",
       "      <td>1</td>\n",
       "    </tr>\n",
       "    <tr>\n",
       "      <th>4</th>\n",
       "      <td>AC</td>\n",
       "      <td>142530</td>\n",
       "      <td>47814</td>\n",
       "      <td>6</td>\n",
       "      <td>32</td>\n",
       "      <td>08</td>\n",
       "      <td>1,806.35</td>\n",
       "      <td>1</td>\n",
       "    </tr>\n",
       "  </tbody>\n",
       "</table>\n",
       "</div>"
      ],
      "text/plain": [
       "   UF     CBO   CNAE  Escolaridade  Idade Raça  Remuneração  Sexo\n",
       "0  AC  317205  73114             2     21   02     1,498.48     1\n",
       "1  AC  317205  73114             2     29   02     2,140.68     1\n",
       "2  AC  317205  47717             2     33   02     2,140.68     1\n",
       "3  AC  212420  47512             4     29   08     2,354.75     1\n",
       "4  AC  142530  47814             6     32   08     1,806.35     1"
      ]
     },
     "execution_count": 6,
     "metadata": {},
     "output_type": "execute_result"
    }
   ],
   "source": [
    "# Exibindo os cinco primeiros dados da tabela de 2009:\n",
    "RAIS_2009.head()"
   ]
  },
  {
   "cell_type": "code",
   "execution_count": 7,
   "metadata": {},
   "outputs": [
    {
     "data": {
      "text/html": [
       "<div>\n",
       "<style scoped>\n",
       "    .dataframe tbody tr th:only-of-type {\n",
       "        vertical-align: middle;\n",
       "    }\n",
       "\n",
       "    .dataframe tbody tr th {\n",
       "        vertical-align: top;\n",
       "    }\n",
       "\n",
       "    .dataframe thead th {\n",
       "        text-align: right;\n",
       "    }\n",
       "</style>\n",
       "<table border=\"1\" class=\"dataframe\">\n",
       "  <thead>\n",
       "    <tr style=\"text-align: right;\">\n",
       "      <th></th>\n",
       "      <th>UF</th>\n",
       "      <th>CBO</th>\n",
       "      <th>CNAE</th>\n",
       "      <th>Escolaridade</th>\n",
       "      <th>Idade</th>\n",
       "      <th>Raça</th>\n",
       "      <th>Remuneração</th>\n",
       "      <th>Sexo</th>\n",
       "    </tr>\n",
       "  </thead>\n",
       "  <tbody>\n",
       "    <tr>\n",
       "      <th>0</th>\n",
       "      <td>MS</td>\n",
       "      <td>212405</td>\n",
       "      <td>72100</td>\n",
       "      <td>1</td>\n",
       "      <td>20</td>\n",
       "      <td>8</td>\n",
       "      <td>2,554.23</td>\n",
       "      <td>1</td>\n",
       "    </tr>\n",
       "    <tr>\n",
       "      <th>1</th>\n",
       "      <td>MS</td>\n",
       "      <td>212405</td>\n",
       "      <td>10996</td>\n",
       "      <td>1</td>\n",
       "      <td>37</td>\n",
       "      <td>2</td>\n",
       "      <td>2,242.77</td>\n",
       "      <td>1</td>\n",
       "    </tr>\n",
       "    <tr>\n",
       "      <th>2</th>\n",
       "      <td>MS</td>\n",
       "      <td>317210</td>\n",
       "      <td>84116</td>\n",
       "      <td>2</td>\n",
       "      <td>27</td>\n",
       "      <td>8</td>\n",
       "      <td>1,626.51</td>\n",
       "      <td>1</td>\n",
       "    </tr>\n",
       "    <tr>\n",
       "      <th>3</th>\n",
       "      <td>MS</td>\n",
       "      <td>212415</td>\n",
       "      <td>47440</td>\n",
       "      <td>3</td>\n",
       "      <td>35</td>\n",
       "      <td>8</td>\n",
       "      <td>5,580.60</td>\n",
       "      <td>1</td>\n",
       "    </tr>\n",
       "    <tr>\n",
       "      <th>4</th>\n",
       "      <td>MS</td>\n",
       "      <td>317210</td>\n",
       "      <td>62031</td>\n",
       "      <td>3</td>\n",
       "      <td>40</td>\n",
       "      <td>9</td>\n",
       "      <td>1,847.79</td>\n",
       "      <td>1</td>\n",
       "    </tr>\n",
       "  </tbody>\n",
       "</table>\n",
       "</div>"
      ],
      "text/plain": [
       "   UF     CBO   CNAE  Escolaridade  Idade  Raça  Remuneração  Sexo\n",
       "0  MS  212405  72100             1     20     8     2,554.23     1\n",
       "1  MS  212405  10996             1     37     2     2,242.77     1\n",
       "2  MS  317210  84116             2     27     8     1,626.51     1\n",
       "3  MS  212415  47440             3     35     8     5,580.60     1\n",
       "4  MS  317210  62031             3     40     9     1,847.79     1"
      ]
     },
     "execution_count": 7,
     "metadata": {},
     "output_type": "execute_result"
    }
   ],
   "source": [
    "# Exibindo os cinco primeiros dados da tabela de 2009:\n",
    "RAIS_2019.head()"
   ]
  },
  {
   "cell_type": "markdown",
   "metadata": {},
   "source": [
    "### Filtro da tabela geral de cada ano para separação em tabelas por sexo:"
   ]
  },
  {
   "cell_type": "code",
   "execution_count": 8,
   "metadata": {},
   "outputs": [],
   "source": [
    "# Filtrando os dados em tabelas separadas pada sexo masculino e feminino (2009):\n",
    "RAIS_2009_masculino = RAIS_2009.query(\"Sexo == 1\")\n",
    "RAIS_2009_feminino = RAIS_2009.query(\"Sexo == 2\")\n",
    "\n",
    "# Filtrando os dados em tabelas separadas pada sexo masculino e feminino (2019):\n",
    "RAIS_2019_masculino = RAIS_2019.query(\"Sexo == 1\")\n",
    "RAIS_2019_feminino = RAIS_2019.query(\"Sexo == 2\")"
   ]
  },
  {
   "cell_type": "markdown",
   "metadata": {},
   "source": [
    "## Análise dos dados para o ano de 2009:"
   ]
  },
  {
   "cell_type": "markdown",
   "metadata": {},
   "source": [
    "### Visualização e análise da distribuição da variável remuneração (2009):"
   ]
  },
  {
   "cell_type": "code",
   "execution_count": 9,
   "metadata": {},
   "outputs": [
    {
     "data": {
      "image/png": "[encoded data removed]",
      "text/plain": [
       "<Figure size 1008x432 with 1 Axes>"
      ]
     },
     "metadata": {
      "needs_background": "light"
     },
     "output_type": "display_data"
    }
   ],
   "source": [
    "fig, ax = plt.subplots()\n",
    "fig.set_size_inches(14, 6)\n",
    "\n",
    "hist = sns.histplot(RAIS_2009.Remuneração)\n",
    "sns.despine()\n",
    "hist.set_ylabel('Frequência')\n",
    "\n",
    "fig.savefig(\"./figures/svg/hist_remuneracao_geral_2009.svg\")"
   ]
  },
  {
   "cell_type": "markdown",
   "metadata": {},
   "source": [
    "Como podemos ver no gráfico acima, a disbribuição da variável principal provavelmente não segue uma normal, visto seu forte achatamento ao lado esquerdo.\n",
    "  \n",
    "Isto ocorre pelo comportamento das remunerações no país. Temos a maioria da população recebendo salários mais próximos de 0 do que de 60 mil, visto o cenário ruim de distribuição de renda.\n",
    "\n",
    "Abaixo é exemplicado nos dados utilizados no trabalho esta desproporção de renda."
   ]
  },
  {
   "cell_type": "code",
   "execution_count": 10,
   "metadata": {},
   "outputs": [
    {
     "name": "stdout",
     "output_type": "stream",
     "text": [
      "Soma dos salários dos trabalhadores 1% mais ricos: 200788341.52152425\n",
      "Quantidade de trabalhadores 1% mais ricos: 3914\n",
      "\n",
      "Soma dos salários dos trabalhadores 27,9% mais pobres, aproximadamente: 200793467.0617949\n",
      "Quantidade de trabalhadores 27,9% mais pobres: 110015\n"
     ]
    }
   ],
   "source": [
    "print(\"Soma dos salários dos trabalhadores 1% mais ricos: {}\".format(RAIS_2009.Remuneração[RAIS_2009.Remuneração > RAIS_2009.Remuneração.quantile(0.99)].sum()))\n",
    "print(\"Quantidade de trabalhadores 1% mais ricos: {}\".format(RAIS_2009.Remuneração[RAIS_2009.Remuneração > RAIS_2009.Remuneração.quantile(0.99)].count()))\n",
    "\n",
    "print()\n",
    "\n",
    "print(\"Soma dos salários dos trabalhadores 27,9% mais pobres, aproximadamente: {}\".format(RAIS_2009.Remuneração[RAIS_2009.Remuneração < RAIS_2009.Remuneração.quantile(0.2793)].sum()))\n",
    "print(\"Quantidade de trabalhadores 27,9% mais pobres: {}\".format(RAIS_2009.Remuneração[RAIS_2009.Remuneração < RAIS_2009.Remuneração.quantile(0.2793)].count()))"
   ]
  },
  {
   "cell_type": "markdown",
   "metadata": {},
   "source": [
    "Logo, o salário somado de todas as 3.914 pessoas mais ricas em funções trabalhistas de TI é aproximadamente de 200 milhões de reais. Enquanto são necessárias 110.015 pessoas de menor renda para, no total, termos o equivalente salarial dos 1% mais ricos, demonstrando que a desigualdade de renda é observada, não somente no país ao todo, mas também nas ocupações de TI."
   ]
  },
  {
   "cell_type": "markdown",
   "metadata": {},
   "source": [
    "Para garantir que a distribuição não é normal, é necessário realizar alguns testes de normalidade. Isto é importante para mais a frente ser possível comparar as médias (dos salários entre sexos) corretamente. Caso seja uma normal, são utilizados testes específicos para a comparação, caso não seja normal, deve-se utilizar a abordagem não paramétrica."
   ]
  },
  {
   "cell_type": "code",
   "execution_count": 11,
   "metadata": {},
   "outputs": [
    {
     "data": {
      "image/png": "[encoded data removed]",
      "text/plain": [
       "<Figure size 432x288 with 1 Axes>"
      ]
     },
     "metadata": {
      "needs_background": "light"
     },
     "output_type": "display_data"
    }
   ],
   "source": [
    "qqplot(RAIS_2009.Remuneração, line='s')\n",
    "plt.show()"
   ]
  },
  {
   "cell_type": "markdown",
   "metadata": {},
   "source": [
    "No gráfico acima, podemos sugerir visualmente que a distribuição não é normal, visto que as bordas da linha azul passam bem longe da linha vermelha. Para uma possível conclusão de normalidade, está linha deve estar o mais próximo possível da linha vermelha.\n",
    "\n",
    "É necessário realizar um teste de normalidade para concluir estatísticamente de que a distribuição da variável remuneração não é normal."
   ]
  },
  {
   "cell_type": "code",
   "execution_count": 12,
   "metadata": {},
   "outputs": [
    {
     "name": "stdout",
     "output_type": "stream",
     "text": [
      "Estatística Shapiro = 0.71126, p-valor = 0.00000\n",
      "A amostra não parece ser Gaussiana (rejeitar H0)\n"
     ]
    }
   ],
   "source": [
    "# Realização do teste de Shapiro considerando o nível de confiança de 0.01:\n",
    "\n",
    "stat, p_valor = shapiro(RAIS_2009.sample(5000).Remuneração)\n",
    "print('Estatística Shapiro = {:.5f}, p-valor = {:.5f}'.format(stat, p_valor))\n",
    "\n",
    "if p_valor > nivel_confianca:\n",
    "    print('A amostra parece ser Gaussiana (falha ao rejeitar H0)')\n",
    "else:\n",
    "    print('A amostra não parece ser Gaussiana (rejeitar H0)')"
   ]
  },
  {
   "cell_type": "markdown",
   "metadata": {},
   "source": [
    "Ao realizar o teste de normalidade acima, temos como saída um p-valor 0.00000, da qual, ao nível de confiança de 0.01% rejeitamos a hipótese nula de que a distribuição é normal, visto que o p-valor não é maior do que o nível de confiança definido. Logo, podemos concluir que a distribuição não é normal.\n",
    "\n",
    "Para garantir a conclusão, abaixo é realizado outro teste de normalidade."
   ]
  },
  {
   "cell_type": "code",
   "execution_count": 13,
   "metadata": {},
   "outputs": [
    {
     "name": "stdout",
     "output_type": "stream",
     "text": [
      "Estatística = 289932.08117, p-valor = 0.00000\n",
      "A amostra não parece ser Gaussiana (rejeitar H0)\n"
     ]
    }
   ],
   "source": [
    "# Realização do teste de normalidade:\n",
    "\n",
    "stat, p_valor = normaltest(RAIS_2009.Remuneração)\n",
    "print('Estatística = {:.5f}, p-valor = {:.5f}'.format(stat, p_valor))\n",
    "\n",
    "if p_valor > nivel_confianca:\n",
    "    print('A amostra parece ser Gaussiana (falha ao rejeitar H0)')\n",
    "else:\n",
    "    print('A amostra não parece ser Gaussiana (rejeitar H0)')"
   ]
  },
  {
   "cell_type": "markdown",
   "metadata": {},
   "source": [
    "Novamente temos a rejeição da hipótese nula de normalidade da distribuição, visto que o p-valor é menor que o nível de confiança de 0.01%.\n",
    "\n",
    "Então, podemos inferir estatísticamente de que a variável remuneração no conjunto de dados não tem uma distribuição normal.\n",
    "\n",
    "Sabendo disto, para comparação das médias salariais será necessário utilizar métodos de comparação não paramétricos."
   ]
  },
  {
   "cell_type": "markdown",
   "metadata": {},
   "source": [
    "### Análise da frequência (quantidade de pessoas) dos dados entre homens e mulheres (2009):"
   ]
  },
  {
   "cell_type": "code",
   "execution_count": 14,
   "metadata": {},
   "outputs": [
    {
     "name": "stdout",
     "output_type": "stream",
     "text": [
      "Quantidade trabalhadores masculinos: 291851.\n",
      "Quantidade trabalhadores femininos: 102086.\n",
      "São aproximadamente 2.86 mais homens que mulheres.\n"
     ]
    }
   ],
   "source": [
    "# Pegando a quantidade de homens e mulheres nos dados:\n",
    "\n",
    "qnt_masculino = RAIS_2009_masculino.Remuneração.count()\n",
    "qnt_feminino = RAIS_2009_feminino.Remuneração.count()\n",
    "\n",
    "print(\"Quantidade trabalhadores masculinos: {}.\\n\" \\\n",
    "      \"Quantidade trabalhadores femininos: {}.\\n\" \\\n",
    "      \"São aproximadamente {:.2f} mais homens que mulheres.\".format(qnt_masculino, qnt_feminino, qnt_masculino / qnt_feminino))\n"
   ]
  },
  {
   "cell_type": "markdown",
   "metadata": {},
   "source": [
    "Com as quantidades de cada sexo capturadas, podemos verificar que existem muitos mais homens do que mulheres trabalhando com TI no ano de 2009. Aproximadamente temos 2.86 vezes mais homens que mulheres.\n",
    "\n",
    "Isto demonstra como existe uma baixa participação de mulheres neste nicho de mercado no país, visto diversos pontos levantados na bibliografia inicial deste trabalho."
   ]
  },
  {
   "cell_type": "code",
   "execution_count": 15,
   "metadata": {},
   "outputs": [
    {
     "data": {
      "image/png": "[encoded data removed]",
      "text/plain": [
       "<Figure size 432x288 with 1 Axes>"
      ]
     },
     "metadata": {},
     "output_type": "display_data"
    }
   ],
   "source": [
    "freq_fig, freq_ax = plt.subplots()\n",
    "freq_ax.pie([qnt_masculino, qnt_feminino], labels = (\"Masculino\", \"Feminino\"), \n",
    "            autopct = '%1.2f%%', startangle = 90, colors = (color_masc, color_fem),\n",
    "            wedgeprops={\"edgecolor\":\"0\",'linewidth': 0.7, 'antialiased': True})\n",
    "freq_ax.axis('equal')\n",
    "\n",
    "freq_fig.savefig(\"./figures/svg/qnt_sexo_pie_geral_2009.svg\")"
   ]
  },
  {
   "cell_type": "markdown",
   "metadata": {},
   "source": [
    "No gráfico acima podemos visualizar de forma geral tal distribuição."
   ]
  },
  {
   "cell_type": "markdown",
   "metadata": {},
   "source": [
    "### Análise da massa salarial de homens e mulheres (2009):"
   ]
  },
  {
   "cell_type": "code",
   "execution_count": 16,
   "metadata": {},
   "outputs": [
    {
     "name": "stdout",
     "output_type": "stream",
     "text": [
      "Massa salarial trabalhadores masculinos: 2314386750.64.\n",
      "Massa salarial trabalhadores femininos: 718249347.65.\n",
      "A massa salarial dos homens é 3.22 vezes maior que das mulheres.\n"
     ]
    }
   ],
   "source": [
    "# Pegando a massa salarial de homens e mulheres nos dados:\n",
    "\n",
    "massa_salarial_masculino = RAIS_2009_masculino.Remuneração.sum()\n",
    "massa_salarial_feminino = RAIS_2009_feminino.Remuneração.sum()\n",
    "\n",
    "print(\"Massa salarial trabalhadores masculinos: {:.2f}.\\n\" \\\n",
    "      \"Massa salarial trabalhadores femininos: {:.2f}.\\n\" \\\n",
    "      \"A massa salarial dos homens é {:.2f} vezes maior que das mulheres.\".format(massa_salarial_masculino, massa_salarial_feminino, massa_salarial_masculino / massa_salarial_feminino))"
   ]
  },
  {
   "cell_type": "markdown",
   "metadata": {},
   "source": [
    "A massa salarial geralmente acompanha a proporção entre a quantidade de homens e mulheres, porém, temos uma diferença neste caso.\n",
    "\n",
    "Ao verificarmos a proporção entre homens e mulheres, temos 2.86 vezes homens a mais que mulheres, mas ao olharmos para a massa salarial verificamos que a massa salarial dos homens é 3.22 vezes a das mulheres, 0.36 vezes a mais que a proporção na quantidade.\n",
    "\n",
    "Isto pode demonstrar de início que possivelmente teremos diferenças salariais na média entre os sexos."
   ]
  },
  {
   "cell_type": "code",
   "execution_count": 17,
   "metadata": {},
   "outputs": [
    {
     "data": {
      "image/png": "[encoded data removed]",
      "text/plain": [
       "<Figure size 432x288 with 1 Axes>"
      ]
     },
     "metadata": {},
     "output_type": "display_data"
    }
   ],
   "source": [
    "freq_fig, freq_ax = plt.subplots()\n",
    "freq_ax.pie([massa_salarial_masculino, massa_salarial_feminino], labels = (\"Masculino\", \"Feminino\"), \n",
    "            autopct = '%1.2f%%', startangle = 90, colors = (color_masc, color_fem),\n",
    "            wedgeprops={\"edgecolor\":\"0\",'linewidth': 0.7, 'antialiased': True})\n",
    "freq_ax.axis('equal')\n",
    "\n",
    "freq_fig.savefig(\"./figures/svg/massa_sexo_pie_geral_2009.svg\")"
   ]
  },
  {
   "cell_type": "markdown",
   "metadata": {},
   "source": [
    "No gráfico de pizza anterior a este, referente as quantidades de cada sexo, temos as porcentagens: masculino com 74.09% e feminino com 25.91%. Ao comparar com o gráfico da massa salarial (acima), temos os respectivos valores para homens e mulheres: 76.32% e 23.6%, demonstrando visualmente uma possível diferença salarial entre os sexos, em desfavorecimento as mulheres.\n",
    "\n",
    "Para concluirmos melhor esta possibilidade, a seguir é realizado uma análise das médias salariais em cada sexo e comparadas."
   ]
  },
  {
   "cell_type": "markdown",
   "metadata": {},
   "source": [
    "### Análise das médias salariais e diferenças (2009):"
   ]
  },
  {
   "cell_type": "code",
   "execution_count": 18,
   "metadata": {},
   "outputs": [
    {
     "data": {
      "image/png": "[encoded data removed]",
      "text/plain": [
       "<Figure size 1296x720 with 1 Axes>"
      ]
     },
     "metadata": {
      "needs_background": "light"
     },
     "output_type": "display_data"
    }
   ],
   "source": [
    "RAIS_2009[\"Sexo\"].replace(sexo, inplace = True)\n",
    "\n",
    "box = sns.boxplot(x = 'Remuneração', y = 'Sexo', data = RAIS_2009, orient = 'h', \n",
    "                  showmeans=True, meanprops={\"marker\":\"o\", \"markerfacecolor\":\"white\", \n",
    "                  \"markeredgecolor\":\"black\", \"markersize\":\"5\"},\n",
    "                  palette = {\"M\": color_masc, \"F\": color_fem})\n",
    "box.figure.set_size_inches(18, 10)\n",
    "\n",
    "box.figure.savefig(\"./figures/png/boxplot_geral_2009.png\", dpi = 300)"
   ]
  },
  {
   "cell_type": "code",
   "execution_count": 19,
   "metadata": {},
   "outputs": [
    {
     "name": "stdout",
     "output_type": "stream",
     "text": [
      "Masculino:\n",
      "Média das remunerações: R$ 7930.03\n",
      "Mediana das remunerações: R$ 4950.41\n",
      "\n",
      "Feminino:\n",
      "Média das remunerações: R$ 7035.73\n",
      "Mediana das remunerações: R$ 3962.06\n",
      "\n",
      "Diferença salarial média: R$ 894.30\n",
      "Variação percentual média: -11.28 %\n",
      "\n",
      "Diferença salarial mediana: R$ 988.35\n",
      "Variação percentual mediana: -19.97 %\n"
     ]
    }
   ],
   "source": [
    "# Capturando as médias e medianas\n",
    "\n",
    "media_masculino = RAIS_2009_masculino.Remuneração.mean()\n",
    "mediana_masculino = RAIS_2009_masculino.Remuneração.median()\n",
    "\n",
    "media_feminino = RAIS_2009_feminino.Remuneração.mean()\n",
    "mediana_feminino = RAIS_2009_feminino.Remuneração.median()\n",
    "\n",
    "# Exibindo os dados: \n",
    "\n",
    "print(\"Masculino:\")\n",
    "print(\"Média das remunerações: R$ {:.2f}\\n\" \\\n",
    "      \"Mediana das remunerações: R$ {:.2f}\".format(media_masculino, mediana_masculino))\n",
    "\n",
    "print()\n",
    "\n",
    "print(\"Feminino:\")\n",
    "print(\"Média das remunerações: R$ {:.2f}\\n\" \\\n",
    "      \"Mediana das remunerações: R$ {:.2f}\".format(media_feminino, mediana_feminino))\n",
    "\n",
    "print()\n",
    "\n",
    "# Tirando os percentuais de diferença:\n",
    "\n",
    "dif_salarial_media = media_masculino - media_feminino\n",
    "taxa_dif_media = ((media_feminino - media_masculino) / media_masculino) * 100\n",
    "\n",
    "dif_salarial_mediana = mediana_masculino - mediana_feminino\n",
    "taxa_dif_mediana = ((mediana_feminino - mediana_masculino) / mediana_masculino) * 100\n",
    "\n",
    "print(\"Diferença salarial média: R$ {:.2f}\\n\" \\\n",
    "      \"Variação percentual média: {:.2f} %\\n\".format(dif_salarial_media, taxa_dif_media))\n",
    "\n",
    "print(\"Diferença salarial mediana: R$ {:.2f}\\n\" \\\n",
    "      \"Variação percentual mediana: {:.2f} %\".format(dif_salarial_mediana, taxa_dif_mediana))"
   ]
  },
  {
   "cell_type": "markdown",
   "metadata": {},
   "source": [
    "Ao verificarmos as médias salariais para cada sexo, temos que as **mulheres** recebem **11.27% a menos** que os **homens**, para o ano de 2009 em um recorte dos dados para ocupações consideradas de TI. Assim, **podemos concluir** que **existe diferença salarial** geral entre homens e mulheres, em **desfavorecimento para as mulheres**.\n",
    "\n",
    "Porém, para afirmar que estatisticamente estes dados são comparáveis, é necessário realizar um teste de hipótese entre os dois grupos, comparando se as médias realmente menores uma que a outra."
   ]
  },
  {
   "cell_type": "markdown",
   "metadata": {},
   "source": [
    "### Teste de hipótese para as mediana (2009):"
   ]
  },
  {
   "cell_type": "markdown",
   "metadata": {},
   "source": [
    "Para testar se a mediana das mulheres é estatisticamente menor que a mediana dos homens, será utilizado o teste não paramétrico de Mann-Whitney, visto que os grupos não são pareados, ou seja, são grupos que não dependem um do outro."
   ]
  },
  {
   "cell_type": "code",
   "execution_count": 20,
   "metadata": {},
   "outputs": [
    {
     "name": "stdout",
     "output_type": "stream",
     "text": [
      "Estatística Mann-Whitney = 13410309356.50, p-valor = 0.000000000000000\n",
      "A mediana salarial das mulheres é menor que a mediana dos homens (rejeitar H0)\n"
     ]
    }
   ],
   "source": [
    "stat, p_valor = mannwhitneyu(RAIS_2009_feminino.Remuneração, RAIS_2009_masculino.Remuneração, alternative = 'less')\n",
    "\n",
    "print(\"Estatística Mann-Whitney = {:.2f}, p-valor = {:.15f}\".format(stat, p_valor))\n",
    "\n",
    "if p_valor <= nivel_confianca:\n",
    "    print('A mediana salarial das mulheres é menor que a mediana dos homens (rejeitar H0)')\n",
    "else:\n",
    "    print('As medianas não são diferentes (falha ao rejeitar H0)')"
   ]
  },
  {
   "cell_type": "markdown",
   "metadata": {},
   "source": [
    "Ao rejeitar a hipótese nula do teste Mann-Whitney, da qual aponta que não há diferenças entra as medianas, podemos inferir estatisticamente que a mediana salarial feminina é menor que a mediana salarial masculina, demonstrando de que as diferenças são estatisticamente possíveis e sustentando a possível realidade entre esta diferença salarial."
   ]
  },
  {
   "cell_type": "markdown",
   "metadata": {},
   "source": [
    "## Análise dos dados para o ano de 2019:"
   ]
  },
  {
   "cell_type": "markdown",
   "metadata": {},
   "source": [
    "### Visualização e análise da distribuição da variável remuneração (2019):"
   ]
  },
  {
   "cell_type": "code",
   "execution_count": 21,
   "metadata": {},
   "outputs": [
    {
     "data": {
      "image/png": "[encoded data removed]",
      "text/plain": [
       "<Figure size 1008x432 with 1 Axes>"
      ]
     },
     "metadata": {
      "needs_background": "light"
     },
     "output_type": "display_data"
    }
   ],
   "source": [
    "fig, ax = plt.subplots()\n",
    "fig.set_size_inches(14, 6)\n",
    "\n",
    "hist = sns.histplot(RAIS_2019.Remuneração)\n",
    "sns.despine()\n",
    "hist.set_ylabel('Frequência')\n",
    "\n",
    "fig.savefig(\"./figures/svg/hist_remuneracao_geral_2019.svg\")"
   ]
  },
  {
   "cell_type": "markdown",
   "metadata": {},
   "source": [
    "Como podemos ver no gráfico acima, a disbribuição da variável principal provavelmente não segue uma normal, visto seu forte achatamento ao lado esquerdo.\n",
    "  \n",
    "Isto ocorre pelo comportamento das remunerações no país. Temos a maioria da população recebendo salários mais próximos de 0 do que de 50 mil, visto o cenário ruim de distribuição de renda.\n",
    "\n",
    "Abaixo é exemplicado nos dados utilizados no trabalho esta desproporção de renda."
   ]
  },
  {
   "cell_type": "code",
   "execution_count": 22,
   "metadata": {},
   "outputs": [
    {
     "name": "stdout",
     "output_type": "stream",
     "text": [
      "Soma dos salários dos trabalhadores 1% mais ricos: 290096257.3255789\n",
      "Quantidade de trabalhadores 1% mais ricos: 5847\n",
      "\n",
      "Soma dos salários dos trabalhadores 24% mais pobres, aproximadamente: 290115238.30186427\n",
      "Quantidade de trabalhadores 24% mais pobres: 143247\n"
     ]
    }
   ],
   "source": [
    "print(\"Soma dos salários dos trabalhadores 1% mais ricos: {}\".format(RAIS_2019.Remuneração[RAIS_2019.Remuneração > RAIS_2019.Remuneração.quantile(0.99)].sum()))\n",
    "print(\"Quantidade de trabalhadores 1% mais ricos: {}\".format(RAIS_2019.Remuneração[RAIS_2019.Remuneração > RAIS_2019.Remuneração.quantile(0.99)].count()))\n",
    "\n",
    "print()\n",
    "\n",
    "print(\"Soma dos salários dos trabalhadores 24% mais pobres, aproximadamente: {}\".format(RAIS_2019.Remuneração[RAIS_2019.Remuneração < RAIS_2019.Remuneração.quantile(0.245)].sum()))\n",
    "print(\"Quantidade de trabalhadores 24% mais pobres: {}\".format(RAIS_2019.Remuneração[RAIS_2019.Remuneração < RAIS_2019.Remuneração.quantile(0.245)].count()))"
   ]
  },
  {
   "cell_type": "markdown",
   "metadata": {},
   "source": [
    "Logo, o salário somado de todas as 5.847 pessoas mais ricas em funções trabalhistas de TI é aproximadamente de 290 milhões de reais. Enquanto são necessárias 143.247 pessoas de menor renda para, no total, termos o equivalente salarial dos 1% mais ricos, demonstrando que a desigualdade de renda é observada, não somente no país ao todo, mas também nas ocupações de TI."
   ]
  },
  {
   "cell_type": "markdown",
   "metadata": {},
   "source": [
    "Para garantir que a distribuição não é normal, é necessário realizar alguns testes de normalidade. Isto é importante para mais a frente ser possível comparar as médias (dos salários entre sexos) corretamente. Caso seja uma normal, são utilizados testes específicos para a comparação, caso não seja normal, deve-se utilizar a abordagem não paramétrica."
   ]
  },
  {
   "cell_type": "code",
   "execution_count": 23,
   "metadata": {},
   "outputs": [
    {
     "data": {
      "image/png": "[encoded data removed]",
      "text/plain": [
       "<Figure size 432x288 with 1 Axes>"
      ]
     },
     "metadata": {
      "needs_background": "light"
     },
     "output_type": "display_data"
    }
   ],
   "source": [
    "qqplot(RAIS_2019.Remuneração, line='s')\n",
    "plt.show()"
   ]
  },
  {
   "cell_type": "markdown",
   "metadata": {},
   "source": [
    "No gráfico acima, podemos sugerir visualmente que a distribuição não é normal, visto que as bordas da linha azul passam bem longe da linha vermelha. Para uma possível conclusão de normalidade, está linha deve estar o mais próximo possível da linha vermelha.\n",
    "\n",
    "É necessário realizar um teste de normalidade para concluir estatísticamente de que a distribuição da variável remuneração não é normal."
   ]
  },
  {
   "cell_type": "code",
   "execution_count": 24,
   "metadata": {},
   "outputs": [
    {
     "name": "stdout",
     "output_type": "stream",
     "text": [
      "Estatística Shapiro = 0.76054, p-valor = 0.00000\n",
      "A amostra não parece ser Gaussiana (rejeitar H0)\n"
     ]
    }
   ],
   "source": [
    "# Realização do teste de Shapiro considerando o nível de confiança de 0.01:\n",
    "\n",
    "stat, p_valor = shapiro(RAIS_2019.sample(5000).Remuneração)\n",
    "print('Estatística Shapiro = {:.5f}, p-valor = {:.5f}'.format(stat, p_valor))\n",
    "\n",
    "if p_valor > nivel_confianca:\n",
    "    print('A amostra parece ser Gaussiana (falha ao rejeitar H0)')\n",
    "else:\n",
    "    print('A amostra não parece ser Gaussiana (rejeitar H0)')"
   ]
  },
  {
   "cell_type": "markdown",
   "metadata": {},
   "source": [
    "Ao realizar o teste de normalidade acima, temos como saída um p-valor 0.00000, da qual, ao nível de confiança de 0.01% rejeitamos a hipótese nula de que a distribuição é normal, visto que o p-valor não é maior do que o nível de confiança definido. Logo, podemos concluir que a distribuição não é normal.\n",
    "\n",
    "Para garantir a conclusão, abaixo é realizado outro teste de normalidade."
   ]
  },
  {
   "cell_type": "code",
   "execution_count": 25,
   "metadata": {},
   "outputs": [
    {
     "name": "stdout",
     "output_type": "stream",
     "text": [
      "Estatística = 488319.01615, p-valor = 0.00000\n",
      "A amostra não parece ser Gaussiana (rejeitar H0)\n"
     ]
    }
   ],
   "source": [
    "# Realização do teste de normalidade:\n",
    "\n",
    "stat, p_valor = normaltest(RAIS_2019.Remuneração)\n",
    "print('Estatística = {:.5f}, p-valor = {:.5f}'.format(stat, p_valor))\n",
    "\n",
    "if p_valor > nivel_confianca:\n",
    "    print('A amostra parece ser Gaussiana (falha ao rejeitar H0)')\n",
    "else:\n",
    "    print('A amostra não parece ser Gaussiana (rejeitar H0)')"
   ]
  },
  {
   "cell_type": "markdown",
   "metadata": {},
   "source": [
    "Novamente temos a rejeição da hipótese nula de normalidade da distribuição, visto que o p-valor é menor que o nível de confiança de 0.01%.\n",
    "\n",
    "Então, podemos inferir estatísticamente de que a variável remuneração no conjunto de dados não tem uma distribuição normal.\n",
    "\n",
    "Sabendo disto, para comparação das médias salariais será necessário utilizar métodos de comparação não paramétricos."
   ]
  },
  {
   "cell_type": "markdown",
   "metadata": {},
   "source": [
    "### Análise da frequência (quantidade de pessoas) dos dados entre homens e mulheres (2019):"
   ]
  },
  {
   "cell_type": "code",
   "execution_count": 26,
   "metadata": {},
   "outputs": [
    {
     "name": "stdout",
     "output_type": "stream",
     "text": [
      "Quantidade trabalhadores masculinos: 455327.\n",
      "Quantidade trabalhadores femininos: 129352.\n",
      "São aproximadamente 3.52 mais homens que mulheres.\n"
     ]
    }
   ],
   "source": [
    "# Pegando a quantidade de homens e mulheres nos dados:\n",
    "\n",
    "qnt_masculino = RAIS_2019_masculino.Remuneração.count()\n",
    "qnt_feminino = RAIS_2019_feminino.Remuneração.count()\n",
    "\n",
    "print(\"Quantidade trabalhadores masculinos: {}.\\n\" \\\n",
    "      \"Quantidade trabalhadores femininos: {}.\\n\" \\\n",
    "      \"São aproximadamente {:.2f} mais homens que mulheres.\".format(qnt_masculino, qnt_feminino, qnt_masculino / qnt_feminino))"
   ]
  },
  {
   "cell_type": "markdown",
   "metadata": {},
   "source": [
    "Com as quantidades de cada sexo capturadas, podemos verificar que existem muitos mais homens do que mulheres trabalhando com TI no ano de 2019. Aproximadamente temos 3.52 vezes mais homens que mulheres.\n",
    "\n",
    "Isto demonstra como existe uma baixa participação de mulheres neste nicho de mercado no país, visto diversos pontos levantados na bibliografia inicial deste trabalho."
   ]
  },
  {
   "cell_type": "code",
   "execution_count": 27,
   "metadata": {},
   "outputs": [
    {
     "data": {
      "image/png": "[encoded data removed]",
      "text/plain": [
       "<Figure size 432x288 with 1 Axes>"
      ]
     },
     "metadata": {},
     "output_type": "display_data"
    }
   ],
   "source": [
    "freq_fig, freq_ax = plt.subplots()\n",
    "freq_ax.pie([qnt_masculino, qnt_feminino], labels = (\"Masculino\", \"Feminino\"), \n",
    "            autopct = '%1.2f%%', startangle = 90, colors = (color_masc, color_fem),\n",
    "            wedgeprops={\"edgecolor\":\"0\",'linewidth': 0.7, 'antialiased': True})\n",
    "freq_ax.axis('equal')\n",
    "\n",
    "freq_fig.savefig(\"./figures/svg/qnt_sexo_pie_geral_2019.svg\")"
   ]
  },
  {
   "cell_type": "markdown",
   "metadata": {},
   "source": [
    "No gráfico acima podemos visualizar de forma geral tal distribuição."
   ]
  },
  {
   "cell_type": "markdown",
   "metadata": {},
   "source": [
    "### Análise da massa salarial de homens e mulheres (2019):"
   ]
  },
  {
   "cell_type": "code",
   "execution_count": 28,
   "metadata": {},
   "outputs": [
    {
     "name": "stdout",
     "output_type": "stream",
     "text": [
      "Massa salarial trabalhadores masculinos: 3648093397.47.\n",
      "Massa salarial trabalhadores femininos: 890529884.27.\n",
      "A massa salarial dos homens é 4.10 vezes maior que das mulheres.\n"
     ]
    }
   ],
   "source": [
    "# Pegando a massa salarial de homens e mulheres nos dados:\n",
    "\n",
    "massa_salarial_masculino = RAIS_2019_masculino.Remuneração.sum()\n",
    "massa_salarial_feminino = RAIS_2019_feminino.Remuneração.sum()\n",
    "\n",
    "print(\"Massa salarial trabalhadores masculinos: {:.2f}.\\n\" \\\n",
    "      \"Massa salarial trabalhadores femininos: {:.2f}.\\n\" \\\n",
    "      \"A massa salarial dos homens é {:.2f} vezes maior que das mulheres.\".format(massa_salarial_masculino, massa_salarial_feminino, massa_salarial_masculino / massa_salarial_feminino))"
   ]
  },
  {
   "cell_type": "markdown",
   "metadata": {},
   "source": [
    "A massa salarial geralmente acompanha a proporção entre a quantidade de homens e mulheres, porém, temos uma diferença neste caso.\n",
    "\n",
    "Ao verificarmos a proporção entre homens e mulheres, temos 3.52 vezes homens a mais que mulheres, mas ao olharmos para a massa salarial verificamos que a massa salarial dos homens é 4.10 vezes a das mulheres, 0.58 vezes a mais que a proporção na quantidade.\n",
    "\n",
    "Isto pode demonstrar de início que possivelmente teremos diferenças salariais na média entre os sexos."
   ]
  },
  {
   "cell_type": "code",
   "execution_count": 29,
   "metadata": {},
   "outputs": [
    {
     "data": {
      "image/png": "[encoded data removed]",
      "text/plain": [
       "<Figure size 432x288 with 1 Axes>"
      ]
     },
     "metadata": {},
     "output_type": "display_data"
    }
   ],
   "source": [
    "freq_fig, freq_ax = plt.subplots()\n",
    "freq_ax.pie([massa_salarial_masculino, massa_salarial_feminino], labels = (\"Masculino\", \"Feminino\"), \n",
    "            autopct = '%1.2f%%', startangle = 90, colors = (color_masc, color_fem),\n",
    "            wedgeprops={\"edgecolor\":\"0\",'linewidth': 0.7, 'antialiased': True})\n",
    "freq_ax.axis('equal')\n",
    "\n",
    "freq_fig.savefig(\"./figures/svg/massa_sexo__pie_geral_2019.svg\")"
   ]
  },
  {
   "cell_type": "markdown",
   "metadata": {},
   "source": [
    "No gráfico de pizza anterior a este, referente as quantidades de cada sexo, temos as porcentagens: masculino com 77.88% e feminino com 22.12%. Ao comparar com o gráfico da massa salarial (acima), temos os respectivos valores para homens e mulheres: 80.38% e 19.62%, demonstrando visualmente uma possível diferença salarial entre os sexos, em desfavorecimento as mulheres.\n",
    "\n",
    "Para concluirmos melhor esta possibilidade, a seguir é realizado uma análise das médias salariais em cada sexo e comparadas."
   ]
  },
  {
   "cell_type": "markdown",
   "metadata": {},
   "source": [
    "### Análise das médias salariais e diferenças (2019):"
   ]
  },
  {
   "cell_type": "code",
   "execution_count": 30,
   "metadata": {},
   "outputs": [
    {
     "data": {
      "image/png": "[encoded data removed]",
      "text/plain": [
       "<Figure size 1296x720 with 1 Axes>"
      ]
     },
     "metadata": {
      "needs_background": "light"
     },
     "output_type": "display_data"
    }
   ],
   "source": [
    "RAIS_2019[\"Sexo\"].replace(sexo, inplace = True)\n",
    "\n",
    "box = sns.boxplot(x = 'Remuneração', y = 'Sexo', data = RAIS_2019, orient = 'h', showmeans=True, meanprops={\"marker\":\"o\",\n",
    "                       \"markerfacecolor\":\"white\", \"markeredgecolor\":\"black\", \"markersize\":\"5\"},\n",
    "                       palette = {\"M\": color_masc, \"F\": color_fem})\n",
    "box.figure.set_size_inches(18, 10)\n",
    "\n",
    "box.figure.savefig(\"./figures/png/boxplot_geral_2019.png\", dpi = 300)"
   ]
  },
  {
   "cell_type": "code",
   "execution_count": 31,
   "metadata": {},
   "outputs": [
    {
     "name": "stdout",
     "output_type": "stream",
     "text": [
      "Masculino:\n",
      "Média das remunerações: R$ 8012.03\n",
      "Mediana das remunerações: R$ 5528.63\n",
      "\n",
      "Feminino:\n",
      "Média das remunerações: R$ 6884.55\n",
      "Mediana das remunerações: R$ 4264.72\n",
      "\n",
      "Diferença salarial média: R$ 1127.48\n",
      "Variação percentual média: -14.07 %\n",
      "\n",
      "Diferença salarial mediana: R$ 1263.91\n",
      "Variação percentual mediana: -22.86 %\n"
     ]
    }
   ],
   "source": [
    "# Capturando as médias e medianas\n",
    "\n",
    "media_masculino = RAIS_2019_masculino.Remuneração.mean()\n",
    "mediana_masculino = RAIS_2019_masculino.Remuneração.median()\n",
    "\n",
    "media_feminino = RAIS_2019_feminino.Remuneração.mean()\n",
    "mediana_feminino = RAIS_2019_feminino.Remuneração.median()\n",
    "\n",
    "# Exibindo os dados: \n",
    "\n",
    "print(\"Masculino:\")\n",
    "print(\"Média das remunerações: R$ {:.2f}\\n\" \\\n",
    "      \"Mediana das remunerações: R$ {:.2f}\".format(media_masculino, mediana_masculino))\n",
    "\n",
    "print()\n",
    "\n",
    "print(\"Feminino:\")\n",
    "print(\"Média das remunerações: R$ {:.2f}\\n\" \\\n",
    "      \"Mediana das remunerações: R$ {:.2f}\".format(media_feminino, mediana_feminino))\n",
    "\n",
    "print()\n",
    "\n",
    "# Tirando os percentuais de diferença:\n",
    "\n",
    "dif_salarial_media = media_masculino - media_feminino\n",
    "taxa_dif_media = ((media_feminino - media_masculino) / media_masculino) * 100\n",
    "\n",
    "dif_salarial_mediana = mediana_masculino - mediana_feminino\n",
    "taxa_dif_mediana = ((mediana_feminino - mediana_masculino) / mediana_masculino) * 100\n",
    "\n",
    "print(\"Diferença salarial média: R$ {:.2f}\\n\" \\\n",
    "      \"Variação percentual média: {:.2f} %\\n\".format(dif_salarial_media, taxa_dif_media))\n",
    "\n",
    "print(\"Diferença salarial mediana: R$ {:.2f}\\n\" \\\n",
    "      \"Variação percentual mediana: {:.2f} %\".format(dif_salarial_mediana, taxa_dif_mediana))"
   ]
  },
  {
   "cell_type": "markdown",
   "metadata": {},
   "source": [
    "Ao verificarmos as médias salariais para cada sexo, temos que as **mulheres** recebem **11.27% a menos** que os **homens**, para o ano de 2009 em um recorte dos dados para ocupações consideradas de TI. Assim, **podemos concluir** que **existe diferença salarial** geral entre homens e mulheres, em **desfavorecimento para as mulheres**.\n",
    "\n",
    "Porém, para afirmar que estatisticamente estes dados são comparáveis, é necessário realizar um teste de hipótese entre os dois grupos, comparando se as médias realmente menores uma que a outra."
   ]
  },
  {
   "cell_type": "markdown",
   "metadata": {},
   "source": [
    "### Teste de hipótese para as medianas (2019):"
   ]
  },
  {
   "cell_type": "markdown",
   "metadata": {},
   "source": [
    "Para testar se a mediana das mulheres é estatisticamente menor que a mediana dos homens, será utilizado o teste não paramétrico de Mann-Whitney, visto que os grupos não são pareados, ou seja, são grupos que não dependem um do outro."
   ]
  },
  {
   "cell_type": "code",
   "execution_count": 32,
   "metadata": {},
   "outputs": [
    {
     "name": "stdout",
     "output_type": "stream",
     "text": [
      "Estatística Mann-Whitney = 25721998118.50, p-valor = 0.000000000000000\n",
      "A mediana salarial das mulheres é menor que a mediana dos homens (rejeitar H0)\n"
     ]
    }
   ],
   "source": [
    "stat, p_valor = mannwhitneyu(RAIS_2019_feminino.Remuneração, RAIS_2019_masculino.Remuneração, alternative = 'less')\n",
    "\n",
    "print(\"Estatística Mann-Whitney = {:.2f}, p-valor = {:.15f}\".format(stat, p_valor))\n",
    "\n",
    "if p_valor <= nivel_confianca:\n",
    "    print('A mediana salarial das mulheres é menor que a mediana dos homens (rejeitar H0)')\n",
    "else:\n",
    "    print('As medianas não são diferentes (falha ao rejeitar H0)')"
   ]
  },
  {
   "cell_type": "markdown",
   "metadata": {},
   "source": [
    "Ao rejeitar a hipótese nula do teste Mann-Whitney, da qual aponta que não há diferenças entra as medianas, podemos inferir estatisticamente que a mediana salarial feminina é menor que a mediana salarial masculina, demonstrando de que as diferenças são estatisticamente possíveis e sustentando a possível realidade entre esta diferença salarial."
   ]
  }
 ],
 "metadata": {
  "interpreter": {
   "hash": "5f7f9430385e545a917b30fd4673f9541090325dbbe6b39e92327e6f839690e9"
  },
  "kernelspec": {
   "display_name": "Python 3.9.4 ('ic_fatec39')",
   "language": "python",
   "name": "python3"
  },
  "language_info": {
   "codemirror_mode": {
    "name": "ipython",
    "version": 3
   },
   "file_extension": ".py",
   "mimetype": "text/x-python",
   "name": "python",
   "nbconvert_exporter": "python",
   "pygments_lexer": "ipython3",
   "version": "3.9.4"
  },
  "orig_nbformat": 4
 },
 "nbformat": 4,
 "nbformat_minor": 2
}
