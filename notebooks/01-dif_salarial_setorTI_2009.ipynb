{
 "cells": [
  {
   "cell_type": "markdown",
   "metadata": {},
   "source": [
    "# Análise de diferença salarial dentro do setor de TI (2009)\n",
    "#### Para trabalhadores de CBOs de TI"
   ]
  },
  {
   "cell_type": "markdown",
   "metadata": {},
   "source": [
    "## Imports e leitura dos dados:"
   ]
  },
  {
   "cell_type": "code",
   "execution_count": 2,
   "metadata": {},
   "outputs": [],
   "source": [
    "import pandas as pd\n",
    "import matplotlib.pyplot as plt\n",
    "import seaborn as sns\n",
    "import numpy as np\n",
    "from statsmodels.graphics.gofplots import qqplot\n",
    "from scipy.stats import shapiro\n",
    "from scipy.stats import normaltest\n",
    "from scipy.stats import mannwhitneyu\n",
    "\n",
    "# Opções gerais necessárias:\n",
    "\n",
    "pd.options.display.float_format = \"{:,.2f}\".format"
   ]
  },
  {
   "cell_type": "code",
   "execution_count": 8,
   "metadata": {},
   "outputs": [
    {
     "data": {
      "text/html": [
       "<div>\n",
       "<style scoped>\n",
       "    .dataframe tbody tr th:only-of-type {\n",
       "        vertical-align: middle;\n",
       "    }\n",
       "\n",
       "    .dataframe tbody tr th {\n",
       "        vertical-align: top;\n",
       "    }\n",
       "\n",
       "    .dataframe thead th {\n",
       "        text-align: right;\n",
       "    }\n",
       "</style>\n",
       "<table border=\"1\" class=\"dataframe\">\n",
       "  <thead>\n",
       "    <tr style=\"text-align: right;\">\n",
       "      <th></th>\n",
       "      <th>UF</th>\n",
       "      <th>CBO</th>\n",
       "      <th>CNAE</th>\n",
       "      <th>Escolaridade</th>\n",
       "      <th>Idade</th>\n",
       "      <th>Raça</th>\n",
       "      <th>Remuneração</th>\n",
       "      <th>Sexo</th>\n",
       "    </tr>\n",
       "  </thead>\n",
       "  <tbody>\n",
       "    <tr>\n",
       "      <th>0</th>\n",
       "      <td>AC</td>\n",
       "      <td>212405</td>\n",
       "      <td>63119</td>\n",
       "      <td>6</td>\n",
       "      <td>53</td>\n",
       "      <td>09</td>\n",
       "      <td>6,361.98</td>\n",
       "      <td>1</td>\n",
       "    </tr>\n",
       "    <tr>\n",
       "      <th>1</th>\n",
       "      <td>AC</td>\n",
       "      <td>317205</td>\n",
       "      <td>63119</td>\n",
       "      <td>6</td>\n",
       "      <td>50</td>\n",
       "      <td>09</td>\n",
       "      <td>4,535.76</td>\n",
       "      <td>1</td>\n",
       "    </tr>\n",
       "    <tr>\n",
       "      <th>2</th>\n",
       "      <td>AC</td>\n",
       "      <td>317205</td>\n",
       "      <td>63119</td>\n",
       "      <td>6</td>\n",
       "      <td>50</td>\n",
       "      <td>09</td>\n",
       "      <td>3,332.64</td>\n",
       "      <td>1</td>\n",
       "    </tr>\n",
       "    <tr>\n",
       "      <th>3</th>\n",
       "      <td>AC</td>\n",
       "      <td>212420</td>\n",
       "      <td>63119</td>\n",
       "      <td>6</td>\n",
       "      <td>19</td>\n",
       "      <td>09</td>\n",
       "      <td>544.00</td>\n",
       "      <td>1</td>\n",
       "    </tr>\n",
       "    <tr>\n",
       "      <th>4</th>\n",
       "      <td>AC</td>\n",
       "      <td>212405</td>\n",
       "      <td>63119</td>\n",
       "      <td>7</td>\n",
       "      <td>54</td>\n",
       "      <td>09</td>\n",
       "      <td>6,391.52</td>\n",
       "      <td>1</td>\n",
       "    </tr>\n",
       "  </tbody>\n",
       "</table>\n",
       "</div>"
      ],
      "text/plain": [
       "   UF     CBO   CNAE  Escolaridade  Idade Raça  Remuneração  Sexo\n",
       "0  AC  212405  63119             6     53   09     6,361.98     1\n",
       "1  AC  317205  63119             6     50   09     4,535.76     1\n",
       "2  AC  317205  63119             6     50   09     3,332.64     1\n",
       "3  AC  212420  63119             6     19   09       544.00     1\n",
       "4  AC  212405  63119             7     54   09     6,391.52     1"
      ]
     },
     "execution_count": 8,
     "metadata": {},
     "output_type": "execute_result"
    }
   ],
   "source": [
    "# Leitura da tabela principal:\n",
    "RAIS_2009 = pd.read_csv(\"../data/raw/DATA_RAIS_setorTI_2009.csv\", sep = \";\", encoding = 'utf-8', skipinitialspace = True)\n",
    "\n",
    "# Renomeando as colunas:\n",
    "RAIS_2009.rename(columns = {'CBO Ocupação 2002':'CBO', 'CNAE 2.0 Classe':'CNAE',\n",
    "                            'Escolaridade após 2005':'Escolaridade',\n",
    "                            'Raça Cor':'Raça', 'Vl Remun Dezembro Nom':'Remuneração',\n",
    "                            'Sexo Trabalhador':'Sexo'}, inplace = True)\n",
    "\n",
    "# Criando indices dos sexos para utilização posterior:\n",
    "sexo = {1: 'M', 2: 'F'}\n",
    "\n",
    "# Filtrando os dados só para aqueles que tem sexo masculino e outra variável para feminino:\n",
    "RAIS_2009_masculino = RAIS_2009.query(\"Sexo == 1\")\n",
    "RAIS_2009_feminino = RAIS_2009.query(\"Sexo == 2\")\n",
    "\n",
    "# Variável com o nível de confiança a ser considerado e utilizado:\n",
    "nivel_confianca = 0.01\n",
    "\n",
    "# Exibindo os cinco primeiros dados da tabela:\n",
    "RAIS_2009.head()"
   ]
  },
  {
   "cell_type": "markdown",
   "metadata": {},
   "source": [
    "## Visualização e análise da distribuição da variável remuneração:"
   ]
  },
  {
   "cell_type": "code",
   "execution_count": 9,
   "metadata": {},
   "outputs": [
    {
     "data": {
      "image/png": "[encoded data removed]",
      "text/plain": [
       "<Figure size 1008x432 with 1 Axes>"
      ]
     },
     "metadata": {
      "needs_background": "light"
     },
     "output_type": "display_data"
    }
   ],
   "source": [
    "fig, ax = plt.subplots()\n",
    "fig.set_size_inches(14, 6)\n",
    "\n",
    "sns.histplot(RAIS_2009.Remuneração)\n",
    "sns.despine()\n",
    "\n",
    "fig.savefig(\"./figures/svg/hist_remuneracao_setorTI_2009.svg\")\n",
    "fig.savefig(\"./figures/png/hist_remuneracao_setorTI_2009.png\")"
   ]
  },
  {
   "cell_type": "markdown",
   "metadata": {},
   "source": [
    "Como podemos ver no gráfico acima, a disbribuição da variável principal provavelmente não segue uma normal, visto seu forte achatamento ao lado esquerdo.\n",
    "  \n",
    "Isto ocorre pelo comportamento das remunerações no país. Temos a maioria da população recebendo salários mais próximos de 0 do que de 60 mil, visto o cenário ruim de distribuição de renda.\n",
    "\n",
    "Abaixo é exemplicado nos dados utilizados no trabalho esta desproporção de renda."
   ]
  },
  {
   "cell_type": "code",
   "execution_count": 6,
   "metadata": {},
   "outputs": [
    {
     "name": "stdout",
     "output_type": "stream",
     "text": [
      "Soma dos salários dos trabalhadores 1% mais ricos: 25029485.23\n",
      "Quantidade de trabalhadores 1% mais ricos: 1165\n",
      "\n",
      "Soma dos salários dos trabalhadores 24% mais pobres, aproximadamente: 25019673.43\n",
      "Quantidade de trabalhadores 24% mais pobres: 27509\n"
     ]
    }
   ],
   "source": [
    "print(\"Soma dos salários dos trabalhadores 1% mais ricos: {}\".format(RAIS_2009.Remuneração[RAIS_2009.Remuneração > RAIS_2009.Remuneração.quantile(0.99)].sum()))\n",
    "print(\"Quantidade de trabalhadores 1% mais ricos: {}\".format(RAIS_2009.Remuneração[RAIS_2009.Remuneração > RAIS_2009.Remuneração.quantile(0.99)].count()))\n",
    "\n",
    "print()\n",
    "\n",
    "print(\"Soma dos salários dos trabalhadores 24% mais pobres, aproximadamente: {}\".format(RAIS_2009.Remuneração[RAIS_2009.Remuneração < RAIS_2009.Remuneração.quantile(0.237)].sum()))\n",
    "print(\"Quantidade de trabalhadores 24% mais pobres: {}\".format(RAIS_2009.Remuneração[RAIS_2009.Remuneração < RAIS_2009.Remuneração.quantile(0.237)].count()))"
   ]
  },
  {
   "cell_type": "markdown",
   "metadata": {},
   "source": [
    "Logo, o salário somado de todas as 1.165 pessoas mais ricas em funções trabalhistas de TI e em setores da TI é aproximadamente de 25 milhões de reais. Enquanto são necessárias 27.509 pessoas de menor renda para, no total, termos o equivalmente salarial dos 1% mais ricos, demonstrando que a desigualdade de renda é observanda, não somente no país ao todo, mas também nas ocupações de TI que trabalham nos setores de TI."
   ]
  },
  {
   "cell_type": "markdown",
   "metadata": {},
   "source": [
    "Para garantir que a distribuição não é normal, é necessário realizar alguns testes de normalidade. Isto é importante para mais a frente ser possível comparar as médias (dos salários entre sexos) corretamente. Caso seja uma normal, são utilizados testes específicos para a comparação, caso não seja normal, deve-se utilizar a abordagem não paramétrica."
   ]
  },
  {
   "cell_type": "code",
   "execution_count": 10,
   "metadata": {},
   "outputs": [
    {
     "data": {
      "image/png": "[encoded data removed]",
      "text/plain": [
       "<Figure size 432x288 with 1 Axes>"
      ]
     },
     "metadata": {
      "needs_background": "light"
     },
     "output_type": "display_data"
    }
   ],
   "source": [
    "qqplot(RAIS_2009.Remuneração, line='s')\n",
    "plt.show()"
   ]
  },
  {
   "cell_type": "markdown",
   "metadata": {},
   "source": [
    "No gráfico acima, podemos sugerir visualmente que a distribuição não é normal, visto que as bordas da linha azul passam bem longe da linha vermelha. Para uma possível conclusão de normalidade, está linha deve estar o mais próximo possível da linha vermelha.\n",
    "\n",
    "É necessário realizar um teste de normalidade para concluir estatísticamente de que a distribuição da variável remuneração não é normal."
   ]
  },
  {
   "cell_type": "code",
   "execution_count": 23,
   "metadata": {},
   "outputs": [
    {
     "name": "stdout",
     "output_type": "stream",
     "text": [
      "Estatística Shapiro = 0.72853, p-valor = 0.00000\n",
      "A amostra não parece ser Gaussiana (rejeitar H0)\n"
     ]
    }
   ],
   "source": [
    "# Realização do teste de Shapiro considerando o nível de confiança de 0.01:\n",
    "\n",
    "stat, p_valor = shapiro(RAIS_2009.sample(5000).Remuneração)\n",
    "print('Estatística Shapiro = {:.5f}, p-valor = {:.5f}'.format(stat, p_valor))\n",
    "\n",
    "if p_valor > nivel_confianca:\n",
    "    print('A amostra parece ser Gaussiana (falha ao rejeitar H0)')\n",
    "else:\n",
    "    print('A amostra não parece ser Gaussiana (rejeitar H0)')"
   ]
  },
  {
   "cell_type": "markdown",
   "metadata": {},
   "source": [
    "Ao realizar o teste de normalidade acima, temos como saída um p-valor 0.00000, da qual, ao nível de confiança de 0.01% rejeitamos a hipótese nula de que a distribuição é normal, visto que o p-valor não é maior do que o nível de confiança definido. Logo, podemos concluir que a distribuição não é normal.\n",
    "\n",
    "Para garantir a conclusão, abaixo é realizado outro teste de normalidade."
   ]
  },
  {
   "cell_type": "code",
   "execution_count": 25,
   "metadata": {},
   "outputs": [
    {
     "name": "stdout",
     "output_type": "stream",
     "text": [
      "Estatística = 83293.42016, p-valor = 0.00000\n",
      "A amostra não parece ser Gaussiana (rejeitar H0)\n"
     ]
    }
   ],
   "source": [
    "# Realização do teste de normalidade:\n",
    "\n",
    "stat, p_valor = normaltest(RAIS_2009.Remuneração)\n",
    "print('Estatística = {:.5f}, p-valor = {:.5f}'.format(stat, p_valor))\n",
    "\n",
    "if p_valor > nivel_confianca:\n",
    "    print('A amostra parece ser Gaussiana (falha ao rejeitar H0)')\n",
    "else:\n",
    "    print('A amostra não parece ser Gaussiana (rejeitar H0)')"
   ]
  },
  {
   "cell_type": "markdown",
   "metadata": {},
   "source": [
    "Novamente temos a rejeição da hipótese nula de normalidade da distribuição, visto que o p-valor é menor que o nível de confiança de 0.01%.\n",
    "\n",
    "Então, podemos inferir estatísticamente de que a variável remuneração no conjunto de dados não tem uma distribuição normal.\n",
    "\n",
    "Sabendo disto, para comparação das médias salariais será necessário utilizar métodos de comparação não paramétricos."
   ]
  },
  {
   "cell_type": "markdown",
   "metadata": {},
   "source": [
    "## Análise da frequência (quantidade de pessoas) dos dados entre homens e mulheres:"
   ]
  },
  {
   "cell_type": "code",
   "execution_count": 37,
   "metadata": {},
   "outputs": [
    {
     "name": "stdout",
     "output_type": "stream",
     "text": [
      "Quantidade trabalhadores masculinos: 89439.\n",
      "Quantidade trabalhadores femininos: 26990.\n",
      "São aproximadamente 3.31 mais homens que mulheres.\n"
     ]
    }
   ],
   "source": [
    "# Pegando a quantidade de homens e mulheres nos dados:\n",
    "\n",
    "qnt_masculino = RAIS_2009_masculino.Remuneração.count()\n",
    "qnt_feminino = RAIS_2009_feminino.Remuneração.count()\n",
    "\n",
    "print(\"Quantidade trabalhadores masculinos: {}.\\n\" \\\n",
    "      \"Quantidade trabalhadores femininos: {}.\\n\" \\\n",
    "      \"São aproximadamente {:.2f} mais homens que mulheres.\".format(qnt_masculino, qnt_feminino, qnt_masculino / qnt_feminino))\n"
   ]
  },
  {
   "cell_type": "markdown",
   "metadata": {},
   "source": [
    "Com as quantidades de cada sexo capturadas, podemos verificar que existem muitos mais homens do que mulheres trabalhando com TI em setores de TI no ano de 2009. Aproximadamente temos 3.31 vezes mais homens que mulheres.\n",
    "\n",
    "Isto demonstra como existe uma baixa participação de mulheres neste nicho de mercado no país, visto diversos pontos levantados na bibliografia inicial deste trabalho."
   ]
  },
  {
   "cell_type": "code",
   "execution_count": 48,
   "metadata": {},
   "outputs": [
    {
     "data": {
      "image/png": "[encoded data removed]",
      "text/plain": [
       "<Figure size 432x288 with 1 Axes>"
      ]
     },
     "metadata": {},
     "output_type": "display_data"
    }
   ],
   "source": [
    "freq_fig, freq_ax = plt.subplots()\n",
    "freq_ax.pie([qnt_masculino, qnt_feminino], labels = (\"Masculino\", \"Feminino\"), autopct = '%1.2f%%', startangle = 90)\n",
    "freq_ax.axis('equal')\n",
    "freq_fig.savefig(\"./figures/svg/freq_sexo_pie.svg\")\n",
    "freq_fig.savefig(\"./figures/png/freq_sexo_pie.png\")"
   ]
  },
  {
   "cell_type": "markdown",
   "metadata": {},
   "source": [
    "No gráfico de pizza acima podemos visualizar de forma geral tal disbribuição."
   ]
  },
  {
   "cell_type": "markdown",
   "metadata": {},
   "source": [
    "## Análise da massa salarial de homens e mulheres:"
   ]
  },
  {
   "cell_type": "code",
   "execution_count": 53,
   "metadata": {},
   "outputs": [
    {
     "name": "stdout",
     "output_type": "stream",
     "text": [
      "Massa salarial trabalhadores masculinos: 322887135.48.\n",
      "Massa salarial trabalhadores femininos: 93207101.74.\n",
      "A massa salarial dos homens é 3.46 vezes maior que das mulheres.\n"
     ]
    }
   ],
   "source": [
    "# Pegando a massa salarial de homens e mulheres nos dados:\n",
    "\n",
    "massa_salarial_masculino = RAIS_2009_masculino.Remuneração.sum()\n",
    "massa_salarial_feminino = RAIS_2009_feminino.Remuneração.sum()\n",
    "\n",
    "print(\"Massa salarial trabalhadores masculinos: {:.2f}.\\n\" \\\n",
    "      \"Massa salarial trabalhadores femininos: {:.2f}.\\n\" \\\n",
    "      \"A massa salarial dos homens é {:.2f} vezes maior que das mulheres.\".format(massa_salarial_masculino, massa_salarial_feminino, massa_salarial_masculino / massa_salarial_feminino))"
   ]
  },
  {
   "cell_type": "markdown",
   "metadata": {},
   "source": [
    "A massa salarial geralmente acompanha a proporção entre a quantidade de homens e mulheres, porém, temos uma pequena diferença neste caso.\n",
    "\n",
    "Ao verificarmos a proporção entre homens e mulheres, temos 3.31 vezes homens a mais que mulheres, mas ao olharmos para a massa salarial verificamos que a massa salarial dos homens é 3.46 vezes a das mulheres, 0.15 vezes a mais que a proporção na quantidade.\n",
    "\n",
    "Isto pode demonstrar de início que possível teremos alguma diferença salarial na média entre os sexos."
   ]
  },
  {
   "cell_type": "code",
   "execution_count": 54,
   "metadata": {},
   "outputs": [
    {
     "data": {
      "image/png": "[encoded data removed]",
      "text/plain": [
       "<Figure size 432x288 with 1 Axes>"
      ]
     },
     "metadata": {},
     "output_type": "display_data"
    }
   ],
   "source": [
    "freq_fig, freq_ax = plt.subplots()\n",
    "freq_ax.pie([massa_salarial_masculino, massa_salarial_feminino], labels = (\"Masculino\", \"Feminino\"), autopct = '%1.2f%%', startangle = 90)\n",
    "freq_ax.axis('equal')\n",
    "freq_fig.savefig(\"./figures/svg/massa_sexo_pie.svg\")\n",
    "freq_fig.savefig(\"./figures/png/massa_sexo_pie.png\")"
   ]
  },
  {
   "cell_type": "markdown",
   "metadata": {},
   "source": [
    "No gráfico de pizza anterior a este, referente as quantidades de cada sexo, temos as porcentagens: masculino com 76.82% e feminino com 23.18%. Ao comparar com o gráfico da massa salarial (acima), temos os respectivos valores para homens e mulheres: 77.60% e 22.40%, demonstrando visualmente uma possível diferença salarial entre os sexos, em desfavorecimento as mulheres.\n",
    "\n",
    "Para concluirmos melhor esta possibilidade, a seguir é realizado uma análise das médias salariais em cada sexo e comparadas."
   ]
  },
  {
   "cell_type": "markdown",
   "metadata": {},
   "source": [
    "## Análise das médias salariais e diferenças:"
   ]
  },
  {
   "cell_type": "code",
   "execution_count": 7,
   "metadata": {},
   "outputs": [
    {
     "data": {
      "text/plain": [
       "<AxesSubplot:xlabel='Remuneração', ylabel='Sexo'>"
      ]
     },
     "execution_count": 7,
     "metadata": {},
     "output_type": "execute_result"
    },
    {
     "data": {
      "image/png": "[encoded data removed]",
      "text/plain": [
       "<Figure size 1296x720 with 1 Axes>"
      ]
     },
     "metadata": {
      "needs_background": "light"
     },
     "output_type": "display_data"
    }
   ],
   "source": [
    "box = sns.boxplot(x = 'Remuneração', y = 'Sexo', data = RAIS_2009, orient = 'h', showmeans=True, meanprops={\"marker\":\"o\",\n",
    "                       \"markerfacecolor\":\"white\", \n",
    "                       \"markeredgecolor\":\"black\",\n",
    "                      \"markersize\":\"5\"})\n",
    "box.figure.set_size_inches(18, 10)\n",
    "box"
   ]
  },
  {
   "cell_type": "code",
   "execution_count": 60,
   "metadata": {},
   "outputs": [
    {
     "name": "stdout",
     "output_type": "stream",
     "text": [
      "Masculino:\n",
      "Média das remunerações: R$ 3610.14\n",
      "Mediana das remunerações: R$ 2449.25\n",
      "\n",
      "Feminino:\n",
      "Média das remunerações: R$ 3453.39\n",
      "Mediana das remunerações: R$ 2357.21\n",
      "\n",
      "Diferença salarial média: R$ 156.74\n",
      "Variação percentual média: -4.34 %\n"
     ]
    }
   ],
   "source": [
    "# Capturando as médias e medianas\n",
    "\n",
    "media_masculino = RAIS_2009_masculino.Remuneração.mean()\n",
    "mediana_masculino = RAIS_2009_masculino.Remuneração.median()\n",
    "\n",
    "media_feminino = RAIS_2009_feminino.Remuneração.mean()\n",
    "mediana_feminino = RAIS_2009_feminino.Remuneração.median()\n",
    "\n",
    "# Exibindo os dados: \n",
    "\n",
    "print(\"Masculino:\")\n",
    "print(\"Média das remunerações: R$ {:.2f}\\n\" \\\n",
    "      \"Mediana das remunerações: R$ {:.2f}\".format(media_masculino, mediana_masculino))\n",
    "\n",
    "print()\n",
    "\n",
    "print(\"Feminino:\")\n",
    "print(\"Média das remunerações: R$ {:.2f}\\n\" \\\n",
    "      \"Mediana das remunerações: R$ {:.2f}\".format(media_feminino, mediana_feminino))\n",
    "\n",
    "print()\n",
    "\n",
    "# Tirando os percentuais de diferença:\n",
    "\n",
    "dif_salarial_media = media_masculino - media_feminino\n",
    "taxa_dif_media = ((media_feminino - media_masculino) / media_masculino) * 100\n",
    "\n",
    "print(\"Diferença salarial média: R$ {:.2f}\\n\" \\\n",
    "      \"Variação percentual média: {:.2f} %\".format(dif_salarial_media, taxa_dif_media))"
   ]
  },
  {
   "cell_type": "markdown",
   "metadata": {},
   "source": [
    "Ao verificarmos as médias salariais para cada sexo, temos que as **mulheres** recebem **4.34% a menos** que os **homens**, para o ano de 2009 em um recorte dos dados para ocupações consideradas de TI e para os setores de TI somente. Assim, **podemos concluir** que **existe diferença salarial** geral entre homens e mulheres, em **desfavorecimento para as mulheres**.\n",
    "\n",
    "Porém, para afirmar que estatisticamente estes dados são comparáveis, é necessário realizar um teste de hipótese entre os dois grupos, comparando se as médias realmente menores uma que a outra."
   ]
  },
  {
   "cell_type": "markdown",
   "metadata": {},
   "source": [
    "## Teste de hipótese para as médias:"
   ]
  },
  {
   "cell_type": "markdown",
   "metadata": {},
   "source": [
    "Para testar se a média das mulheres é estatisticamente menor que a média dos homens, será utilizado o teste não paramétrico de Mann-Whitney, visto que os grupos não são pareados, ou seja, são grupos que não dependem um do outro."
   ]
  },
  {
   "cell_type": "code",
   "execution_count": 71,
   "metadata": {},
   "outputs": [
    {
     "name": "stdout",
     "output_type": "stream",
     "text": [
      "Estatística Mann-Whitney = 1170131704.00, p-valor = 0.000000000000013\n",
      "A média salarial das mulheres é menor que a média dos homens (rejeitar H0)\n"
     ]
    }
   ],
   "source": [
    "stat, p_valor = mannwhitneyu(RAIS_2009_feminino.Remuneração, RAIS_2009_masculino.Remuneração, alternative = 'less')\n",
    "\n",
    "print(\"Estatística Mann-Whitney = {:.2f}, p-valor = {:.15f}\".format(stat, p_valor))\n",
    "\n",
    "if p_valor <= nivel_confianca:\n",
    "    print('A média salarial das mulheres é menor que a média dos homens (rejeitar H0)')\n",
    "else:\n",
    "    print('As médias não são diferentes (falha ao rejeitar H0)')"
   ]
  },
  {
   "cell_type": "markdown",
   "metadata": {},
   "source": [
    "Ao rejeitar a hipótese nula do teste Mann-Whitney, da qual aponta que não há diferenças entra as médias, podemos inferir estatisticamente que a média salarial feminina é menor que a média salarial masculina, demonstrando de que as diferenças são estatisticamente possíveis e sustentando a possível realidade entre esta diferença salarial."
   ]
  }
 ],
 "metadata": {
  "interpreter": {
   "hash": "4e754b94cf1e0815e70a639bcf2da61c2e733f1dcd0b7f2452ff33912e6e564f"
  },
  "kernelspec": {
   "display_name": "Python 3.9.4 64-bit ('ic_fatec39': conda)",
   "name": "python3"
  },
  "language_info": {
   "codemirror_mode": {
    "name": "ipython",
    "version": 3
   },
   "file_extension": ".py",
   "mimetype": "text/x-python",
   "name": "python",
   "nbconvert_exporter": "python",
   "pygments_lexer": "ipython3",
   "version": "3.9.4"
  },
  "orig_nbformat": 4
 },
 "nbformat": 4,
 "nbformat_minor": 2
}
