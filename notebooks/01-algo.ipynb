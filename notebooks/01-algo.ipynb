{
 "cells": [
  {
   "cell_type": "code",
   "execution_count": 82,
   "metadata": {},
   "outputs": [],
   "source": [
    "import pandas as pd\n",
    "import matplotlib.pyplot as plt"
   ]
  },
  {
   "cell_type": "code",
   "execution_count": 67,
   "metadata": {},
   "outputs": [
    {
     "data": {
      "text/html": [
       "<div>\n",
       "<style scoped>\n",
       "    .dataframe tbody tr th:only-of-type {\n",
       "        vertical-align: middle;\n",
       "    }\n",
       "\n",
       "    .dataframe tbody tr th {\n",
       "        vertical-align: top;\n",
       "    }\n",
       "\n",
       "    .dataframe thead th {\n",
       "        text-align: right;\n",
       "    }\n",
       "</style>\n",
       "<table border=\"1\" class=\"dataframe\">\n",
       "  <thead>\n",
       "    <tr style=\"text-align: right;\">\n",
       "      <th></th>\n",
       "      <th>CBO</th>\n",
       "      <th>620_M</th>\n",
       "      <th>620_F</th>\n",
       "      <th>631_M</th>\n",
       "      <th>631_F</th>\n",
       "    </tr>\n",
       "  </thead>\n",
       "  <tbody>\n",
       "    <tr>\n",
       "      <th>0</th>\n",
       "      <td>1236</td>\n",
       "      <td>592</td>\n",
       "      <td>98</td>\n",
       "      <td>64</td>\n",
       "      <td>11</td>\n",
       "    </tr>\n",
       "    <tr>\n",
       "      <th>1</th>\n",
       "      <td>1425</td>\n",
       "      <td>11161</td>\n",
       "      <td>3439</td>\n",
       "      <td>965</td>\n",
       "      <td>276</td>\n",
       "    </tr>\n",
       "    <tr>\n",
       "      <th>2</th>\n",
       "      <td>2122</td>\n",
       "      <td>3577</td>\n",
       "      <td>515</td>\n",
       "      <td>424</td>\n",
       "      <td>53</td>\n",
       "    </tr>\n",
       "    <tr>\n",
       "      <th>3</th>\n",
       "      <td>2123</td>\n",
       "      <td>6106</td>\n",
       "      <td>1180</td>\n",
       "      <td>900</td>\n",
       "      <td>120</td>\n",
       "    </tr>\n",
       "    <tr>\n",
       "      <th>4</th>\n",
       "      <td>2124</td>\n",
       "      <td>101794</td>\n",
       "      <td>27661</td>\n",
       "      <td>9924</td>\n",
       "      <td>2742</td>\n",
       "    </tr>\n",
       "    <tr>\n",
       "      <th>5</th>\n",
       "      <td>3171</td>\n",
       "      <td>33224</td>\n",
       "      <td>5060</td>\n",
       "      <td>2307</td>\n",
       "      <td>305</td>\n",
       "    </tr>\n",
       "    <tr>\n",
       "      <th>6</th>\n",
       "      <td>3172</td>\n",
       "      <td>18735</td>\n",
       "      <td>6044</td>\n",
       "      <td>3263</td>\n",
       "      <td>1088</td>\n",
       "    </tr>\n",
       "  </tbody>\n",
       "</table>\n",
       "</div>"
      ],
      "text/plain": [
       "    CBO   620_M  620_F  631_M  631_F\n",
       "0  1236     592     98     64     11\n",
       "1  1425   11161   3439    965    276\n",
       "2  2122    3577    515    424     53\n",
       "3  2123    6106   1180    900    120\n",
       "4  2124  101794  27661   9924   2742\n",
       "5  3171   33224   5060   2307    305\n",
       "6  3172   18735   6044   3263   1088"
      ]
     },
     "execution_count": 67,
     "metadata": {},
     "output_type": "execute_result"
    }
   ],
   "source": [
    "CNAE_CBO_SEXO_2019_FREQ = pd.read_csv(\"../data/cleaned/CNAE_CBO_SEXO_2019_freq.csv\", sep = \";\", encoding = 'latin-1', skipinitialspace = True)\n",
    "CNAE_CBO_SEXO_2019_FREQ"
   ]
  },
  {
   "cell_type": "code",
   "execution_count": 41,
   "metadata": {},
   "outputs": [
    {
     "data": {
      "text/html": [
       "<div>\n",
       "<style scoped>\n",
       "    .dataframe tbody tr th:only-of-type {\n",
       "        vertical-align: middle;\n",
       "    }\n",
       "\n",
       "    .dataframe tbody tr th {\n",
       "        vertical-align: top;\n",
       "    }\n",
       "\n",
       "    .dataframe thead th {\n",
       "        text-align: right;\n",
       "    }\n",
       "</style>\n",
       "<table border=\"1\" class=\"dataframe\">\n",
       "  <thead>\n",
       "    <tr style=\"text-align: right;\">\n",
       "      <th></th>\n",
       "      <th>620_M</th>\n",
       "      <th>620_F</th>\n",
       "      <th>631_M</th>\n",
       "      <th>631_F</th>\n",
       "    </tr>\n",
       "    <tr>\n",
       "      <th>CBO</th>\n",
       "      <th></th>\n",
       "      <th></th>\n",
       "      <th></th>\n",
       "      <th></th>\n",
       "    </tr>\n",
       "  </thead>\n",
       "  <tbody>\n",
       "    <tr>\n",
       "      <th>1236</th>\n",
       "      <td>1.411959e+07</td>\n",
       "      <td>1.925808e+06</td>\n",
       "      <td>1341897.36</td>\n",
       "      <td>400845.89</td>\n",
       "    </tr>\n",
       "    <tr>\n",
       "      <th>1425</th>\n",
       "      <td>1.267494e+08</td>\n",
       "      <td>3.425039e+07</td>\n",
       "      <td>12074624.70</td>\n",
       "      <td>2696317.74</td>\n",
       "    </tr>\n",
       "    <tr>\n",
       "      <th>2122</th>\n",
       "      <td>3.812691e+07</td>\n",
       "      <td>4.588985e+06</td>\n",
       "      <td>7541340.31</td>\n",
       "      <td>953891.81</td>\n",
       "    </tr>\n",
       "    <tr>\n",
       "      <th>2123</th>\n",
       "      <td>4.850029e+07</td>\n",
       "      <td>8.395919e+06</td>\n",
       "      <td>6582728.33</td>\n",
       "      <td>630752.99</td>\n",
       "    </tr>\n",
       "    <tr>\n",
       "      <th>2124</th>\n",
       "      <td>6.137323e+08</td>\n",
       "      <td>1.468348e+08</td>\n",
       "      <td>66131278.43</td>\n",
       "      <td>15641804.89</td>\n",
       "    </tr>\n",
       "    <tr>\n",
       "      <th>3171</th>\n",
       "      <td>1.509849e+08</td>\n",
       "      <td>2.227089e+07</td>\n",
       "      <td>9268820.17</td>\n",
       "      <td>1150304.96</td>\n",
       "    </tr>\n",
       "    <tr>\n",
       "      <th>3172</th>\n",
       "      <td>4.917922e+07</td>\n",
       "      <td>1.488892e+07</td>\n",
       "      <td>9696404.44</td>\n",
       "      <td>2810834.92</td>\n",
       "    </tr>\n",
       "  </tbody>\n",
       "</table>\n",
       "</div>"
      ],
      "text/plain": [
       "             620_M         620_F        631_M        631_F\n",
       "CBO                                                       \n",
       "1236  1.411959e+07  1.925808e+06   1341897.36    400845.89\n",
       "1425  1.267494e+08  3.425039e+07  12074624.70   2696317.74\n",
       "2122  3.812691e+07  4.588985e+06   7541340.31    953891.81\n",
       "2123  4.850029e+07  8.395919e+06   6582728.33    630752.99\n",
       "2124  6.137323e+08  1.468348e+08  66131278.43  15641804.89\n",
       "3171  1.509849e+08  2.227089e+07   9268820.17   1150304.96\n",
       "3172  4.917922e+07  1.488892e+07   9696404.44   2810834.92"
      ]
     },
     "execution_count": 41,
     "metadata": {},
     "output_type": "execute_result"
    }
   ],
   "source": [
    "CNAE_CBO_SEXO_2019_SUM = pd.read_csv(\"../data/cleaned/CNAE_CBO_SEXO_2019_sum.csv\", sep = \";\", index_col = 0, encoding = 'latin-1')\n",
    "CNAE_CBO_SEXO_2019_SUM"
   ]
  },
  {
   "cell_type": "code",
   "execution_count": 77,
   "metadata": {},
   "outputs": [],
   "source": [
    "frequencia_masc = (CNAE_CBO_SEXO_2019_FREQ['620_M'] + CNAE_CBO_SEXO_2019_FREQ['631_M']).sum()\n",
    "frequencia_fem = (CNAE_CBO_SEXO_2019_FREQ['620_F'] + CNAE_CBO_SEXO_2019_FREQ['631_F']).sum()\n",
    "frequencia_total = frequencia_masc + frequencia_fem\n",
    "\n",
    "porcentagem_masc = (frequencia_masc / frequencia_total) * 100\n",
    "porcentagem_fem = (frequencia_fem / frequencia_total) * 100"
   ]
  },
  {
   "cell_type": "code",
   "execution_count": 84,
   "metadata": {},
   "outputs": [
    {
     "data": {
      "text/html": [
       "<div>\n",
       "<style scoped>\n",
       "    .dataframe tbody tr th:only-of-type {\n",
       "        vertical-align: middle;\n",
       "    }\n",
       "\n",
       "    .dataframe tbody tr th {\n",
       "        vertical-align: top;\n",
       "    }\n",
       "\n",
       "    .dataframe thead th {\n",
       "        text-align: right;\n",
       "    }\n",
       "</style>\n",
       "<table border=\"1\" class=\"dataframe\">\n",
       "  <thead>\n",
       "    <tr style=\"text-align: right;\">\n",
       "      <th>Sexo</th>\n",
       "      <th>freq</th>\n",
       "      <th>freq_%</th>\n",
       "    </tr>\n",
       "  </thead>\n",
       "  <tbody>\n",
       "    <tr>\n",
       "      <th>Masculino</th>\n",
       "      <td>193036</td>\n",
       "      <td>79.889748</td>\n",
       "    </tr>\n",
       "    <tr>\n",
       "      <th>Feminino</th>\n",
       "      <td>48592</td>\n",
       "      <td>20.110252</td>\n",
       "    </tr>\n",
       "  </tbody>\n",
       "</table>\n",
       "</div>"
      ],
      "text/plain": [
       "Sexo         freq     freq_%\n",
       "Masculino  193036  79.889748\n",
       "Feminino    48592  20.110252"
      ]
     },
     "execution_count": 84,
     "metadata": {},
     "output_type": "execute_result"
    }
   ],
   "source": [
    "dist_freq_sexo = pd.DataFrame(\n",
    "    {'freq': [frequencia_masc, frequencia_fem], \n",
    "     'freq_%': [porcentagem_masc, porcentagem_fem]}\n",
    ")\n",
    "dist_freq_sexo.rename(index = {0: 'Masculino', 1: 'Feminino'}, inplace = True)\n",
    "dist_freq_sexo.rename_axis('Sexo', axis = 'columns', inplace = True)\n",
    "dist_freq_sexo"
   ]
  },
  {
   "cell_type": "code",
   "execution_count": 98,
   "metadata": {},
   "outputs": [
    {
     "data": {
      "image/png": "[encoded data removed]",
      "text/plain": [
       "<Figure size 432x288 with 1 Axes>"
      ]
     },
     "metadata": {},
     "output_type": "display_data"
    }
   ],
   "source": [
    "fig1, ax1 = plt.subplots()\n",
    "ax1.pie(dist_freq_sexo.freq, labels = dist_freq_sexo.index, autopct = '%1.2f%%', startangle = 90)\n",
    "ax1.axis('equal')\n",
    "plt.show(fig1)"
   ]
  },
  {
   "cell_type": "code",
   "execution_count": null,
   "metadata": {},
   "outputs": [],
   "source": []
  }
 ],
 "metadata": {
  "interpreter": {
   "hash": "4e754b94cf1e0815e70a639bcf2da61c2e733f1dcd0b7f2452ff33912e6e564f"
  },
  "kernelspec": {
   "display_name": "Python 3.9.4 64-bit ('ic_fatec39': conda)",
   "name": "python3"
  },
  "language_info": {
   "codemirror_mode": {
    "name": "ipython",
    "version": 3
   },
   "file_extension": ".py",
   "mimetype": "text/x-python",
   "name": "python",
   "nbconvert_exporter": "python",
   "pygments_lexer": "ipython3",
   "version": "3.9.4"
  },
  "orig_nbformat": 4
 },
 "nbformat": 4,
 "nbformat_minor": 2
}
