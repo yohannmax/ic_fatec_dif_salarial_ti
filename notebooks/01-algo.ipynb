{
 "cells": [
  {
   "cell_type": "code",
   "execution_count": 10,
   "metadata": {},
   "outputs": [],
   "source": [
    "import pandas as pd\n",
    "import matplotlib.pyplot as plt\n",
    "\n",
    "pd.options.display.float_format = \"{:,.2f}\".format"
   ]
  },
  {
   "cell_type": "code",
   "execution_count": 3,
   "metadata": {},
   "outputs": [],
   "source": [
    "CNAE_CBO_SEXO_2019_FREQ = pd.read_csv(\"../data/cleaned/CNAE_CBO_SEXO_2019_freq.csv\", sep = \";\", encoding = 'latin-1', skipinitialspace = True)"
   ]
  },
  {
   "cell_type": "code",
   "execution_count": 4,
   "metadata": {},
   "outputs": [],
   "source": [
    "CNAE_CBO_SEXO_2019_SUM = pd.read_csv(\"../data/cleaned/CNAE_CBO_SEXO_2019_sum.csv\", sep = \";\", index_col = 0, encoding = 'latin-1')"
   ]
  },
  {
   "cell_type": "code",
   "execution_count": 5,
   "metadata": {},
   "outputs": [],
   "source": [
    "frequencia_masc = (CNAE_CBO_SEXO_2019_FREQ['620_M'] + CNAE_CBO_SEXO_2019_FREQ['631_M']).sum()\n",
    "frequencia_fem = (CNAE_CBO_SEXO_2019_FREQ['620_F'] + CNAE_CBO_SEXO_2019_FREQ['631_F']).sum()\n",
    "frequencia_total = frequencia_masc + frequencia_fem\n",
    "\n",
    "porcentagem_freq_masc = (frequencia_masc / frequencia_total) * 100\n",
    "porcentagem_freq_fem = (frequencia_fem / frequencia_total) * 100"
   ]
  },
  {
   "cell_type": "code",
   "execution_count": 11,
   "metadata": {},
   "outputs": [
    {
     "data": {
      "text/html": [
       "<div>\n",
       "<style scoped>\n",
       "    .dataframe tbody tr th:only-of-type {\n",
       "        vertical-align: middle;\n",
       "    }\n",
       "\n",
       "    .dataframe tbody tr th {\n",
       "        vertical-align: top;\n",
       "    }\n",
       "\n",
       "    .dataframe thead th {\n",
       "        text-align: right;\n",
       "    }\n",
       "</style>\n",
       "<table border=\"1\" class=\"dataframe\">\n",
       "  <thead>\n",
       "    <tr style=\"text-align: right;\">\n",
       "      <th>Sexo</th>\n",
       "      <th>Pessoas</th>\n",
       "      <th>Pessoas (%)</th>\n",
       "    </tr>\n",
       "  </thead>\n",
       "  <tbody>\n",
       "    <tr>\n",
       "      <th>Masculino</th>\n",
       "      <td>193036</td>\n",
       "      <td>79.89</td>\n",
       "    </tr>\n",
       "    <tr>\n",
       "      <th>Feminino</th>\n",
       "      <td>48592</td>\n",
       "      <td>20.11</td>\n",
       "    </tr>\n",
       "  </tbody>\n",
       "</table>\n",
       "</div>"
      ],
      "text/plain": [
       "Sexo       Pessoas  Pessoas (%)\n",
       "Masculino   193036        79.89\n",
       "Feminino     48592        20.11"
      ]
     },
     "execution_count": 11,
     "metadata": {},
     "output_type": "execute_result"
    }
   ],
   "source": [
    "dist_freq_sexo = pd.DataFrame(\n",
    "    {'Pessoas': [frequencia_masc, frequencia_fem], \n",
    "     'Pessoas (%)': [porcentagem_freq_masc, porcentagem_freq_fem]}\n",
    ")\n",
    "dist_freq_sexo.rename(index = {0: 'Masculino', 1: 'Feminino'}, inplace = True)\n",
    "dist_freq_sexo.rename_axis('Sexo', axis = 'columns', inplace = True)\n",
    "dist_freq_sexo"
   ]
  },
  {
   "cell_type": "code",
   "execution_count": 28,
   "metadata": {},
   "outputs": [
    {
     "data": {
      "image/png": "[encoded data removed]",
      "text/plain": [
       "<Figure size 432x288 with 1 Axes>"
      ]
     },
     "metadata": {},
     "output_type": "display_data"
    }
   ],
   "source": [
    "freq_fig, freq_ax = plt.subplots()\n",
    "freq_ax.pie(dist_freq_sexo.Pessoas, labels = dist_freq_sexo.index, autopct = '%1.2f%%', startangle = 90)\n",
    "freq_ax.axis('equal')\n",
    "freq_fig.savefig(\"./figures/qnt_pessoas_sexo_pie.svg\")"
   ]
  },
  {
   "cell_type": "code",
   "execution_count": 25,
   "metadata": {},
   "outputs": [],
   "source": [
    "massa_salarial_masc = (CNAE_CBO_SEXO_2019_SUM['620_M'] + CNAE_CBO_SEXO_2019_SUM['631_M']).sum()\n",
    "massa_salarial_fem = (CNAE_CBO_SEXO_2019_SUM['620_F'] + CNAE_CBO_SEXO_2019_SUM['631_F']).sum()\n",
    "massa_salarial_total = massa_salarial_masc + massa_salarial_fem\n",
    "\n",
    "porcentagem_massa_masc = (massa_salarial_masc / massa_salarial_total) * 100\n",
    "porcentagem_massa_fem = (massa_salarial_fem / massa_salarial_total) * 100"
   ]
  },
  {
   "cell_type": "code",
   "execution_count": 27,
   "metadata": {},
   "outputs": [
    {
     "data": {
      "text/html": [
       "<div>\n",
       "<style scoped>\n",
       "    .dataframe tbody tr th:only-of-type {\n",
       "        vertical-align: middle;\n",
       "    }\n",
       "\n",
       "    .dataframe tbody tr th {\n",
       "        vertical-align: top;\n",
       "    }\n",
       "\n",
       "    .dataframe thead th {\n",
       "        text-align: right;\n",
       "    }\n",
       "</style>\n",
       "<table border=\"1\" class=\"dataframe\">\n",
       "  <thead>\n",
       "    <tr style=\"text-align: right;\">\n",
       "      <th>Sexo</th>\n",
       "      <th>Massa Salarial</th>\n",
       "      <th>Massa Salarial (%)</th>\n",
       "    </tr>\n",
       "  </thead>\n",
       "  <tbody>\n",
       "    <tr>\n",
       "      <th>Masculino</th>\n",
       "      <td>1,154,029,687.85</td>\n",
       "      <td>81.76</td>\n",
       "    </tr>\n",
       "    <tr>\n",
       "      <th>Feminino</th>\n",
       "      <td>257,440,496.00</td>\n",
       "      <td>18.24</td>\n",
       "    </tr>\n",
       "  </tbody>\n",
       "</table>\n",
       "</div>"
      ],
      "text/plain": [
       "Sexo        Massa Salarial  Massa Salarial (%)\n",
       "Masculino 1,154,029,687.85               81.76\n",
       "Feminino    257,440,496.00               18.24"
      ]
     },
     "execution_count": 27,
     "metadata": {},
     "output_type": "execute_result"
    }
   ],
   "source": [
    "dist_massa_sexo = pd.DataFrame(\n",
    "    {'Massa Salarial': [massa_salarial_masc, massa_salarial_fem], \n",
    "     'Massa Salarial (%)': [porcentagem_massa_masc, porcentagem_massa_fem]}\n",
    ")\n",
    "dist_massa_sexo.rename(index = {0: 'Masculino', 1: 'Feminino'}, inplace = True)\n",
    "dist_massa_sexo.rename_axis('Sexo', axis = 'columns', inplace = True)\n",
    "dist_massa_sexo"
   ]
  },
  {
   "cell_type": "code",
   "execution_count": 31,
   "metadata": {},
   "outputs": [
    {
     "data": {
      "image/png": "[encoded data removed]",
      "text/plain": [
       "<Figure size 432x288 with 1 Axes>"
      ]
     },
     "metadata": {},
     "output_type": "display_data"
    }
   ],
   "source": [
    "massa_fig, massa_ax = plt.subplots()\n",
    "massa_ax.pie(dist_massa_sexo['Massa Salarial'], labels = dist_massa_sexo.index, autopct = '%1.2f%%', startangle = 90)\n",
    "massa_ax.axis('equal')\n",
    "massa_fig.savefig(\"./figures/massa_salarial_sexo_pie.svg\")"
   ]
  },
  {
   "cell_type": "code",
   "execution_count": null,
   "metadata": {},
   "outputs": [],
   "source": []
  }
 ],
 "metadata": {
  "interpreter": {
   "hash": "4e754b94cf1e0815e70a639bcf2da61c2e733f1dcd0b7f2452ff33912e6e564f"
  },
  "kernelspec": {
   "display_name": "Python 3.9.4 64-bit ('ic_fatec39': conda)",
   "name": "python3"
  },
  "language_info": {
   "codemirror_mode": {
    "name": "ipython",
    "version": 3
   },
   "file_extension": ".py",
   "mimetype": "text/x-python",
   "name": "python",
   "nbconvert_exporter": "python",
   "pygments_lexer": "ipython3",
   "version": "3.9.4"
  },
  "orig_nbformat": 4
 },
 "nbformat": 4,
 "nbformat_minor": 2
}
