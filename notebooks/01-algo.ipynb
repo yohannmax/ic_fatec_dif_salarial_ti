{
 "cells": [
  {
   "cell_type": "code",
   "execution_count": 11,
   "metadata": {},
   "outputs": [],
   "source": [
    "import pandas as pd"
   ]
  },
  {
   "cell_type": "code",
   "execution_count": 44,
   "metadata": {},
   "outputs": [],
   "source": [
    "CNAE_CBO_SEXO_2019 = pd.read_csv(\"../data/cleaned//CNAE_CBO_SEXO_2019.csv\", sep = \";\", index_col = [0,1], encoding = 'latin-1')"
   ]
  },
  {
   "cell_type": "code",
   "execution_count": 55,
   "metadata": {},
   "outputs": [
    {
     "data": {
      "text/plain": [
       "MultiIndex([(                                                      nan, ...),\n",
       "            (              '1236:DIRETORES DE SERVICOS DE INFORMATICA', ...),\n",
       "            (                                                      nan, ...),\n",
       "            (                                                      nan, ...),\n",
       "            (              '1425:GERENTES DE TECNOLOGIA DA INFORMACAO', ...),\n",
       "            (                                                      nan, ...),\n",
       "            (                                                      nan, ...),\n",
       "            (                         '2122:ENGENHEIROS EM COMPUTACAO', ...),\n",
       "            (                                                      nan, ...),\n",
       "            (                                                      nan, ...),\n",
       "            (                      '2123:ESPECIALISTAS EM INFORMATICA', ...),\n",
       "            (                                                      nan, ...),\n",
       "            (                                                      nan, ...),\n",
       "            (              '2124:ANALISTAS DE SISTEMAS COMPUTACIONAIS', ...),\n",
       "            (                                                      nan, ...),\n",
       "            (                                                      nan, ...),\n",
       "            (                           '3171:TECNICOS EM PROGRAMACAO', ...),\n",
       "            (                                                      nan, ...),\n",
       "            (                                                      nan, ...),\n",
       "            ('3172:TECNICOS EM OPERACAO E MONITORACAO DE COMPUTADORES', ...),\n",
       "            (                                                      nan, ...),\n",
       "            (                                                      nan, ...)],\n",
       "           names=['CBO 2002 Família', 'agregado'])"
      ]
     },
     "execution_count": 55,
     "metadata": {},
     "output_type": "execute_result"
    }
   ],
   "source": [
    "CNAE_CBO_SEXO_2019"
   ]
  },
  {
   "cell_type": "code",
   "execution_count": null,
   "metadata": {},
   "outputs": [],
   "source": []
  }
 ],
 "metadata": {
  "interpreter": {
   "hash": "4e754b94cf1e0815e70a639bcf2da61c2e733f1dcd0b7f2452ff33912e6e564f"
  },
  "kernelspec": {
   "display_name": "Python 3.9.4 64-bit ('ic_fatec39': conda)",
   "name": "python3"
  },
  "language_info": {
   "codemirror_mode": {
    "name": "ipython",
    "version": 3
   },
   "file_extension": ".py",
   "mimetype": "text/x-python",
   "name": "python",
   "nbconvert_exporter": "python",
   "pygments_lexer": "ipython3",
   "version": "3.9.4"
  },
  "orig_nbformat": 4
 },
 "nbformat": 4,
 "nbformat_minor": 2
}
