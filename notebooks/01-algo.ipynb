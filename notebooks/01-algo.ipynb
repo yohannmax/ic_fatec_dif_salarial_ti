{
 "cells": [
  {
   "cell_type": "code",
   "execution_count": 8,
   "metadata": {},
   "outputs": [],
   "source": [
    "import pandas as pd"
   ]
  },
  {
   "cell_type": "code",
   "execution_count": 6,
   "metadata": {},
   "outputs": [
    {
     "data": {
      "text/plain": [
       "'CNAE_CBO_SEXO_2019.csv'"
      ]
     },
     "execution_count": 6,
     "metadata": {},
     "output_type": "execute_result"
    }
   ],
   "source": [
    "\"CNAE_CBO_SEXO_2019.csv\""
   ]
  },
  {
   "cell_type": "code",
   "execution_count": 61,
   "metadata": {},
   "outputs": [],
   "source": [
    "CNAE_CBO_SEXO_2019 = pd.read_csv(\"../data/cleaned/CNAE_CBO_SEXO_2019.csv\", sep = \";\", index_col = [0,1], encoding = 'latin-1')"
   ]
  },
  {
   "cell_type": "code",
   "execution_count": 101,
   "metadata": {},
   "outputs": [
    {
     "data": {
      "text/html": [
       "<div>\n",
       "<style scoped>\n",
       "    .dataframe tbody tr th:only-of-type {\n",
       "        vertical-align: middle;\n",
       "    }\n",
       "\n",
       "    .dataframe tbody tr th {\n",
       "        vertical-align: top;\n",
       "    }\n",
       "\n",
       "    .dataframe thead th {\n",
       "        text-align: right;\n",
       "    }\n",
       "</style>\n",
       "<table border=\"1\" class=\"dataframe\">\n",
       "  <thead>\n",
       "    <tr style=\"text-align: right;\">\n",
       "      <th></th>\n",
       "      <th></th>\n",
       "      <th>620:M</th>\n",
       "      <th>620:F</th>\n",
       "      <th>631:M</th>\n",
       "      <th>631:F</th>\n",
       "    </tr>\n",
       "    <tr>\n",
       "      <th>CBO_FAMIL</th>\n",
       "      <th>TIPO_DADO</th>\n",
       "      <th></th>\n",
       "      <th></th>\n",
       "      <th></th>\n",
       "      <th></th>\n",
       "    </tr>\n",
       "  </thead>\n",
       "  <tbody>\n",
       "    <tr>\n",
       "      <th>1236</th>\n",
       "      <th>sum</th>\n",
       "      <td>1.411959e+07</td>\n",
       "      <td>1.925808e+06</td>\n",
       "      <td>1341897.36</td>\n",
       "      <td>400845.89</td>\n",
       "    </tr>\n",
       "    <tr>\n",
       "      <th>1425</th>\n",
       "      <th>sum</th>\n",
       "      <td>1.267494e+08</td>\n",
       "      <td>3.425039e+07</td>\n",
       "      <td>12074624.70</td>\n",
       "      <td>2696317.74</td>\n",
       "    </tr>\n",
       "    <tr>\n",
       "      <th>2122</th>\n",
       "      <th>sum</th>\n",
       "      <td>3.812691e+07</td>\n",
       "      <td>4.588985e+06</td>\n",
       "      <td>7541340.31</td>\n",
       "      <td>953891.81</td>\n",
       "    </tr>\n",
       "    <tr>\n",
       "      <th>2123</th>\n",
       "      <th>sum</th>\n",
       "      <td>4.850029e+07</td>\n",
       "      <td>8.395919e+06</td>\n",
       "      <td>6582728.33</td>\n",
       "      <td>630752.99</td>\n",
       "    </tr>\n",
       "    <tr>\n",
       "      <th>2124</th>\n",
       "      <th>sum</th>\n",
       "      <td>6.137323e+08</td>\n",
       "      <td>1.468348e+08</td>\n",
       "      <td>66131278.43</td>\n",
       "      <td>15641804.89</td>\n",
       "    </tr>\n",
       "    <tr>\n",
       "      <th>3171</th>\n",
       "      <th>sum</th>\n",
       "      <td>1.509849e+08</td>\n",
       "      <td>2.227089e+07</td>\n",
       "      <td>9268820.17</td>\n",
       "      <td>1150304.96</td>\n",
       "    </tr>\n",
       "    <tr>\n",
       "      <th>3172</th>\n",
       "      <th>sum</th>\n",
       "      <td>4.917922e+07</td>\n",
       "      <td>1.488892e+07</td>\n",
       "      <td>9696404.44</td>\n",
       "      <td>2810834.92</td>\n",
       "    </tr>\n",
       "  </tbody>\n",
       "</table>\n",
       "</div>"
      ],
      "text/plain": [
       "                            620:M         620:F        631:M        631:F\n",
       "CBO_FAMIL TIPO_DADO                                                      \n",
       "1236      sum        1.411959e+07  1.925808e+06   1341897.36    400845.89\n",
       "1425      sum        1.267494e+08  3.425039e+07  12074624.70   2696317.74\n",
       "2122      sum        3.812691e+07  4.588985e+06   7541340.31    953891.81\n",
       "2123      sum        4.850029e+07  8.395919e+06   6582728.33    630752.99\n",
       "2124      sum        6.137323e+08  1.468348e+08  66131278.43  15641804.89\n",
       "3171      sum        1.509849e+08  2.227089e+07   9268820.17   1150304.96\n",
       "3172      sum        4.917922e+07  1.488892e+07   9696404.44   2810834.92"
      ]
     },
     "execution_count": 101,
     "metadata": {},
     "output_type": "execute_result"
    }
   ],
   "source": [
    "df = CNAE_CBO_SEXO_2019.query(\"TIPO_DADO == 'sum'\")\n",
    "df"
   ]
  },
  {
   "cell_type": "code",
   "execution_count": 70,
   "metadata": {},
   "outputs": [
    {
     "data": {
      "text/plain": [
       "620:M     9572.526255\n",
       "620:F     8258.499840\n",
       "631:M    10319.017486\n",
       "631:F    11646.219986\n",
       "dtype: float64"
      ]
     },
     "execution_count": 70,
     "metadata": {},
     "output_type": "execute_result"
    }
   ],
   "source": [
    "CNAE_CBO_SEXO_2019.query(\"TIPO_DADO == 'mean'\").sum()/len(df.index)"
   ]
  },
  {
   "cell_type": "code",
   "execution_count": 99,
   "metadata": {},
   "outputs": [
    {
     "name": "stdout",
     "output_type": "stream",
     "text": [
      "9945.771870725564\n",
      "9952.359913140217\n"
     ]
    }
   ],
   "source": [
    "mean_m = (df.loc[:,df.columns.str.contains('M')].sum(1)/2).sum()/len(df.index)\n",
    "print(mean_m)\n",
    "mean_f = (df.loc[:,df.columns.str.contains('F')].sum(1)/2).sum()/len(df.index)\n",
    "print(mean_f)"
   ]
  },
  {
   "cell_type": "code",
   "execution_count": null,
   "metadata": {},
   "outputs": [],
   "source": []
  }
 ],
 "metadata": {
  "interpreter": {
   "hash": "4e754b94cf1e0815e70a639bcf2da61c2e733f1dcd0b7f2452ff33912e6e564f"
  },
  "kernelspec": {
   "display_name": "Python 3.9.4 64-bit ('ic_fatec39': conda)",
   "name": "python3"
  },
  "language_info": {
   "codemirror_mode": {
    "name": "ipython",
    "version": 3
   },
   "file_extension": ".py",
   "mimetype": "text/x-python",
   "name": "python",
   "nbconvert_exporter": "python",
   "pygments_lexer": "ipython3",
   "version": "3.9.4"
  },
  "orig_nbformat": 4
 },
 "nbformat": 4,
 "nbformat_minor": 2
}
